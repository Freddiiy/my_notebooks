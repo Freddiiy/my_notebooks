{
 "cells": [
  {
   "cell_type": "markdown",
   "metadata": {
    "slideshow": {
     "slide_type": "slide"
    },
    "pycharm": {
     "name": "#%% md\n"
    }
   },
   "source": [
    "## CLI Arguments in Python"
   ]
  },
  {
   "cell_type": "code",
   "execution_count": 1,
   "metadata": {
    "slideshow": {
     "slide_type": "subslide"
    },
    "pycharm": {
     "name": "#%%\n"
    }
   },
   "outputs": [
    {
     "name": "stdout",
     "output_type": "stream",
     "text": [
      "['/opt/conda/lib/python3.7/site-packages/ipykernel_launcher.py', '-f', '/tmp/kernel-c6e58cba-bfd9-442a-93d2-194a8d81b27a.json']\n"
     ]
    }
   ],
   "source": [
    "import sys\n",
    "print(sys.argv)"
   ]
  },
  {
   "cell_type": "markdown",
   "metadata": {
    "slideshow": {
     "slide_type": "subslide"
    },
    "pycharm": {
     "name": "#%% md\n"
    }
   },
   "source": [
    "## argparse library\n",
    "\n",
    "https://docs.python.org/3/library/argparse.html"
   ]
  },
  {
   "cell_type": "markdown",
   "metadata": {
    "slideshow": {
     "slide_type": "subslide"
    },
    "pycharm": {
     "name": "#%% md\n"
    }
   },
   "source": [
    "### argparse example\n",
    "```python\n",
    "import argparse\n",
    "parser= argparse.ArgumentParser(description='A program that downloads a URL and stores it locally')\n",
    "print(parser.parse_args())\n",
    "```"
   ]
  },
  {
   "cell_type": "markdown",
   "metadata": {
    "slideshow": {
     "slide_type": "subslide"
    },
    "pycharm": {
     "name": "#%% md\n"
    }
   },
   "source": [
    "## Adding positional arguments\n",
    "\n",
    "```python\n",
    "parser.add_argument('url', help='an integer for the accumulator')\n",
    "```\n",
    "\n",
    "* Positional arguments are **required**"
   ]
  },
  {
   "cell_type": "markdown",
   "metadata": {
    "slideshow": {
     "slide_type": "subslide"
    },
    "pycharm": {
     "name": "#%% md\n"
    }
   },
   "source": [
    "## Getting argument values\n",
    "\n",
    "```python3\n",
    "args = parser.parse_args()\n",
    "print(args.url)\n",
    "```"
   ]
  },
  {
   "cell_type": "markdown",
   "metadata": {
    "pycharm": {
     "name": "#%% md\n"
    }
   },
   "source": [
    "## See example in modules/cli_examples\n",
    "from the docker container terminal at /home/jovyan/work/modules/cli_examples run:  \n",
    "`python cli_5.py` and:  \n",
    "`python cli_5.py example.com -d /tmp` and   \n",
    "`python cli_5.py --help`"
   ]
  },
  {
   "cell_type": "markdown",
   "metadata": {
    "slideshow": {
     "slide_type": "subslide"
    },
    "pycharm": {
     "name": "#%% md\n"
    }
   },
   "source": [
    "## Exercise\n",
    "\n",
    "1. Create a file with a `if __name__ == '__main__':` clause\n",
    "2. Use the `argparse` library to create an `ArgumentParser`\n",
    "3. Add the *positional* argument `name` that gives you a string\n",
    "4. Save that name into a string"
   ]
  },
  {
   "cell_type": "markdown",
   "metadata": {
    "slideshow": {
     "slide_type": "subslide"
    },
    "pycharm": {
     "name": "#%% md\n"
    }
   },
   "source": [
    "## Adding optional arguments\n",
    "\n",
    "* Convention: optional arguments are prepended with `-` or `--`\n",
    "\n",
    "```python3\n",
    "parser.add_argument('--destination', help='The name of the file to store the url in')\n",
    "```"
   ]
  },
  {
   "cell_type": "code",
   "execution_count": 1,
   "metadata": {
    "pycharm": {
     "name": "#%%\n"
    }
   },
   "outputs": [
    {
     "name": "stdout",
     "output_type": "stream",
     "text": [
      "'00-1 Exam.ipynb'\r\n",
      "'00 Videos.ipynb'\r\n",
      "'01-0 Getting Started with installations etc.ipynb'\r\n",
      "'01-0 Test setup.ipynb'\r\n",
      "'01-1 Intro.ipynb'\r\n",
      "'01-2 Python language features.ipynb'\r\n",
      "'01-3 Python data structures (lists and tuples).ipynb'\r\n",
      "'01-4 Data structures (Dictionaries).ipynb'\r\n",
      " 01-Exercise.ipynb\r\n",
      "'02-1 Loops.ipynb'\r\n",
      "'02-2 Functions.ipynb'\r\n",
      "'02-3 Modules.ipynb'\r\n",
      " 02-4_argparse.ipynb\r\n",
      "'02-5 Working with Files.ipynb'\r\n",
      "'02-6 Testing.ipynb'\r\n",
      " 02-Exercise.ipynb\r\n",
      "'03-1 Object-oriented Programming.ipynb'\r\n",
      "'03-2 Exceptions.ipynb'\r\n",
      "'03-3 Plotting.ipynb'\r\n",
      " 03-Exercise.ipynb\r\n",
      " 04-Exercise.ipynb\r\n",
      "'04 Numpy.ipynb'\r\n",
      "'05-1 Time series.ipynb'\r\n",
      "'05-2 pandas.ipynb'\r\n",
      "'05-3 Subprocess.ipynb'\r\n",
      " 05-Exercise.ipynb\r\n",
      "'06-1 Iterators and Generators.ipynb'\r\n",
      "'06-2 Requests.ipynb'\r\n",
      "'06-3 Concurrency vs Paralelism.ipynb'\r\n",
      " 06-Exercise.ipynb\r\n",
      "'07-1 webscraping.ipynb'\r\n",
      "'07-2 Regular Expressions.ipynb'\r\n",
      "'07-3 selenium.ipynb'\r\n",
      " 07x.ipynb\r\n",
      " 08-1-Machine-Learning-basics-and-Feature-spaces.ipynb\r\n",
      " 08-2-Linear-Algebra.ipynb\r\n",
      "'08-3 numeric_data.ipynb'\r\n",
      " 08-4-Linear-Regression-model-sklearn.ipynb\r\n",
      " 08-Exercise.ipynb\r\n",
      "'09-1 Clustering With MeanShift.ipynb'\r\n",
      "'09-2 Clustering Titanic example.ipynb'\r\n",
      " 10-0-Classification.ipynb\r\n",
      " 10-1-Perceptron-Classifier.ipynb\r\n",
      " 11-2-Exercise-Perceptrons.ipynb\r\n",
      " 11-3-Neural-Networks.ipynb\r\n",
      " 11-4-handwritten-numbers.ipynb\r\n",
      " 11-5-Classification-decision-tree.ipynb\r\n",
      " 11-6-Model-Validation.ipynb\r\n",
      " 11Exercise.ipynb\r\n",
      " 12-1-OpenCV.ipynb\r\n",
      "'12-2-Object recognition.ipynb'\r\n",
      " 12Exercise.ipynb\r\n",
      " 13-1-Text-Preprocessing.ipynb\r\n",
      " 13-1-wordclouds.ipynb\r\n",
      " 13-2-IMDB-Reviewtext-binary-classification.ipynb\r\n",
      " 3d_histo2.png\r\n",
      " 3d_histo.png\r\n",
      " agendas\r\n",
      " data\r\n",
      " Exam_proposals2019.md\r\n",
      " exam_questions.md\r\n",
      " flask\r\n",
      " images\r\n",
      " __init__.py\r\n",
      " modules\r\n",
      " my_notebooks\r\n",
      " nltk_data\r\n",
      " obj-detected.jpg\r\n",
      " osm2.html\r\n",
      " osm.html\r\n",
      " pi_30_digits.txt\r\n",
      " pi_million_digits.txt\r\n",
      " squares_plot.png\r\n",
      " winemag-data-130k-v2.csv\r\n"
     ]
    }
   ],
   "source": [
    "!ls"
   ]
  },
  {
   "cell_type": "markdown",
   "metadata": {
    "slideshow": {
     "slide_type": "subslide"
    },
    "pycharm": {
     "name": "#%% md\n"
    }
   },
   "source": [
    "## Optional arguments shorthands\n",
    "\n",
    "```python3\n",
    "parser.add_argument('-d', '--destination', help='The name of the file to store the url in')\n",
    "```"
   ]
  },
  {
   "cell_type": "markdown",
   "metadata": {
    "slideshow": {
     "slide_type": "subslide"
    },
    "pycharm": {
     "name": "#%% md\n"
    }
   },
   "source": [
    "## Argument default values\n",
    "\n",
    "```python3\n",
    "parser.add_argument('-d', '--destination', default='default_file.exe' help='The name of the file to store the url in')\n",
    "```"
   ]
  },
  {
   "cell_type": "markdown",
   "metadata": {
    "slideshow": {
     "slide_type": "subslide"
    },
    "pycharm": {
     "name": "#%% md\n"
    }
   },
   "source": [
    "## Exercise\n",
    "\n",
    "Implement a small download program, using `https://hackernews.com` as a test URL:\n",
    "\n",
    "1. Create a cli program to take 2 arguments: url (required) and destination_file (optional)\n",
    "2. Create a description of what the program does\n",
    "3. Implement the download part\n",
    "  * If no destination file was specified, save the file in `default_file.dat`\n",
    "4. Improve the code: if no destination file was specified, use the last subset of the URL as the name for the file\n",
    "5. Improve the code: if no destination file was specified, use the MIME-type of the HTTP header to guess the file extension"
   ]
  }
 ],
 "metadata": {
  "celltoolbar": "Slideshow",
  "kernelspec": {
   "display_name": "Python 3",
   "language": "python",
   "name": "python3"
  },
  "language_info": {
   "codemirror_mode": {
    "name": "ipython",
    "version": 3
   },
   "file_extension": ".py",
   "mimetype": "text/x-python",
   "name": "python",
   "nbconvert_exporter": "python",
   "pygments_lexer": "ipython3",
   "version": "3.7.6"
  },
  "varInspector": {
   "cols": {
    "lenName": 16,
    "lenType": 16,
    "lenVar": 40
   },
   "kernels_config": {
    "python": {
     "delete_cmd_postfix": "",
     "delete_cmd_prefix": "del ",
     "library": "var_list.py",
     "varRefreshCmd": "print(var_dic_list())"
    },
    "r": {
     "delete_cmd_postfix": ") ",
     "delete_cmd_prefix": "rm(",
     "library": "var_list.r",
     "varRefreshCmd": "cat(var_dic_list()) "
    }
   },
   "types_to_exclude": [
    "module",
    "function",
    "builtin_function_or_method",
    "instance",
    "_Feature"
   ],
   "window_display": false
  }
 },
 "nbformat": 4,
 "nbformat_minor": 2
}