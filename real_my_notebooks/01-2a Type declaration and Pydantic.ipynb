{
 "cells": [
  {
   "cell_type": "markdown",
   "metadata": {},
   "source": [
    "# [Type declaration](https://docs.python.org/3/library/typing.html) in python\n",
    "\n",
    "**Note**: The Python runtime does not enforce function and variable type annotations. They can be used by third party tools such as type checkers, IDEs, linters, etc. \n",
    "\n",
    "```python\n",
    "def greeting(name: str) -> str:\n",
    "    return 'Hello ' + name\n",
    "```\n",
    "Editor type hints can be supplemented with [**pydantic**](https://pydantic-docs.helpmanual.io), which enforces type hints at runtime, and provides user friendly errors when data is invalid"
   ]
  }
 ],
 "metadata": {
  "kernelspec": {
   "display_name": "Python 3",
   "language": "python",
   "name": "python3"
  },
  "language_info": {
   "codemirror_mode": {
    "name": "ipython",
    "version": 3
   },
   "file_extension": ".py",
   "mimetype": "text/x-python",
   "name": "python",
   "nbconvert_exporter": "python",
   "pygments_lexer": "ipython3",
   "version": "3.7.6"
  }
 },
 "nbformat": 4,
 "nbformat_minor": 4
}
