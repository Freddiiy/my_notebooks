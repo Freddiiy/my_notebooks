{
 "cells": [
  {
   "cell_type": "markdown",
   "source": [
    "# Classification\n",
    "## Part 1:\n",
    "\n",
    "### Use K-Nearest Neighbour on AirBnb [data](https://www.kaggle.com/datasets/dgomonov/new-york-city-airbnb-open-data?resource=download)\n",
    "### [Reference to example code](https://www.tutorialspoint.com/scikit_learn/scikit_learn_kneighbors_classifier.htm)\n",
    "- The data file is already downloaded to: data/AB_NYC_2019.csv. Load it into pandas dataframe\n",
    "- Purpose of this exercise is to use K-Neares-Neighbor algorithm to make a binary classification in order to estimate if the price of a specific Airbnb accommodation will be above or below the median,\n",
    "- First we will try to do it based on **only 2 features: longitude and latitude.**\n",
    "- Next we will see if we can improve accuracy with using more features\n",
    "- As independent variables, we have location, neighborhood and the number of reviews the acommodation has on Airbnb.\n",
    "#### Part 1.1: 20 min.\n",
    "1. Use the following imports:\n",
    "```python\n",
    "import pandas as pd\n",
    "import numpy as np\n",
    "from sklearn.preprocessing import StandardScaler, LabelBinarizer\n",
    "from sklearn.model_selection import train_test_split\n",
    "from sklearn.neighbors import KNeighborsClassifier\n",
    "from sklearn.metrics import auc, roc_curve, confusion_matrix\n",
    "```\n",
    "2. Get the data into a pandas dataframe\n",
    "3. Add a column to the dataframe: \"is_cheap\", that contains boolean values for the price being below median. Hint: DataFrame has a median() method. This column contains our target data: y\n",
    "#### Part 1.2: 25 min\n",
    "4. Create a Classifier model with `KNeighborsClassifier()` and give it an arbitrary number for the n_neighbors argument\n",
    "5. Create input data: X as a DataFrame containing only longitude and latitude.\n",
    "5. Based on X and y (the target data) above, split data into training and test data using train_test_split() method with 33% test data.\n",
    "6. Fit the model with the training data. Hint: `knn_class.fit(X_train, y_train)`\n",
    "7. And make predictions with the test data. Hint: `knn_class.predict(X_test)`\n",
    "\n",
    "\n",
    "## Part 2 Neural Network\n"
   ],
   "metadata": {
    "collapsed": false
   }
  },
  {
   "cell_type": "code",
   "execution_count": 40,
   "metadata": {
    "collapsed": true
   },
   "outputs": [],
   "source": [
    "import pandas as pd\n",
    "import numpy as np\n",
    "from sklearn.preprocessing import StandardScaler, LabelBinarizer\n",
    "from sklearn.model_selection import train_test_split\n",
    "from sklearn.neighbors import KNeighborsClassifier\n",
    "from sklearn.metrics import auc, roc_curve, confusion_matrix"
   ]
  },
  {
   "cell_type": "code",
   "execution_count": 40,
   "outputs": [],
   "source": [],
   "metadata": {
    "collapsed": false
   }
  },
  {
   "cell_type": "code",
   "execution_count": 41,
   "outputs": [
    {
     "data": {
      "text/plain": "             id                                               name   host_id  \\\n0          2539                 Clean & quiet apt home by the park      2787   \n1          2595                              Skylit Midtown Castle      2845   \n2          3647                THE VILLAGE OF HARLEM....NEW YORK !      4632   \n3          3831                    Cozy Entire Floor of Brownstone      4869   \n4          5022   Entire Apt: Spacious Studio/Loft by central park      7192   \n...         ...                                                ...       ...   \n48890  36484665    Charming one bedroom - newly renovated rowhouse   8232441   \n48891  36485057      Affordable room in Bushwick/East Williamsburg   6570630   \n48892  36485431            Sunny Studio at Historical Neighborhood  23492952   \n48893  36485609               43rd St. Time Square-cozy single bed  30985759   \n48894  36487245  Trendy duplex in the very heart of Hell's Kitchen  68119814   \n\n           host_name neighbourhood_group       neighbourhood  latitude  \\\n0               John            Brooklyn          Kensington  40.64749   \n1           Jennifer           Manhattan             Midtown  40.75362   \n2          Elisabeth           Manhattan              Harlem  40.80902   \n3        LisaRoxanne            Brooklyn        Clinton Hill  40.68514   \n4              Laura           Manhattan         East Harlem  40.79851   \n...              ...                 ...                 ...       ...   \n48890        Sabrina            Brooklyn  Bedford-Stuyvesant  40.67853   \n48891        Marisol            Brooklyn            Bushwick  40.70184   \n48892  Ilgar & Aysel           Manhattan              Harlem  40.81475   \n48893            Taz           Manhattan      Hell's Kitchen  40.75751   \n48894     Christophe           Manhattan      Hell's Kitchen  40.76404   \n\n       longitude        room_type  price  minimum_nights  number_of_reviews  \\\n0      -73.97237     Private room    149               1                  9   \n1      -73.98377  Entire home/apt    225               1                 45   \n2      -73.94190     Private room    150               3                  0   \n3      -73.95976  Entire home/apt     89               1                270   \n4      -73.94399  Entire home/apt     80              10                  9   \n...          ...              ...    ...             ...                ...   \n48890  -73.94995     Private room     70               2                  0   \n48891  -73.93317     Private room     40               4                  0   \n48892  -73.94867  Entire home/apt    115              10                  0   \n48893  -73.99112      Shared room     55               1                  0   \n48894  -73.98933     Private room     90               7                  0   \n\n      last_review  reviews_per_month  calculated_host_listings_count  \\\n0      2018-10-19               0.21                               6   \n1      2019-05-21               0.38                               2   \n2             NaN                NaN                               1   \n3      2019-07-05               4.64                               1   \n4      2018-11-19               0.10                               1   \n...           ...                ...                             ...   \n48890         NaN                NaN                               2   \n48891         NaN                NaN                               2   \n48892         NaN                NaN                               1   \n48893         NaN                NaN                               6   \n48894         NaN                NaN                               1   \n\n       availability_365  is_cheap  \n0                   365     False  \n1                   355     False  \n2                   365     False  \n3                   194      True  \n4                     0      True  \n...                 ...       ...  \n48890                 9      True  \n48891                36      True  \n48892                27     False  \n48893                 2      True  \n48894                23      True  \n\n[48895 rows x 17 columns]",
      "text/html": "<div>\n<style scoped>\n    .dataframe tbody tr th:only-of-type {\n        vertical-align: middle;\n    }\n\n    .dataframe tbody tr th {\n        vertical-align: top;\n    }\n\n    .dataframe thead th {\n        text-align: right;\n    }\n</style>\n<table border=\"1\" class=\"dataframe\">\n  <thead>\n    <tr style=\"text-align: right;\">\n      <th></th>\n      <th>id</th>\n      <th>name</th>\n      <th>host_id</th>\n      <th>host_name</th>\n      <th>neighbourhood_group</th>\n      <th>neighbourhood</th>\n      <th>latitude</th>\n      <th>longitude</th>\n      <th>room_type</th>\n      <th>price</th>\n      <th>minimum_nights</th>\n      <th>number_of_reviews</th>\n      <th>last_review</th>\n      <th>reviews_per_month</th>\n      <th>calculated_host_listings_count</th>\n      <th>availability_365</th>\n      <th>is_cheap</th>\n    </tr>\n  </thead>\n  <tbody>\n    <tr>\n      <th>0</th>\n      <td>2539</td>\n      <td>Clean &amp; quiet apt home by the park</td>\n      <td>2787</td>\n      <td>John</td>\n      <td>Brooklyn</td>\n      <td>Kensington</td>\n      <td>40.64749</td>\n      <td>-73.97237</td>\n      <td>Private room</td>\n      <td>149</td>\n      <td>1</td>\n      <td>9</td>\n      <td>2018-10-19</td>\n      <td>0.21</td>\n      <td>6</td>\n      <td>365</td>\n      <td>False</td>\n    </tr>\n    <tr>\n      <th>1</th>\n      <td>2595</td>\n      <td>Skylit Midtown Castle</td>\n      <td>2845</td>\n      <td>Jennifer</td>\n      <td>Manhattan</td>\n      <td>Midtown</td>\n      <td>40.75362</td>\n      <td>-73.98377</td>\n      <td>Entire home/apt</td>\n      <td>225</td>\n      <td>1</td>\n      <td>45</td>\n      <td>2019-05-21</td>\n      <td>0.38</td>\n      <td>2</td>\n      <td>355</td>\n      <td>False</td>\n    </tr>\n    <tr>\n      <th>2</th>\n      <td>3647</td>\n      <td>THE VILLAGE OF HARLEM....NEW YORK !</td>\n      <td>4632</td>\n      <td>Elisabeth</td>\n      <td>Manhattan</td>\n      <td>Harlem</td>\n      <td>40.80902</td>\n      <td>-73.94190</td>\n      <td>Private room</td>\n      <td>150</td>\n      <td>3</td>\n      <td>0</td>\n      <td>NaN</td>\n      <td>NaN</td>\n      <td>1</td>\n      <td>365</td>\n      <td>False</td>\n    </tr>\n    <tr>\n      <th>3</th>\n      <td>3831</td>\n      <td>Cozy Entire Floor of Brownstone</td>\n      <td>4869</td>\n      <td>LisaRoxanne</td>\n      <td>Brooklyn</td>\n      <td>Clinton Hill</td>\n      <td>40.68514</td>\n      <td>-73.95976</td>\n      <td>Entire home/apt</td>\n      <td>89</td>\n      <td>1</td>\n      <td>270</td>\n      <td>2019-07-05</td>\n      <td>4.64</td>\n      <td>1</td>\n      <td>194</td>\n      <td>True</td>\n    </tr>\n    <tr>\n      <th>4</th>\n      <td>5022</td>\n      <td>Entire Apt: Spacious Studio/Loft by central park</td>\n      <td>7192</td>\n      <td>Laura</td>\n      <td>Manhattan</td>\n      <td>East Harlem</td>\n      <td>40.79851</td>\n      <td>-73.94399</td>\n      <td>Entire home/apt</td>\n      <td>80</td>\n      <td>10</td>\n      <td>9</td>\n      <td>2018-11-19</td>\n      <td>0.10</td>\n      <td>1</td>\n      <td>0</td>\n      <td>True</td>\n    </tr>\n    <tr>\n      <th>...</th>\n      <td>...</td>\n      <td>...</td>\n      <td>...</td>\n      <td>...</td>\n      <td>...</td>\n      <td>...</td>\n      <td>...</td>\n      <td>...</td>\n      <td>...</td>\n      <td>...</td>\n      <td>...</td>\n      <td>...</td>\n      <td>...</td>\n      <td>...</td>\n      <td>...</td>\n      <td>...</td>\n      <td>...</td>\n    </tr>\n    <tr>\n      <th>48890</th>\n      <td>36484665</td>\n      <td>Charming one bedroom - newly renovated rowhouse</td>\n      <td>8232441</td>\n      <td>Sabrina</td>\n      <td>Brooklyn</td>\n      <td>Bedford-Stuyvesant</td>\n      <td>40.67853</td>\n      <td>-73.94995</td>\n      <td>Private room</td>\n      <td>70</td>\n      <td>2</td>\n      <td>0</td>\n      <td>NaN</td>\n      <td>NaN</td>\n      <td>2</td>\n      <td>9</td>\n      <td>True</td>\n    </tr>\n    <tr>\n      <th>48891</th>\n      <td>36485057</td>\n      <td>Affordable room in Bushwick/East Williamsburg</td>\n      <td>6570630</td>\n      <td>Marisol</td>\n      <td>Brooklyn</td>\n      <td>Bushwick</td>\n      <td>40.70184</td>\n      <td>-73.93317</td>\n      <td>Private room</td>\n      <td>40</td>\n      <td>4</td>\n      <td>0</td>\n      <td>NaN</td>\n      <td>NaN</td>\n      <td>2</td>\n      <td>36</td>\n      <td>True</td>\n    </tr>\n    <tr>\n      <th>48892</th>\n      <td>36485431</td>\n      <td>Sunny Studio at Historical Neighborhood</td>\n      <td>23492952</td>\n      <td>Ilgar &amp; Aysel</td>\n      <td>Manhattan</td>\n      <td>Harlem</td>\n      <td>40.81475</td>\n      <td>-73.94867</td>\n      <td>Entire home/apt</td>\n      <td>115</td>\n      <td>10</td>\n      <td>0</td>\n      <td>NaN</td>\n      <td>NaN</td>\n      <td>1</td>\n      <td>27</td>\n      <td>False</td>\n    </tr>\n    <tr>\n      <th>48893</th>\n      <td>36485609</td>\n      <td>43rd St. Time Square-cozy single bed</td>\n      <td>30985759</td>\n      <td>Taz</td>\n      <td>Manhattan</td>\n      <td>Hell's Kitchen</td>\n      <td>40.75751</td>\n      <td>-73.99112</td>\n      <td>Shared room</td>\n      <td>55</td>\n      <td>1</td>\n      <td>0</td>\n      <td>NaN</td>\n      <td>NaN</td>\n      <td>6</td>\n      <td>2</td>\n      <td>True</td>\n    </tr>\n    <tr>\n      <th>48894</th>\n      <td>36487245</td>\n      <td>Trendy duplex in the very heart of Hell's Kitchen</td>\n      <td>68119814</td>\n      <td>Christophe</td>\n      <td>Manhattan</td>\n      <td>Hell's Kitchen</td>\n      <td>40.76404</td>\n      <td>-73.98933</td>\n      <td>Private room</td>\n      <td>90</td>\n      <td>7</td>\n      <td>0</td>\n      <td>NaN</td>\n      <td>NaN</td>\n      <td>1</td>\n      <td>23</td>\n      <td>True</td>\n    </tr>\n  </tbody>\n</table>\n<p>48895 rows × 17 columns</p>\n</div>"
     },
     "execution_count": 41,
     "metadata": {},
     "output_type": "execute_result"
    }
   ],
   "source": [
    "df = pd.read_csv(\"../../data/AB_NYC_2019.csv\")\n",
    "\n",
    "df[\"is_cheap\"] = df.price < df.price.median()\n",
    "\n",
    "df"
   ],
   "metadata": {
    "collapsed": false
   }
  },
  {
   "cell_type": "code",
   "execution_count": 42,
   "outputs": [
    {
     "data": {
      "text/plain": "       latitude  lonitude\n0      40.64749 -73.97237\n1      40.75362 -73.98377\n2      40.80902 -73.94190\n3      40.68514 -73.95976\n4      40.79851 -73.94399\n...         ...       ...\n48890  40.67853 -73.94995\n48891  40.70184 -73.93317\n48892  40.81475 -73.94867\n48893  40.75751 -73.99112\n48894  40.76404 -73.98933\n\n[48895 rows x 2 columns]",
      "text/html": "<div>\n<style scoped>\n    .dataframe tbody tr th:only-of-type {\n        vertical-align: middle;\n    }\n\n    .dataframe tbody tr th {\n        vertical-align: top;\n    }\n\n    .dataframe thead th {\n        text-align: right;\n    }\n</style>\n<table border=\"1\" class=\"dataframe\">\n  <thead>\n    <tr style=\"text-align: right;\">\n      <th></th>\n      <th>latitude</th>\n      <th>lonitude</th>\n    </tr>\n  </thead>\n  <tbody>\n    <tr>\n      <th>0</th>\n      <td>40.64749</td>\n      <td>-73.97237</td>\n    </tr>\n    <tr>\n      <th>1</th>\n      <td>40.75362</td>\n      <td>-73.98377</td>\n    </tr>\n    <tr>\n      <th>2</th>\n      <td>40.80902</td>\n      <td>-73.94190</td>\n    </tr>\n    <tr>\n      <th>3</th>\n      <td>40.68514</td>\n      <td>-73.95976</td>\n    </tr>\n    <tr>\n      <th>4</th>\n      <td>40.79851</td>\n      <td>-73.94399</td>\n    </tr>\n    <tr>\n      <th>...</th>\n      <td>...</td>\n      <td>...</td>\n    </tr>\n    <tr>\n      <th>48890</th>\n      <td>40.67853</td>\n      <td>-73.94995</td>\n    </tr>\n    <tr>\n      <th>48891</th>\n      <td>40.70184</td>\n      <td>-73.93317</td>\n    </tr>\n    <tr>\n      <th>48892</th>\n      <td>40.81475</td>\n      <td>-73.94867</td>\n    </tr>\n    <tr>\n      <th>48893</th>\n      <td>40.75751</td>\n      <td>-73.99112</td>\n    </tr>\n    <tr>\n      <th>48894</th>\n      <td>40.76404</td>\n      <td>-73.98933</td>\n    </tr>\n  </tbody>\n</table>\n<p>48895 rows × 2 columns</p>\n</div>"
     },
     "execution_count": 42,
     "metadata": {},
     "output_type": "execute_result"
    }
   ],
   "source": [
    "knn = KNeighborsClassifier(n_neighbors=10)\n",
    "\n",
    "lat_lon_data = {\"latitude\": df.latitude,\n",
    "                \"lonitude\": df.longitude}\n",
    "\n",
    "X = pd.DataFrame(lat_lon_data)\n",
    "y = df.is_cheap\n",
    "X"
   ],
   "metadata": {
    "collapsed": false
   }
  },
  {
   "cell_type": "code",
   "execution_count": 43,
   "outputs": [
    {
     "data": {
      "text/plain": "       latitude  lonitude\n879    40.64354 -73.97777\n44383  40.70666 -73.90779\n15394  40.76116 -73.99016\n43230  40.70763 -74.01050\n16332  40.79658 -73.93287\n...         ...       ...\n5162   40.70914 -73.95236\n33355  40.72756 -73.95628\n39797  40.76358 -73.94761\n47800  40.69387 -73.93885\n8832   40.68982 -73.85379\n\n[16136 rows x 2 columns]",
      "text/html": "<div>\n<style scoped>\n    .dataframe tbody tr th:only-of-type {\n        vertical-align: middle;\n    }\n\n    .dataframe tbody tr th {\n        vertical-align: top;\n    }\n\n    .dataframe thead th {\n        text-align: right;\n    }\n</style>\n<table border=\"1\" class=\"dataframe\">\n  <thead>\n    <tr style=\"text-align: right;\">\n      <th></th>\n      <th>latitude</th>\n      <th>lonitude</th>\n    </tr>\n  </thead>\n  <tbody>\n    <tr>\n      <th>879</th>\n      <td>40.64354</td>\n      <td>-73.97777</td>\n    </tr>\n    <tr>\n      <th>44383</th>\n      <td>40.70666</td>\n      <td>-73.90779</td>\n    </tr>\n    <tr>\n      <th>15394</th>\n      <td>40.76116</td>\n      <td>-73.99016</td>\n    </tr>\n    <tr>\n      <th>43230</th>\n      <td>40.70763</td>\n      <td>-74.01050</td>\n    </tr>\n    <tr>\n      <th>16332</th>\n      <td>40.79658</td>\n      <td>-73.93287</td>\n    </tr>\n    <tr>\n      <th>...</th>\n      <td>...</td>\n      <td>...</td>\n    </tr>\n    <tr>\n      <th>5162</th>\n      <td>40.70914</td>\n      <td>-73.95236</td>\n    </tr>\n    <tr>\n      <th>33355</th>\n      <td>40.72756</td>\n      <td>-73.95628</td>\n    </tr>\n    <tr>\n      <th>39797</th>\n      <td>40.76358</td>\n      <td>-73.94761</td>\n    </tr>\n    <tr>\n      <th>47800</th>\n      <td>40.69387</td>\n      <td>-73.93885</td>\n    </tr>\n    <tr>\n      <th>8832</th>\n      <td>40.68982</td>\n      <td>-73.85379</td>\n    </tr>\n  </tbody>\n</table>\n<p>16136 rows × 2 columns</p>\n</div>"
     },
     "execution_count": 43,
     "metadata": {},
     "output_type": "execute_result"
    }
   ],
   "source": [
    "X_train, X_test, Y_train, Y_test = train_test_split(X, y, test_size=0.33, random_state=42)\n",
    "X_test"
   ],
   "metadata": {
    "collapsed": false
   }
  },
  {
   "cell_type": "code",
   "execution_count": 44,
   "outputs": [
    {
     "data": {
      "text/plain": "69.86241943480417"
     },
     "execution_count": 44,
     "metadata": {},
     "output_type": "execute_result"
    }
   ],
   "source": [
    "from sklearn.metrics import accuracy_score\n",
    "\n",
    "fitted_model = knn.fit(X_train, Y_train)\n",
    "y_prediction = fitted_model.predict(X_test)\n",
    "\n",
    "accuracy = accuracy_score(Y_test, y_prediction) * 100\n",
    "accuracy"
   ],
   "metadata": {
    "collapsed": false
   }
  },
  {
   "cell_type": "markdown",
   "source": [
    "#### Part 1.3: 25 min\n",
    "8. Now we have our target and our predictions and we need to compare them to see how well our model have done. For this we ca use the roc_curve method like this: `fpr, tpr, _ = roc_curve(y_test, y_pred, pos_label=True)` where pos_label lets the algorithm know that our data uses boolean in the target column. This gives us the True Positive Rate (TPR) and the False Positive Rate (FPR). ROC Curve works by plotting the fraction of true positives out of the positives (TPR = true positive rate) vs. the fraction of false positives out of the negatives (FPR = false positive rate), at various threshold settings. Finally we use the `auc(fpr,tpr)` function to get an AUC_Score (This score is 1 when the model had 100% correct predictions and less than 1 for less perfect accuracy score. The result should be around `.7` which is not a great prediction accuracy rate, but its a start and we can try to improve it by adding more data features to the model.\n",
    "Study: [ROC curves typically feature true positive rate on the Y axis, and false positive rate on the X axis. This means that the top left corner of the plot is the “ideal” point - a false positive rate of zero, and a true positive rate of one. This is not very realistic, but it does mean that a larger area under the curve (AUC) is usually better.](https://scikit-learn.org/stable/auto_examples/model_selection/plot_roc.html#sphx-glr-auto-examples-model-selection-plot-roc-py).\n",
    "9. Now lets add some more columns from the dataframe:\n",
    "    1. First we need to One-Hot encode the data of 3 columns:['neighbourhood','neighbourhood_group','room_type']. Hint: Use pandas get_dummies method (see example in the clustering with titanic notebook.\n",
    "    2. With these new columns in the dataframe do the train_test_split operation again to get 33% test data and 67% training data for both input data X and target/labels y.\n",
    "    3. Normalize both training and test data with [StandardScaler](https://scikit-learn.org/stable/modules/generated/sklearn.preprocessing.StandardScaler.html). Hint: `StandardScaler().fit(X_train[independent_variables])` where `independent_variables` is a list of all the columns we want to use in the model (There are many so a quick way to get the names of those columns that we One-Hot encoded is by using a list comprehension like this: `[col for col in df if col.startswith('neighbourhood') or col.startswith('room_type')]`. Then just add the 'latitude', 'longitude','number_of_reviews' and 'reviews_per_month' columns.\n",
    "    4. Now get the normalized training data with something like: `X_train_norm = np.nan_to_num(scaler.transform(X_train[independent_variables]))` where np.nan_'to_num() is used to swap NAN for zeros.\n",
    "    5. Do the same with the test data\n",
    "    6. Now create a `KNeighborsClassifier` model like last time and fit it with the training data and the training targets\n",
    "    7. Get predictions on the test data and produce the AUC score like last time. Is it improved?\n",
    "    8. When we create our KneighborsClassifier model we can try it out with different number of neighbors and with different ways to measure the distance between the neighbors like this `KNeighborsClassifier(n_neighbors=k, metric=dist)`. [These are the different available methods for measuring distance.](https://scikit-learn.org/stable/modules/generated/sklearn.metrics.pairwise.distance_metrics.html#sklearn.metrics.pairwise.distance_metrics). Now create a function that can take k and dist (as shown above) and can print an AUC score based on the data we used above and on the 2 arguments.\n",
    "    9. Run the function with all combinations of n_neighbor values of 2, 4, 8, 32, 64 and with metric values of 'manhattan', 'euclidean', 'haversine','cosine'.\n",
    "    10. Are there any noticable differences?"
   ],
   "metadata": {
    "collapsed": false
   }
  },
  {
   "cell_type": "code",
   "execution_count": 45,
   "outputs": [
    {
     "data": {
      "text/plain": "0.6987299270173918"
     },
     "execution_count": 45,
     "metadata": {},
     "output_type": "execute_result"
    }
   ],
   "source": [
    "# False positive rate & False positive rate\n",
    "\n",
    "fpr, tpr, _ = roc_curve(Y_test, y_prediction, pos_label=True)\n",
    "\n",
    "auc(fpr, tpr)\n"
   ],
   "metadata": {
    "collapsed": false
   }
  },
  {
   "cell_type": "code",
   "execution_count": 46,
   "outputs": [
    {
     "data": {
      "text/plain": "0.6987299270173918"
     },
     "execution_count": 46,
     "metadata": {},
     "output_type": "execute_result"
    }
   ],
   "source": [
    "df = pd.get_dummies(df, columns=[\"neighbourhood\", \"neighbourhood_group\", \"room_type\"])\n",
    "\n",
    "yy = df.is_cheap\n",
    "\n",
    "XX_train, XX_test, YY_train, YY_test = train_test_split(X, yy, test_size=0.33, train_size=0.67, random_state=42)\n",
    "\n",
    "ffitted_model = knn.fit(XX_train, YY_train)\n",
    "yy_pred = ffitted_model.predict(XX_test)\n",
    "\n",
    "aaccuracy = accuracy_score(YY_test, yy_pred) * 100\n",
    "\n",
    "\n",
    "fpr, tpr, _ = roc_curve(YY_test, yy_pred, pos_label=True)\n",
    "\n",
    "auc(fpr, tpr)"
   ],
   "metadata": {
    "collapsed": false
   }
  },
  {
   "cell_type": "code",
   "execution_count": null,
   "outputs": [],
   "source": [],
   "metadata": {
    "collapsed": false
   }
  }
 ],
 "metadata": {
  "kernelspec": {
   "display_name": "Python 3",
   "language": "python",
   "name": "python3"
  },
  "language_info": {
   "codemirror_mode": {
    "name": "ipython",
    "version": 2
   },
   "file_extension": ".py",
   "mimetype": "text/x-python",
   "name": "python",
   "nbconvert_exporter": "python",
   "pygments_lexer": "ipython2",
   "version": "2.7.6"
  }
 },
 "nbformat": 4,
 "nbformat_minor": 0
}
