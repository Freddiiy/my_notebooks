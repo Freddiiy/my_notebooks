{
 "cells": [
  {
   "cell_type": "markdown",
   "source": [
    "## Exercise decision tree\n",
    "<img src=\"https://lh3.googleusercontent.com/proxy/fbplszDOBAc7pUTPpJOI6mpZlkomRVvOQrTYUKuyYtyD_nE4I4ZY7Zr_8oK5b4c8t0vH4oG2IZm0Ux7iVBvYjHUw48V8F2fTESMBst9J0iZiDZz9JYWqdklm\" width=\"200\"/>\n",
    "\n",
    "Use a dataset with 3 labels: L, R, B (left, right, balanced) Given 4 input values (left weight, left dist, right weight, right dist) predict the outcome (Label). Dataset is a matrix with shape (625,5) ala:\n",
    "```python\n",
    "B  1  1  1  1\n",
    "R  1  1  1  2\n",
    "R  1  1  1  3\n",
    "L  1  1  1  4\n",
    "```\n",
    "1. Importing the required packages\n",
    "```python\n",
    "import numpy as np\n",
    "import pandas as pd\n",
    "from sklearn.metrics import confusion_matrix\n",
    "from sklearn.model_selection import train_test_split\n",
    "from sklearn.tree import DecisionTreeClassifier\n",
    "from sklearn.metrics import accuracy_score\n",
    "from sklearn.metrics import classification_report\n",
    "```\n",
    "2. Import dataset: `https://archive.ics.uci.edu/ml/machine-learning-databases/balance-scale/balance-scale.data`\n",
    "  -  Balance Scale Weight & Distance\n",
    "3. Split dataset (input variables and target) Hint: first column is the target\n",
    "4. Split dataset into training data and test data using train_test_split()\n",
    "5. Create a model (DecisionTreeClassifier(criterion = \"gini\", random_state=100,max_depth=3, min_samples_leaf=5)\n",
    "6. Fit model with training data\n",
    "7. Make predictions on test data (using  predicted_y = prediction(X_test, model))\n",
    "8. Calculate model accuracy with cal_accuracy(y_test, predicted_y)\n",
    "\n",
    "[If you get stuck see solution](https://www.geeksforgeeks.org/decision-tree-implementation-python/)\n"
   ],
   "metadata": {
    "collapsed": false
   }
  },
  {
   "cell_type": "code",
   "execution_count": 1,
   "outputs": [],
   "source": [
    "import numpy as np\n",
    "import pandas as pd\n",
    "from sklearn.metrics import confusion_matrix\n",
    "from sklearn.model_selection import train_test_split\n",
    "from sklearn.tree import DecisionTreeClassifier\n",
    "from sklearn.metrics import accuracy_score\n",
    "from sklearn.metrics import classification_report"
   ],
   "metadata": {
    "collapsed": false
   }
  },
  {
   "cell_type": "code",
   "execution_count": 24,
   "outputs": [
    {
     "data": {
      "text/plain": "array([[1, 1, 1, 1],\n       [1, 1, 1, 2],\n       [1, 1, 1, 3],\n       ...,\n       [5, 5, 5, 3],\n       [5, 5, 5, 4],\n       [5, 5, 5, 5]], dtype=object)"
     },
     "execution_count": 24,
     "metadata": {},
     "output_type": "execute_result"
    }
   ],
   "source": [
    "data = pd.read_csv(\"https://archive.ics.uci.edu/ml/machine-learning-databases/balance-scale/balance-scale.data\", sep=\",\", header=None)"
   ],
   "metadata": {
    "collapsed": false
   }
  },
  {
   "cell_type": "code",
   "execution_count": 33,
   "outputs": [
    {
     "name": "stdout",
     "output_type": "stream",
     "text": [
      "Accuracy score is 75.0%\n"
     ]
    }
   ],
   "source": [
    "X = data.values[:, 1:5]\n",
    "Y = data.values[:, 0]\n",
    "\n",
    "X_train, X_test, Y_train, Y_test = train_test_split(X, Y, test_size=0.3, random_state=100)\n",
    "model = DecisionTreeClassifier(criterion=\"gini\", random_state=100, max_depth=3, min_samples_leaf=5)\n",
    "\n",
    "model.fit(X, Y)\n",
    "\n",
    "y_prediction = model.predict(X_test)\n",
    "\n",
    "acc_score = accuracy_score(Y_test, y_prediction) * 100\n",
    "\n",
    "print(f\"Accuracy score is {acc_score}%\")"
   ],
   "metadata": {
    "collapsed": false
   }
  }
 ],
 "metadata": {
  "kernelspec": {
   "display_name": "Python 3",
   "language": "python",
   "name": "python3"
  },
  "language_info": {
   "codemirror_mode": {
    "name": "ipython",
    "version": 2
   },
   "file_extension": ".py",
   "mimetype": "text/x-python",
   "name": "python",
   "nbconvert_exporter": "python",
   "pygments_lexer": "ipython2",
   "version": "2.7.6"
  }
 },
 "nbformat": 4,
 "nbformat_minor": 0
}
