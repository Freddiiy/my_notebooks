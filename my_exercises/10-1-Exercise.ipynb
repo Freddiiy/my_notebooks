{
 "cells": [
  {
   "cell_type": "markdown",
   "source": [
    "## 02 Exercise with perceptron\n",
    "Find the optimal weights for the two [dimensional dataset](data/rodents.csv) to seperate mice from rats based on data about height and weight. This is a superviced dataset with labels that can be found in the data folder (in this repo)\n",
    "![](../../images/rodents.png)\n",
    "\n",
    "### Part one: general\n",
    "1. Look at the activation_function and plot the y-values for each x from -5,5 spaced with 0.5\n",
    "2. Change the perceptron method from the notebook to use the [numpy.dot() method](https://docs.scipy.org/doc/numpy/reference/generated/numpy.dot.html) in line 12 instead of the lengthy sum() function\n",
    "\n",
    "### Part two: rodent data\n",
    "1. Make a new scatter plot with datapoints of weights vs heights. Choose different colors for rats and mice\n",
    "2. Manually find the optimal linear function to divide the 2 groups (y = aX+b). Plot it on the scatter plot\n",
    "3. What is the slope and intercept of the linear function?\n",
    "4. Now change the 'type' column to represent rats as 1 and mice as -1\n",
    "5. Clean up any rows with null data\n",
    "6. Use these weights herè [40,-190] to determine if the following 3 animals are mice or rats:\n",
    "```\n",
    "[[231.32446731816555,26.03382997978225],\n",
    "[17.906954059999567,6.846576762459397],\n",
    "[230.276522831171,24.077799766119398]]\n",
    "```\n",
    "7. Find the (approximately) optimal weights using the perceptron learning algorithm\n",
    "8. Plot the weightline\n",
    "9. Plot the division line\n"
   ],
   "metadata": {
    "collapsed": false
   }
  },
  {
   "cell_type": "code",
   "execution_count": 8,
   "outputs": [],
   "source": [
    "import numpy as np\n",
    "import matplotlib.pyplot as plt\n",
    "import pandas as pd"
   ],
   "metadata": {
    "collapsed": false
   }
  },
  {
   "cell_type": "code",
   "execution_count": 9,
   "metadata": {
    "collapsed": true
   },
   "outputs": [
    {
     "data": {
      "text/plain": "[<matplotlib.lines.Line2D at 0x14c9ffbe0>]"
     },
     "execution_count": 9,
     "metadata": {},
     "output_type": "execute_result"
    },
    {
     "data": {
      "text/plain": "<Figure size 640x480 with 1 Axes>",
      "image/png": "[encoded data removed]"
     },
     "metadata": {},
     "output_type": "display_data"
    }
   ],
   "source": [
    "def activation_function(x):\n",
    "    \"\"\"\n",
    "    Step function to respond with y = 1 or -1\n",
    "    Parameter:\n",
    "    x: An x (numeric) value that will have a corresponding y value of 1 or -1\n",
    "    \"\"\"\n",
    "    if x < 0:\n",
    "        return -1\n",
    "    else:\n",
    "        return 1\n",
    "\n",
    "rnge = np.arange(-5, 5, 0.5)\n",
    "values = [activation_function(i) for i in rnge]\n",
    "plt.plot(rnge, values)"
   ]
  },
  {
   "cell_type": "code",
   "execution_count": 10,
   "outputs": [],
   "source": [
    "def perceptron(inp, weights):\n",
    "    \"\"\"\n",
    "    Given a list of feature (x) values and a list of weights,\n",
    "    calculates the dot product of the 2 lists and returns 1 or -1 (fire or don't)\n",
    "    Parameters:\n",
    "    inp: vector of input predictors\n",
    "    weights: vector of weights to be ajusted for precise prediction of output.\n",
    "    \"\"\"\n",
    "    # This is the same as the dot product np.dot(i, w)\n",
    "    dot_product = np.dot(inp, weights)\n",
    "    output = activation_function(dot_product)\n",
    "    return output\n",
    "\n",
    "out = perceptron([1, 2, 3, 4, 5], [1, 1, 2, 1, 1])"
   ],
   "metadata": {
    "collapsed": false
   }
  },
  {
   "cell_type": "code",
   "execution_count": 41,
   "outputs": [
    {
     "data": {
      "text/plain": "       weight     height   type\n0  233.479920  23.514130    rat\n1  231.324467  26.033830    rat\n2   17.906954   6.846577  mouse\n3  230.276523  24.077800    rat\n4   20.360593   6.605983  mouse",
      "text/html": "<div>\n<style scoped>\n    .dataframe tbody tr th:only-of-type {\n        vertical-align: middle;\n    }\n\n    .dataframe tbody tr th {\n        vertical-align: top;\n    }\n\n    .dataframe thead th {\n        text-align: right;\n    }\n</style>\n<table border=\"1\" class=\"dataframe\">\n  <thead>\n    <tr style=\"text-align: right;\">\n      <th></th>\n      <th>weight</th>\n      <th>height</th>\n      <th>type</th>\n    </tr>\n  </thead>\n  <tbody>\n    <tr>\n      <th>0</th>\n      <td>233.479920</td>\n      <td>23.514130</td>\n      <td>rat</td>\n    </tr>\n    <tr>\n      <th>1</th>\n      <td>231.324467</td>\n      <td>26.033830</td>\n      <td>rat</td>\n    </tr>\n    <tr>\n      <th>2</th>\n      <td>17.906954</td>\n      <td>6.846577</td>\n      <td>mouse</td>\n    </tr>\n    <tr>\n      <th>3</th>\n      <td>230.276523</td>\n      <td>24.077800</td>\n      <td>rat</td>\n    </tr>\n    <tr>\n      <th>4</th>\n      <td>20.360593</td>\n      <td>6.605983</td>\n      <td>mouse</td>\n    </tr>\n  </tbody>\n</table>\n</div>"
     },
     "execution_count": 41,
     "metadata": {},
     "output_type": "execute_result"
    }
   ],
   "source": [
    "data = pd.read_csv(\"../../data/rodents.csv\", sep=\";\")\n",
    "data.head()"
   ],
   "metadata": {
    "collapsed": false
   }
  },
  {
   "cell_type": "code",
   "execution_count": 46,
   "outputs": [
    {
     "name": "stderr",
     "output_type": "stream",
     "text": [
      "/var/folders/d_/nvsh3vcj5011gnz48wmh440w0000gn/T/ipykernel_7019/1184891337.py:2: SettingWithCopyWarning: \n",
      "A value is trying to be set on a copy of a slice from a DataFrame\n",
      "\n",
      "See the caveats in the documentation: https://pandas.pydata.org/pandas-docs/stable/user_guide/indexing.html#returning-a-view-versus-a-copy\n",
      "  copy_data.type[copy_data.type == \"rat\"] = 1\n",
      "/var/folders/d_/nvsh3vcj5011gnz48wmh440w0000gn/T/ipykernel_7019/1184891337.py:3: SettingWithCopyWarning: \n",
      "A value is trying to be set on a copy of a slice from a DataFrame\n",
      "\n",
      "See the caveats in the documentation: https://pandas.pydata.org/pandas-docs/stable/user_guide/indexing.html#returning-a-view-versus-a-copy\n",
      "  copy_data.type[copy_data.type == \"mouse\"] = -1\n"
     ]
    },
    {
     "data": {
      "text/plain": "         weight     height type\n0    233.479920  23.514130    1\n1    231.324467  26.033830    1\n2     17.906954   6.846577   -1\n3    230.276523  24.077800    1\n4     20.360593   6.605983   -1\n..          ...        ...  ...\n244   20.614362   6.575722   -1\n245   22.249846   6.951267   -1\n246  228.568162  27.146987    1\n247  229.002922  23.526073    1\n249  231.160957  25.548475    1\n\n[245 rows x 3 columns]",
      "text/html": "<div>\n<style scoped>\n    .dataframe tbody tr th:only-of-type {\n        vertical-align: middle;\n    }\n\n    .dataframe tbody tr th {\n        vertical-align: top;\n    }\n\n    .dataframe thead th {\n        text-align: right;\n    }\n</style>\n<table border=\"1\" class=\"dataframe\">\n  <thead>\n    <tr style=\"text-align: right;\">\n      <th></th>\n      <th>weight</th>\n      <th>height</th>\n      <th>type</th>\n    </tr>\n  </thead>\n  <tbody>\n    <tr>\n      <th>0</th>\n      <td>233.479920</td>\n      <td>23.514130</td>\n      <td>1</td>\n    </tr>\n    <tr>\n      <th>1</th>\n      <td>231.324467</td>\n      <td>26.033830</td>\n      <td>1</td>\n    </tr>\n    <tr>\n      <th>2</th>\n      <td>17.906954</td>\n      <td>6.846577</td>\n      <td>-1</td>\n    </tr>\n    <tr>\n      <th>3</th>\n      <td>230.276523</td>\n      <td>24.077800</td>\n      <td>1</td>\n    </tr>\n    <tr>\n      <th>4</th>\n      <td>20.360593</td>\n      <td>6.605983</td>\n      <td>-1</td>\n    </tr>\n    <tr>\n      <th>...</th>\n      <td>...</td>\n      <td>...</td>\n      <td>...</td>\n    </tr>\n    <tr>\n      <th>244</th>\n      <td>20.614362</td>\n      <td>6.575722</td>\n      <td>-1</td>\n    </tr>\n    <tr>\n      <th>245</th>\n      <td>22.249846</td>\n      <td>6.951267</td>\n      <td>-1</td>\n    </tr>\n    <tr>\n      <th>246</th>\n      <td>228.568162</td>\n      <td>27.146987</td>\n      <td>1</td>\n    </tr>\n    <tr>\n      <th>247</th>\n      <td>229.002922</td>\n      <td>23.526073</td>\n      <td>1</td>\n    </tr>\n    <tr>\n      <th>249</th>\n      <td>231.160957</td>\n      <td>25.548475</td>\n      <td>1</td>\n    </tr>\n  </tbody>\n</table>\n<p>245 rows × 3 columns</p>\n</div>"
     },
     "execution_count": 46,
     "metadata": {},
     "output_type": "execute_result"
    }
   ],
   "source": [
    "copy_data = data.copy()\n",
    "copy_data.type[copy_data.type == \"rat\"] = 1\n",
    "copy_data.type[copy_data.type == \"mouse\"] = -1\n",
    "\n",
    "copy_data.dropna()\n",
    "copy_data"
   ],
   "metadata": {
    "collapsed": false
   }
  },
  {
   "cell_type": "code",
   "execution_count": 54,
   "outputs": [
    {
     "ename": "ValueError",
     "evalue": "shapes (2,) and (3,2) not aligned: 2 (dim 0) != 3 (dim 0)",
     "output_type": "error",
     "traceback": [
      "\u001B[0;31m---------------------------------------------------------------------------\u001B[0m",
      "\u001B[0;31mValueError\u001B[0m                                Traceback (most recent call last)",
      "Input \u001B[0;32mIn [54]\u001B[0m, in \u001B[0;36m<cell line: 7>\u001B[0;34m()\u001B[0m\n\u001B[1;32m      1\u001B[0m new_animals \u001B[38;5;241m=\u001B[39m np\u001B[38;5;241m.\u001B[39marray([[\u001B[38;5;241m231.32446731816555\u001B[39m,\u001B[38;5;241m26.03382997978225\u001B[39m],\n\u001B[1;32m      2\u001B[0m           [\u001B[38;5;241m17.906954059999567\u001B[39m,\u001B[38;5;241m6.846576762459397\u001B[39m],\n\u001B[1;32m      3\u001B[0m           [\u001B[38;5;241m230.276522831171\u001B[39m,\u001B[38;5;241m24.077799766119398\u001B[39m]])\n\u001B[1;32m      5\u001B[0m new_weights \u001B[38;5;241m=\u001B[39m [\u001B[38;5;241m40\u001B[39m, \u001B[38;5;241m-\u001B[39m\u001B[38;5;241m190\u001B[39m]\n\u001B[0;32m----> 7\u001B[0m new_out \u001B[38;5;241m=\u001B[39m \u001B[43mperceptron\u001B[49m\u001B[43m(\u001B[49m\u001B[43mnew_weights\u001B[49m\u001B[43m,\u001B[49m\u001B[43m \u001B[49m\u001B[43mnew_animals\u001B[49m\u001B[43m)\u001B[49m\n\u001B[1;32m      8\u001B[0m new_out\n",
      "Input \u001B[0;32mIn [10]\u001B[0m, in \u001B[0;36mperceptron\u001B[0;34m(inp, weights)\u001B[0m\n\u001B[1;32m      2\u001B[0m \u001B[38;5;124;03m\"\"\"\u001B[39;00m\n\u001B[1;32m      3\u001B[0m \u001B[38;5;124;03mGiven a list of feature (x) values and a list of weights,\u001B[39;00m\n\u001B[1;32m      4\u001B[0m \u001B[38;5;124;03mcalculates the dot product of the 2 lists and returns 1 or -1 (fire or don't)\u001B[39;00m\n\u001B[0;32m   (...)\u001B[0m\n\u001B[1;32m      7\u001B[0m \u001B[38;5;124;03mweights: vector of weights to be ajusted for precise prediction of output.\u001B[39;00m\n\u001B[1;32m      8\u001B[0m \u001B[38;5;124;03m\"\"\"\u001B[39;00m\n\u001B[1;32m      9\u001B[0m \u001B[38;5;66;03m# This is the same as the dot product np.dot(i, w)\u001B[39;00m\n\u001B[0;32m---> 10\u001B[0m dot_product \u001B[38;5;241m=\u001B[39m \u001B[43mnp\u001B[49m\u001B[38;5;241;43m.\u001B[39;49m\u001B[43mdot\u001B[49m\u001B[43m(\u001B[49m\u001B[43minp\u001B[49m\u001B[43m,\u001B[49m\u001B[43m \u001B[49m\u001B[43mweights\u001B[49m\u001B[43m)\u001B[49m\n\u001B[1;32m     11\u001B[0m output \u001B[38;5;241m=\u001B[39m activation_function(dot_product)\n\u001B[1;32m     12\u001B[0m \u001B[38;5;28;01mreturn\u001B[39;00m output\n",
      "File \u001B[0;32m<__array_function__ internals>:180\u001B[0m, in \u001B[0;36mdot\u001B[0;34m(*args, **kwargs)\u001B[0m\n",
      "\u001B[0;31mValueError\u001B[0m: shapes (2,) and (3,2) not aligned: 2 (dim 0) != 3 (dim 0)"
     ]
    }
   ],
   "source": [
    "new_animals = np.array([[231.32446731816555,26.03382997978225],\n",
    "          [17.906954059999567,6.846576762459397],\n",
    "          [230.276522831171,24.077799766119398]])\n",
    "\n",
    "new_weights = [40, -190]\n",
    "for a in new_animals:\n",
    "\n",
    "    new_out = perceptron(new_weights, new_animals)\n",
    "new_out"
   ],
   "metadata": {
    "collapsed": false
   }
  }
 ],
 "metadata": {
  "kernelspec": {
   "display_name": "Python 3",
   "language": "python",
   "name": "python3"
  },
  "language_info": {
   "codemirror_mode": {
    "name": "ipython",
    "version": 2
   },
   "file_extension": ".py",
   "mimetype": "text/x-python",
   "name": "python",
   "nbconvert_exporter": "python",
   "pygments_lexer": "ipython2",
   "version": "2.7.6"
  }
 },
 "nbformat": 4,
 "nbformat_minor": 0
}
