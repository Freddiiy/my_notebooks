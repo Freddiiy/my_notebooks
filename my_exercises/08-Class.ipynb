{
 "cells": [
  {
   "cell_type": "markdown",
   "source": [],
   "metadata": {
    "collapsed": false
   }
  },
  {
   "cell_type": "markdown",
   "source": [
    "# Feature spaces, Linear Algebra, Numeric data methods, Linear Regression\n",
    "#### Part 1\n",
    "1. Feature space from csv file. Read `data/ds_salaries.csv` into a pandas dataframe\n",
    "2. Prune the dataset to only have columns: \"work_year\", \"experience_level\", \"salary_in_usd\", \"job_title\", \"company_location\", \"company_size\".\n",
    "3. Onehot encode \"experience_level\". Hint: look up pandas: `get_dummies()` method.\n",
    "4. labelencode \"company_location\"\n",
    "5. Normalize the company_location number (relative value between 0-1) ![](https://cdn-images-1.medium.com/max/253/1*Dl3P3Rrzto258X0Ales9Xw.png)\n",
    "6. Make binning of the salary column (both cut and qcut methods).\n",
    "7. Make a barplot with binned salaries to show the company size count for each of the bins. Like this:\n",
    "\n",
    "<img src=\"images/binned_salaries.jpg\" width=300/>\n",
    "\n",
    "Hint: Use pandas Series unstack() method to get a dataframe from a multiindex Series object (The result of making a groupby count on both salary_bins and company_size columns"
   ],
   "metadata": {
    "collapsed": false
   }
  },
  {
   "cell_type": "code",
   "execution_count": 8,
   "outputs": [],
   "source": [
    "import pandas as pd\n",
    "import sklearn.preprocessing\n",
    "from sklearn.preprocessing import LabelEncoder, Normalizer"
   ],
   "metadata": {
    "collapsed": false
   }
  },
  {
   "cell_type": "code",
   "execution_count": 9,
   "outputs": [],
   "source": [
    "data = pd.read_csv(\"../../data/ds_salaries.csv\")\n",
    "df = pd.DataFrame(data)\n",
    "\n",
    "df = df[[\"work_year\", \"experience_level\", \"salary_in_usd\", \"job_title\", \"company_location\", \"company_size\"]]\n",
    "df = pd.get_dummies(df, columns=[\"experience_level\"])\n"
   ],
   "metadata": {
    "collapsed": false
   }
  },
  {
   "cell_type": "code",
   "execution_count": 10,
   "outputs": [
    {
     "data": {
      "text/plain": "0      12\n1      29\n2      18\n3      20\n4      48\n       ..\n602    48\n603    48\n604    48\n605    48\n606    48\nName: company_location, Length: 607, dtype: int64"
     },
     "execution_count": 10,
     "metadata": {},
     "output_type": "execute_result"
    }
   ],
   "source": [
    "le = LabelEncoder()\n",
    "nm = Normalizer()\n",
    "\n",
    "df[\"company_location\"] = le.fit_transform(df[\"company_location\"])\n",
    "\n",
    "#df_company_normalized = nm(df[\"company_location\"])\n",
    "df[\"company_location\"]"
   ],
   "metadata": {
    "collapsed": false
   }
  },
  {
   "cell_type": "markdown",
   "source": [],
   "metadata": {
    "collapsed": false
   }
  },
  {
   "cell_type": "code",
   "execution_count": 11,
   "outputs": [
    {
     "ename": "TypeError",
     "evalue": "You have to supply one of 'by' and 'level'",
     "output_type": "error",
     "traceback": [
      "\u001B[0;31m---------------------------------------------------------------------------\u001B[0m",
      "\u001B[0;31mTypeError\u001B[0m                                 Traceback (most recent call last)",
      "Input \u001B[0;32mIn [11]\u001B[0m, in \u001B[0;36m<cell line: 8>\u001B[0;34m()\u001B[0m\n\u001B[1;32m      5\u001B[0m df_copy[\u001B[38;5;124m\"\u001B[39m\u001B[38;5;124mbinned_salary\u001B[39m\u001B[38;5;124m\"\u001B[39m] \u001B[38;5;241m=\u001B[39m pd\u001B[38;5;241m.\u001B[39mcut(df_copy[\u001B[38;5;124m\"\u001B[39m\u001B[38;5;124msalary_in_usd\u001B[39m\u001B[38;5;124m\"\u001B[39m], bins\u001B[38;5;241m=\u001B[39mbins, labels\u001B[38;5;241m=\u001B[39mlabels)\n\u001B[1;32m      6\u001B[0m df_copy\u001B[38;5;241m.\u001B[39mhead()\n\u001B[0;32m----> 8\u001B[0m \u001B[43mdf_copy\u001B[49m\u001B[38;5;241;43m.\u001B[39;49m\u001B[43mgroupby\u001B[49m\u001B[43m(\u001B[49m\u001B[43m)\u001B[49m\n",
      "File \u001B[0;32m~/dev/docker_notebooks/venv/lib/python3.8/site-packages/pandas/core/frame.py:8389\u001B[0m, in \u001B[0;36mDataFrame.groupby\u001B[0;34m(self, by, axis, level, as_index, sort, group_keys, squeeze, observed, dropna)\u001B[0m\n\u001B[1;32m   8386\u001B[0m     squeeze \u001B[38;5;241m=\u001B[39m \u001B[38;5;28;01mFalse\u001B[39;00m\n\u001B[1;32m   8388\u001B[0m \u001B[38;5;28;01mif\u001B[39;00m level \u001B[38;5;129;01mis\u001B[39;00m \u001B[38;5;28;01mNone\u001B[39;00m \u001B[38;5;129;01mand\u001B[39;00m by \u001B[38;5;129;01mis\u001B[39;00m \u001B[38;5;28;01mNone\u001B[39;00m:\n\u001B[0;32m-> 8389\u001B[0m     \u001B[38;5;28;01mraise\u001B[39;00m \u001B[38;5;167;01mTypeError\u001B[39;00m(\u001B[38;5;124m\"\u001B[39m\u001B[38;5;124mYou have to supply one of \u001B[39m\u001B[38;5;124m'\u001B[39m\u001B[38;5;124mby\u001B[39m\u001B[38;5;124m'\u001B[39m\u001B[38;5;124m and \u001B[39m\u001B[38;5;124m'\u001B[39m\u001B[38;5;124mlevel\u001B[39m\u001B[38;5;124m'\u001B[39m\u001B[38;5;124m\"\u001B[39m)\n\u001B[1;32m   8390\u001B[0m axis \u001B[38;5;241m=\u001B[39m \u001B[38;5;28mself\u001B[39m\u001B[38;5;241m.\u001B[39m_get_axis_number(axis)\n\u001B[1;32m   8392\u001B[0m \u001B[38;5;28;01mreturn\u001B[39;00m DataFrameGroupBy(\n\u001B[1;32m   8393\u001B[0m     obj\u001B[38;5;241m=\u001B[39m\u001B[38;5;28mself\u001B[39m,\n\u001B[1;32m   8394\u001B[0m     keys\u001B[38;5;241m=\u001B[39mby,\n\u001B[0;32m   (...)\u001B[0m\n\u001B[1;32m   8402\u001B[0m     dropna\u001B[38;5;241m=\u001B[39mdropna,\n\u001B[1;32m   8403\u001B[0m )\n",
      "\u001B[0;31mTypeError\u001B[0m: You have to supply one of 'by' and 'level'"
     ]
    }
   ],
   "source": [
    "bins = [0, 75000, 120000, 250000, 600000]\n",
    "labels = [\"S\", \"M\", \"L\", \"XL\"]\n",
    "df_copy = df.copy()\n",
    "\n",
    "df_copy[\"binned_salary\"] = pd.cut(df_copy[\"salary_in_usd\"], bins=bins, labels=labels)\n",
    "df_copy.head()\n",
    "\n",
    "df_copy.groupby()\n",
    "\n"
   ],
   "metadata": {
    "collapsed": false
   }
  },
  {
   "cell_type": "code",
   "execution_count": 12,
   "outputs": [
    {
     "data": {
      "text/plain": "   work_year  salary_in_usd                   job_title  company_location  \\\n0       2020          79833              Data Scientist                12   \n1       2020         260000  Machine Learning Scientist                29   \n2       2020         109024           Big Data Engineer                18   \n3       2020          20000        Product Data Analyst                20   \n4       2020         150000   Machine Learning Engineer                48   \n\n  company_size  experience_level_EN  experience_level_EX  experience_level_MI  \\\n0            L                    0                    0                    1   \n1            S                    0                    0                    0   \n2            M                    0                    0                    0   \n3            S                    0                    0                    1   \n4            L                    0                    0                    0   \n\n   experience_level_SE binned_salary    binned_salary_qcut  \n0                    0             M   (62726.0, 101570.0]  \n1                    1            XL  (150000.0, 600000.0]  \n2                    1             M  (101570.0, 150000.0]  \n3                    0             S   (2858.999, 62726.0]  \n4                    1             L  (101570.0, 150000.0]  ",
      "text/html": "<div>\n<style scoped>\n    .dataframe tbody tr th:only-of-type {\n        vertical-align: middle;\n    }\n\n    .dataframe tbody tr th {\n        vertical-align: top;\n    }\n\n    .dataframe thead th {\n        text-align: right;\n    }\n</style>\n<table border=\"1\" class=\"dataframe\">\n  <thead>\n    <tr style=\"text-align: right;\">\n      <th></th>\n      <th>work_year</th>\n      <th>salary_in_usd</th>\n      <th>job_title</th>\n      <th>company_location</th>\n      <th>company_size</th>\n      <th>experience_level_EN</th>\n      <th>experience_level_EX</th>\n      <th>experience_level_MI</th>\n      <th>experience_level_SE</th>\n      <th>binned_salary</th>\n      <th>binned_salary_qcut</th>\n    </tr>\n  </thead>\n  <tbody>\n    <tr>\n      <th>0</th>\n      <td>2020</td>\n      <td>79833</td>\n      <td>Data Scientist</td>\n      <td>12</td>\n      <td>L</td>\n      <td>0</td>\n      <td>0</td>\n      <td>1</td>\n      <td>0</td>\n      <td>M</td>\n      <td>(62726.0, 101570.0]</td>\n    </tr>\n    <tr>\n      <th>1</th>\n      <td>2020</td>\n      <td>260000</td>\n      <td>Machine Learning Scientist</td>\n      <td>29</td>\n      <td>S</td>\n      <td>0</td>\n      <td>0</td>\n      <td>0</td>\n      <td>1</td>\n      <td>XL</td>\n      <td>(150000.0, 600000.0]</td>\n    </tr>\n    <tr>\n      <th>2</th>\n      <td>2020</td>\n      <td>109024</td>\n      <td>Big Data Engineer</td>\n      <td>18</td>\n      <td>M</td>\n      <td>0</td>\n      <td>0</td>\n      <td>0</td>\n      <td>1</td>\n      <td>M</td>\n      <td>(101570.0, 150000.0]</td>\n    </tr>\n    <tr>\n      <th>3</th>\n      <td>2020</td>\n      <td>20000</td>\n      <td>Product Data Analyst</td>\n      <td>20</td>\n      <td>S</td>\n      <td>0</td>\n      <td>0</td>\n      <td>1</td>\n      <td>0</td>\n      <td>S</td>\n      <td>(2858.999, 62726.0]</td>\n    </tr>\n    <tr>\n      <th>4</th>\n      <td>2020</td>\n      <td>150000</td>\n      <td>Machine Learning Engineer</td>\n      <td>48</td>\n      <td>L</td>\n      <td>0</td>\n      <td>0</td>\n      <td>0</td>\n      <td>1</td>\n      <td>L</td>\n      <td>(101570.0, 150000.0]</td>\n    </tr>\n  </tbody>\n</table>\n</div>"
     },
     "execution_count": 12,
     "metadata": {},
     "output_type": "execute_result"
    }
   ],
   "source": [
    "df_copy[\"binned_salary_qcut\"] = pd.qcut(df_copy[\"salary_in_usd\"], [0, 0.25, 0.50, 0.75, 1.0])\n",
    "df_copy.head()\n"
   ],
   "metadata": {
    "collapsed": false
   }
  },
  {
   "cell_type": "markdown",
   "source": [],
   "metadata": {
    "collapsed": false
   }
  },
  {
   "cell_type": "code",
   "execution_count": 13,
   "outputs": [
    {
     "data": {
      "text/plain": "<AxesSubplot: xlabel='binned_salary'>"
     },
     "execution_count": 13,
     "metadata": {},
     "output_type": "execute_result"
    },
    {
     "data": {
      "text/plain": "<Figure size 640x480 with 1 Axes>",
      "image/png": "[encoded data removed]"
     },
     "metadata": {},
     "output_type": "display_data"
    }
   ],
   "source": [
    "d = df_copy.groupby([\"binned_salary\", \"company_size\"]).size()\n",
    "u = d.unstack()\n",
    "u.plot.bar()\n"
   ],
   "metadata": {
    "collapsed": false
   }
  },
  {
   "cell_type": "markdown",
   "source": [
    "#### Part 2\n",
    "8. Make it into a function that can take either company_size or experience_level as arguments.\n",
    "9. Change the experience_level column to be numeric using this dictionary: `experience = {'EN':10,'EX':20,'MI':30,'SE':40}`. Hint: [Here](https://sparkbyexamples.com/pandas/pandas-remap-values-in-column-with-a-dictionary-dict/).\n",
    "10. Use seaborn pairplot to see if there is an approximately linear relationship between experience_level and salary*\n",
    "11. scatter Plot the 2d feature space of 'experience_level' and 'salary_in_usd\n",
    "12. Use sklearn to find the best possible linear relationship between experience_level and salary_in_usd using linear regression."
   ],
   "metadata": {
    "collapsed": false
   }
  },
  {
   "cell_type": "code",
   "execution_count": 23,
   "outputs": [
    {
     "ename": "KeyError",
     "evalue": "'False: boolean label can not be used without a boolean index'",
     "output_type": "error",
     "traceback": [
      "\u001B[0;31m---------------------------------------------------------------------------\u001B[0m",
      "\u001B[0;31mKeyError\u001B[0m                                  Traceback (most recent call last)",
      "Input \u001B[0;32mIn [23]\u001B[0m, in \u001B[0;36m<cell line: 17>\u001B[0;34m()\u001B[0m\n\u001B[1;32m     14\u001B[0m         \u001B[38;5;28;01mreturn\u001B[39;00m \u001B[38;5;28;01mNone\u001B[39;00m\n\u001B[1;32m     16\u001B[0m experience \u001B[38;5;241m=\u001B[39m {\u001B[38;5;124m'\u001B[39m\u001B[38;5;124mEN\u001B[39m\u001B[38;5;124m'\u001B[39m:\u001B[38;5;241m10\u001B[39m,\u001B[38;5;124m'\u001B[39m\u001B[38;5;124mEX\u001B[39m\u001B[38;5;124m'\u001B[39m:\u001B[38;5;241m20\u001B[39m,\u001B[38;5;124m'\u001B[39m\u001B[38;5;124mMI\u001B[39m\u001B[38;5;124m'\u001B[39m:\u001B[38;5;241m30\u001B[39m,\u001B[38;5;124m'\u001B[39m\u001B[38;5;124mSE\u001B[39m\u001B[38;5;124m'\u001B[39m:\u001B[38;5;241m40\u001B[39m}\n\u001B[0;32m---> 17\u001B[0m exp_en_salary \u001B[38;5;241m=\u001B[39m \u001B[43mtask_8\u001B[49m\u001B[43m(\u001B[49m\u001B[43mexperience_level\u001B[49m\u001B[38;5;241;43m=\u001B[39;49m\u001B[43mexperience\u001B[49m\u001B[38;5;241;43m.\u001B[39;49m\u001B[43mget\u001B[49m\u001B[43m(\u001B[49m\u001B[38;5;124;43m\"\u001B[39;49m\u001B[38;5;124;43mEN\u001B[39;49m\u001B[38;5;124;43m\"\u001B[39;49m\u001B[43m)\u001B[49m\u001B[43m)\u001B[49m\n\u001B[1;32m     18\u001B[0m exp_ex_salary \u001B[38;5;241m=\u001B[39m task_8(experience_level\u001B[38;5;241m=\u001B[39mexperience\u001B[38;5;241m.\u001B[39mget(\u001B[38;5;124m\"\u001B[39m\u001B[38;5;124mEX\u001B[39m\u001B[38;5;124m\"\u001B[39m))\n\u001B[1;32m     19\u001B[0m exp_mi_salary \u001B[38;5;241m=\u001B[39m task_8(experience_level\u001B[38;5;241m=\u001B[39mexperience\u001B[38;5;241m.\u001B[39mget(\u001B[38;5;124m\"\u001B[39m\u001B[38;5;124mMI\u001B[39m\u001B[38;5;124m\"\u001B[39m))\n",
      "Input \u001B[0;32mIn [23]\u001B[0m, in \u001B[0;36mtask_8\u001B[0;34m(company_size, experience_level)\u001B[0m\n\u001B[1;32m      8\u001B[0m     \u001B[38;5;28;01mreturn\u001B[39;00m _data[\u001B[38;5;124m'\u001B[39m\u001B[38;5;124mcut\u001B[39m\u001B[38;5;124m'\u001B[39m]\u001B[38;5;241m.\u001B[39mvalue_counts()\u001B[38;5;241m.\u001B[39mtolist()\n\u001B[1;32m      9\u001B[0m \u001B[38;5;28;01melif\u001B[39;00m experience_level:\n\u001B[0;32m---> 10\u001B[0m     _data \u001B[38;5;241m=\u001B[39m \u001B[43mlocal_data\u001B[49m\u001B[38;5;241;43m.\u001B[39;49m\u001B[43mloc\u001B[49m\u001B[43m[\u001B[49m\u001B[43m[\u001B[49m\u001B[38;5;124;43m\"\u001B[39;49m\u001B[38;5;124;43mexperience_level\u001B[39;49m\u001B[38;5;124;43m\"\u001B[39;49m\u001B[43m]\u001B[49m\u001B[43m \u001B[49m\u001B[38;5;241;43m==\u001B[39;49m\u001B[43m \u001B[49m\u001B[43mexperience_level\u001B[49m\u001B[43m]\u001B[49m\n\u001B[1;32m     11\u001B[0m     _data[\u001B[38;5;124m\"\u001B[39m\u001B[38;5;124mcut\u001B[39m\u001B[38;5;124m\"\u001B[39m] \u001B[38;5;241m=\u001B[39m pd\u001B[38;5;241m.\u001B[39mcut(_data[\u001B[38;5;124m\"\u001B[39m\u001B[38;5;124msalary_in_usd\u001B[39m\u001B[38;5;124m\"\u001B[39m], bins\u001B[38;5;241m=\u001B[39m\u001B[38;5;241m5\u001B[39m)\n\u001B[1;32m     12\u001B[0m     \u001B[38;5;28;01mreturn\u001B[39;00m _data[\u001B[38;5;124m'\u001B[39m\u001B[38;5;124mcut\u001B[39m\u001B[38;5;124m'\u001B[39m]\u001B[38;5;241m.\u001B[39mvalue_counts()\u001B[38;5;241m.\u001B[39mtolist()\n",
      "File \u001B[0;32m~/dev/docker_notebooks/venv/lib/python3.8/site-packages/pandas/core/indexing.py:1074\u001B[0m, in \u001B[0;36m_LocationIndexer.__getitem__\u001B[0;34m(self, key)\u001B[0m\n\u001B[1;32m   1071\u001B[0m axis \u001B[38;5;241m=\u001B[39m \u001B[38;5;28mself\u001B[39m\u001B[38;5;241m.\u001B[39maxis \u001B[38;5;129;01mor\u001B[39;00m \u001B[38;5;241m0\u001B[39m\n\u001B[1;32m   1073\u001B[0m maybe_callable \u001B[38;5;241m=\u001B[39m com\u001B[38;5;241m.\u001B[39mapply_if_callable(key, \u001B[38;5;28mself\u001B[39m\u001B[38;5;241m.\u001B[39mobj)\n\u001B[0;32m-> 1074\u001B[0m \u001B[38;5;28;01mreturn\u001B[39;00m \u001B[38;5;28;43mself\u001B[39;49m\u001B[38;5;241;43m.\u001B[39;49m\u001B[43m_getitem_axis\u001B[49m\u001B[43m(\u001B[49m\u001B[43mmaybe_callable\u001B[49m\u001B[43m,\u001B[49m\u001B[43m \u001B[49m\u001B[43maxis\u001B[49m\u001B[38;5;241;43m=\u001B[39;49m\u001B[43maxis\u001B[49m\u001B[43m)\u001B[49m\n",
      "File \u001B[0;32m~/dev/docker_notebooks/venv/lib/python3.8/site-packages/pandas/core/indexing.py:1312\u001B[0m, in \u001B[0;36m_LocIndexer._getitem_axis\u001B[0;34m(self, key, axis)\u001B[0m\n\u001B[1;32m   1309\u001B[0m         \u001B[38;5;28;01mreturn\u001B[39;00m \u001B[38;5;28mself\u001B[39m\u001B[38;5;241m.\u001B[39mobj\u001B[38;5;241m.\u001B[39miloc[\u001B[38;5;28mtuple\u001B[39m(indexer)]\n\u001B[1;32m   1311\u001B[0m \u001B[38;5;66;03m# fall thru to straight lookup\u001B[39;00m\n\u001B[0;32m-> 1312\u001B[0m \u001B[38;5;28;43mself\u001B[39;49m\u001B[38;5;241;43m.\u001B[39;49m\u001B[43m_validate_key\u001B[49m\u001B[43m(\u001B[49m\u001B[43mkey\u001B[49m\u001B[43m,\u001B[49m\u001B[43m \u001B[49m\u001B[43maxis\u001B[49m\u001B[43m)\u001B[49m\n\u001B[1;32m   1313\u001B[0m \u001B[38;5;28;01mreturn\u001B[39;00m \u001B[38;5;28mself\u001B[39m\u001B[38;5;241m.\u001B[39m_get_label(key, axis\u001B[38;5;241m=\u001B[39maxis)\n",
      "File \u001B[0;32m~/dev/docker_notebooks/venv/lib/python3.8/site-packages/pandas/core/indexing.py:1119\u001B[0m, in \u001B[0;36m_LocIndexer._validate_key\u001B[0;34m(self, key, axis)\u001B[0m\n\u001B[1;32m   1109\u001B[0m \u001B[38;5;129m@doc\u001B[39m(_LocationIndexer\u001B[38;5;241m.\u001B[39m_validate_key)\n\u001B[1;32m   1110\u001B[0m \u001B[38;5;28;01mdef\u001B[39;00m \u001B[38;5;21m_validate_key\u001B[39m(\u001B[38;5;28mself\u001B[39m, key, axis: \u001B[38;5;28mint\u001B[39m):\n\u001B[1;32m   1111\u001B[0m     \u001B[38;5;66;03m# valid for a collection of labels (we check their presence later)\u001B[39;00m\n\u001B[1;32m   1112\u001B[0m     \u001B[38;5;66;03m# slice of labels (where start-end in labels)\u001B[39;00m\n\u001B[1;32m   1113\u001B[0m     \u001B[38;5;66;03m# slice of integers (only if in the labels)\u001B[39;00m\n\u001B[1;32m   1114\u001B[0m     \u001B[38;5;66;03m# boolean not in slice and with boolean index\u001B[39;00m\n\u001B[1;32m   1115\u001B[0m     \u001B[38;5;28;01mif\u001B[39;00m \u001B[38;5;28misinstance\u001B[39m(key, \u001B[38;5;28mbool\u001B[39m) \u001B[38;5;129;01mand\u001B[39;00m \u001B[38;5;129;01mnot\u001B[39;00m (\n\u001B[1;32m   1116\u001B[0m         is_bool_dtype(\u001B[38;5;28mself\u001B[39m\u001B[38;5;241m.\u001B[39mobj\u001B[38;5;241m.\u001B[39m_get_axis(axis))\n\u001B[1;32m   1117\u001B[0m         \u001B[38;5;129;01mor\u001B[39;00m \u001B[38;5;28mself\u001B[39m\u001B[38;5;241m.\u001B[39mobj\u001B[38;5;241m.\u001B[39m_get_axis(axis)\u001B[38;5;241m.\u001B[39mdtype\u001B[38;5;241m.\u001B[39mname \u001B[38;5;241m==\u001B[39m \u001B[38;5;124m\"\u001B[39m\u001B[38;5;124mboolean\u001B[39m\u001B[38;5;124m\"\u001B[39m\n\u001B[1;32m   1118\u001B[0m     ):\n\u001B[0;32m-> 1119\u001B[0m         \u001B[38;5;28;01mraise\u001B[39;00m \u001B[38;5;167;01mKeyError\u001B[39;00m(\n\u001B[1;32m   1120\u001B[0m             \u001B[38;5;124mf\u001B[39m\u001B[38;5;124m\"\u001B[39m\u001B[38;5;132;01m{\u001B[39;00mkey\u001B[38;5;132;01m}\u001B[39;00m\u001B[38;5;124m: boolean label can not be used without a boolean index\u001B[39m\u001B[38;5;124m\"\u001B[39m\n\u001B[1;32m   1121\u001B[0m         )\n\u001B[1;32m   1123\u001B[0m     \u001B[38;5;28;01mif\u001B[39;00m \u001B[38;5;28misinstance\u001B[39m(key, \u001B[38;5;28mslice\u001B[39m) \u001B[38;5;129;01mand\u001B[39;00m (\n\u001B[1;32m   1124\u001B[0m         \u001B[38;5;28misinstance\u001B[39m(key\u001B[38;5;241m.\u001B[39mstart, \u001B[38;5;28mbool\u001B[39m) \u001B[38;5;129;01mor\u001B[39;00m \u001B[38;5;28misinstance\u001B[39m(key\u001B[38;5;241m.\u001B[39mstop, \u001B[38;5;28mbool\u001B[39m)\n\u001B[1;32m   1125\u001B[0m     ):\n\u001B[1;32m   1126\u001B[0m         \u001B[38;5;28;01mraise\u001B[39;00m \u001B[38;5;167;01mTypeError\u001B[39;00m(\u001B[38;5;124mf\u001B[39m\u001B[38;5;124m\"\u001B[39m\u001B[38;5;132;01m{\u001B[39;00mkey\u001B[38;5;132;01m}\u001B[39;00m\u001B[38;5;124m: boolean values can not be used in a slice\u001B[39m\u001B[38;5;124m\"\u001B[39m)\n",
      "\u001B[0;31mKeyError\u001B[0m: 'False: boolean label can not be used without a boolean index'"
     ]
    }
   ],
   "source": [
    "def task_8(company_size: int = None, experience_level: int = None):\n",
    "    local_data = pd.read_csv(\"../../data/ds_salaries.csv\")\n",
    "    local_df = pd.DataFrame(local_data)\n",
    "\n",
    "    if company_size:\n",
    "        _data = local_df.loc[local_data[\"company_size\"] == company_size]\n",
    "        _data[\"cut\"] = pd.cut(_data[\"salary_in_usd\"], bins=5)\n",
    "        return _data['cut'].value_counts().tolist()\n",
    "    elif experience_level:\n",
    "        _data = local_data.loc[[\"experience_level\"] == experience_level]\n",
    "        _data[\"cut\"] = pd.cut(_data[\"salary_in_usd\"], bins=5)\n",
    "        return _data['cut'].value_counts().tolist()\n",
    "    else:\n",
    "        return None\n",
    "\n",
    "experience = {'EN':10,'EX':20,'MI':30,'SE':40}\n",
    "exp_en_salary = task_8(experience_level=experience.get(\"EN\"))\n",
    "exp_ex_salary = task_8(experience_level=experience.get(\"EX\"))\n",
    "exp_mi_salary = task_8(experience_level=experience.get(\"MI\"))\n",
    "exp_se_salary = task_8(experience_level=experience.get(\"SE\"))\n",
    "\n",
    "plot_df = pd.DataFrame({experience[0]: exp_en_salary,\n",
    "                        experience[1]: exp_ex_salary,\n",
    "                        experience[2]: exp_mi_salary,\n",
    "                        experience[3]: exp_se_salary}, index=[\"EN\", \"EX\", \"MI\", \"SE\"])\n"
   ],
   "metadata": {
    "collapsed": false
   }
  },
  {
   "cell_type": "markdown",
   "source": [
    "## Part 3: Linear Algebra\n",
    "Given the below dictionarys find out where each of the 4 people find the cheapest shopping according to their needs.\n",
    "```python\n",
    "shoppers = {\n",
    "'Paula':{'Is':4,'Juice':2,'Kakao':3,'Lagkager':2},\n",
    "'Peter':{'Is':2,'Juice':5,'Kakao':0, 'Lagkager':4},\n",
    "'Pandora':{'Is':5,'Juice':3, 'Kakao':4, 'Lagkager':5},\n",
    "'Pietro':{'Is':1,'Juice':8, 'Kakao':9, 'Lagkager':1}\n",
    "}\n",
    "shop_prices = {\n",
    "    'Netto': {'Is':10.50,'Juice':2.25,'Kakao':4.50,'Lagkager':33.50},\n",
    "    'Fakta': {'Is':4.00,'Juice':4.50,'Kakao':6.25,'Lagkager':20.00}\n",
    "}\n",
    "```\n",
    "Hint: you can use pandas and Transpose to create dataframe: `pd.DataFrame(shoppers).T` to get the necessary shape of the dataframe/matrix. Also use df.to_numpy() to changes a Pandas DataFrame df into a numpy ndarray with only the numeric data"
   ],
   "metadata": {
    "collapsed": false
   }
  },
  {
   "cell_type": "code",
   "execution_count": 1,
   "metadata": {
    "collapsed": true
   },
   "outputs": [
    {
     "name": "stdout",
     "output_type": "stream",
     "text": [
      "          Netto   Fakta\n",
      "Paula    127.00   83.75\n",
      "Peter    166.25  110.50\n",
      "Pandora  244.75  158.50\n",
      "Pietro   102.50  116.25\n",
      "netto: 127.0 fakta: 83.75\n"
     ]
    }
   ],
   "source": [
    "import numpy as np\n",
    "import pandas as pd\n",
    "\n",
    "#Data\n",
    "shoppers = {\n",
    "'Paula':{'Is':4,'Juice':2,'Kakao':3,'Lagkager':2},\n",
    "'Peter':{'Is':2,'Juice':5,'Kakao':0, 'Lagkager':4},\n",
    "'Pandora':{'Is':5,'Juice':3, 'Kakao':4, 'Lagkager':5},\n",
    "'Pietro':{'Is':1,'Juice':8, 'Kakao':9, 'Lagkager':1}\n",
    "}\n",
    "shop_prices = {\n",
    "    'Netto': {'Is':10.50,'Juice':2.25,'Kakao':4.50,'Lagkager':33.50},\n",
    "    'Fakta': {'Is':4.00,'Juice':4.50,'Kakao':6.25,'Lagkager':20.00}\n",
    "}\n",
    "\n",
    "shopper_df = pd.DataFrame(shoppers).T\n",
    "prices_df = pd.DataFrame(shop_prices)\n",
    "# shoppers = p\n",
    "P = shopper_df.to_numpy()\n",
    "Q = prices_df.to_numpy()\n",
    "\n",
    "R = shopper_df.dot(prices_df)\n",
    "# R = P.dot(Q)\n",
    "print(R)\n",
    "\n",
    "prices_1 = (4 * 10.50 + 2 * 2.25 + 3 * 4.50 + 2 * 33.50)\n",
    "prices_2 = (4 * 4 + 2 * 4.50 + 3 * 6.25 + 2 * 20.00)\n",
    "\n",
    "print(f\"netto: {prices_1} fakta: {prices_2}\")\n"
   ]
  }
 ],
 "metadata": {
  "kernelspec": {
   "display_name": "Python 3",
   "language": "python",
   "name": "python3"
  },
  "language_info": {
   "codemirror_mode": {
    "name": "ipython",
    "version": 2
   },
   "file_extension": ".py",
   "mimetype": "text/x-python",
   "name": "python",
   "nbconvert_exporter": "python",
   "pygments_lexer": "ipython2",
   "version": "2.7.6"
  }
 },
 "nbformat": 4,
 "nbformat_minor": 0
}
