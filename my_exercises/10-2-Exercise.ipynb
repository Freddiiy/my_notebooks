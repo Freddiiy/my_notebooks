{
 "cells": [
  {
   "cell_type": "markdown",
   "source": [
    "## Exercise\n",
    "1. Based on above predict method calculate probability of the following 4 shapes:\n",
    "```\n",
    "\"\"\"@@@@@\n",
    "   @...@\n",
    "   @..@@\n",
    "   @...@\n",
    "   @@@@@\"\"\",\n",
    "\"\"\".@@@@\n",
    "   ....@\n",
    "   @@.@@\n",
    "   @....\n",
    "   @@@@@\"\"\",\n",
    "\"\"\"@.@.@\n",
    "   @...@\n",
    "   @@@@@\n",
    "   ....@\n",
    "   ....@\"\"\",\n",
    "\"\"\"@@@@@\n",
    "   @....\n",
    "   @@.@@\n",
    "   @...@\n",
    "   @@@@@\"\"\"\n",
    "```\n",
    "2. Plot out the images above in black and white \"pixels\" like done previously"
   ],
   "metadata": {
    "collapsed": false
   }
  },
  {
   "cell_type": "code",
   "execution_count": 30,
   "outputs": [],
   "source": [
    "import matplotlib.pyplot as plt\n",
    "import numpy as np"
   ],
   "metadata": {
    "collapsed": false
   }
  },
  {
   "cell_type": "code",
   "execution_count": 31,
   "outputs": [
    {
     "data": {
      "text/plain": "[[1, 1, 1, 1, 1, 1, 0, 0, 0, 1, 1, 0, 0, 0, 1, 1, 0, 0, 0, 1, 1, 1, 1, 1, 1],\n [0, 0, 1, 0, 0, 0, 0, 1, 0, 0, 0, 0, 1, 0, 0, 0, 0, 1, 0, 0, 0, 0, 1, 0, 0],\n [1, 1, 1, 1, 1, 0, 0, 0, 0, 1, 1, 1, 1, 1, 1, 1, 0, 0, 0, 0, 1, 1, 1, 1, 1],\n [1, 1, 1, 1, 1, 0, 0, 0, 0, 1, 1, 1, 1, 1, 1, 0, 0, 0, 0, 1, 1, 1, 1, 1, 1],\n [1, 0, 0, 0, 1, 1, 0, 0, 0, 1, 1, 1, 1, 1, 1, 0, 0, 0, 0, 1, 0, 0, 0, 0, 1],\n [1, 1, 1, 1, 1, 1, 0, 0, 0, 0, 1, 1, 1, 1, 1, 0, 0, 0, 0, 1, 1, 1, 1, 1, 1],\n [1, 1, 1, 1, 1, 1, 0, 0, 0, 0, 1, 1, 1, 1, 1, 1, 0, 0, 0, 1, 1, 1, 1, 1, 1],\n [1, 1, 1, 1, 1, 0, 0, 0, 0, 1, 0, 0, 0, 0, 1, 0, 0, 0, 0, 1, 0, 0, 0, 0, 1],\n [1, 1, 1, 1, 1, 1, 0, 0, 0, 1, 1, 1, 1, 1, 1, 1, 0, 0, 0, 1, 1, 1, 1, 1, 1],\n [1, 1, 1, 1, 1, 1, 0, 0, 0, 1, 1, 1, 1, 1, 1, 0, 0, 0, 0, 1, 1, 1, 1, 1, 1]]"
     },
     "execution_count": 31,
     "metadata": {},
     "output_type": "execute_result"
    }
   ],
   "source": [
    "raw_digits = [\n",
    "    \"\"\"@@@@@\n",
    "       @...@\n",
    "       @...@\n",
    "       @...@\n",
    "       @@@@@\"\"\",\n",
    "    \"\"\"..@..\n",
    "       ..@..\n",
    "       ..@..\n",
    "       ..@..\n",
    "       ..@..\"\"\",\n",
    "    \"\"\"@@@@@\n",
    "       ....@\n",
    "       @@@@@\n",
    "       @....\n",
    "       @@@@@\"\"\",\n",
    "    \"\"\"@@@@@\n",
    "       ....@\n",
    "       @@@@@\n",
    "       ....@\n",
    "       @@@@@\"\"\",\n",
    "    \"\"\"@...@\n",
    "       @...@\n",
    "       @@@@@\n",
    "       ....@\n",
    "       ....@\"\"\",\n",
    "    \"\"\"@@@@@\n",
    "       @....\n",
    "       @@@@@\n",
    "       ....@\n",
    "       @@@@@\"\"\",\n",
    "    \"\"\"@@@@@\n",
    "       @....\n",
    "       @@@@@\n",
    "       @...@\n",
    "       @@@@@\"\"\",\n",
    "    \"\"\"@@@@@\n",
    "       ....@\n",
    "       ....@\n",
    "       ....@\n",
    "       ....@\"\"\",\n",
    "    \"\"\"@@@@@\n",
    "       @...@\n",
    "       @@@@@\n",
    "       @...@\n",
    "       @@@@@\"\"\",\n",
    "    \"\"\"@@@@@\n",
    "       @...@\n",
    "       @@@@@\n",
    "       ....@\n",
    "       @@@@@\"\"\"]\n",
    "\n",
    "\n",
    "def make_digit(raw_digit):\n",
    "    \"\"\"transform digit set to using zeros instead of dots\"\"\"\n",
    "    return [1 if c == '@' else 0\n",
    "            for row in raw_digit.split(\"\\n\")\n",
    "            for c in row.strip()]\n",
    "\n",
    "\n",
    "inputs = [make_digit(raw_digit) for raw_digit in raw_digits]\n",
    "inputs\n"
   ],
   "metadata": {
    "collapsed": false
   }
  },
  {
   "cell_type": "code",
   "execution_count": 32,
   "outputs": [
    {
     "data": {
      "text/plain": "[[1, 0, 0, 0, 0, 0, 0, 0, 0, 0],\n [0, 1, 0, 0, 0, 0, 0, 0, 0, 0],\n [0, 0, 1, 0, 0, 0, 0, 0, 0, 0],\n [0, 0, 0, 1, 0, 0, 0, 0, 0, 0],\n [0, 0, 0, 0, 1, 0, 0, 0, 0, 0],\n [0, 0, 0, 0, 0, 1, 0, 0, 0, 0],\n [0, 0, 0, 0, 0, 0, 1, 0, 0, 0],\n [0, 0, 0, 0, 0, 0, 0, 1, 0, 0],\n [0, 0, 0, 0, 0, 0, 0, 0, 1, 0],\n [0, 0, 0, 0, 0, 0, 0, 0, 0, 1]]"
     },
     "execution_count": 32,
     "metadata": {},
     "output_type": "execute_result"
    }
   ],
   "source": [
    "# create targets as one-hot encoded matrix of 10x10 (each vector has a single one digit at the proper index)\n",
    "targets = [[1 if i == j else 0 for i in range(10)] for j in range(10)]\n",
    "targets"
   ],
   "metadata": {
    "collapsed": false
   }
  },
  {
   "cell_type": "code",
   "execution_count": 33,
   "outputs": [],
   "source": [
    "# neural network math \"primitives\"\n",
    "\n",
    "import math\n",
    "\n",
    "\n",
    "def sigmoid(t):\n",
    "    \"\"\"a step function made continous in order to use calculus (differential)\"\"\"\n",
    "    return 1 / (1 + math.exp(-t))  # t=0 -> 1/2, t=100 -> ~ 1, t=-100 -> ~0\n",
    "\n",
    "\n",
    "def neuron_output(weights, inputs):\n",
    "    \"\"\"reduces all values from input array and weights array to a value between 0 to 1\"\"\"\n",
    "    return sigmoid(dot(weights, inputs))\n",
    "\n",
    "\n",
    "def dot(v, w):\n",
    "    \"\"\"v_1 * w_1 + ... + v_n * w_n\"\"\"\n",
    "    return sum(v_i * w_i for v_i, w_i in zip(v, w))"
   ],
   "metadata": {
    "collapsed": false
   }
  },
  {
   "cell_type": "code",
   "execution_count": 34,
   "outputs": [],
   "source": [
    "def feed_forward(neural_network, input_vector):\n",
    "    \"\"\"takes in a neural network\n",
    "    (represented as a list of lists(non-input layers) of lists(neurons) of weights)\n",
    "    and returns the output from forward-propagating the input\"\"\"\n",
    "    outputs = []\n",
    "    # process one layer at a time\n",
    "    for layer in neural_network:\n",
    "        input_with_bias = input_vector + [1]  # add a bias input\n",
    "        output = [neuron_output(neuron, input_with_bias)  # compute the output\n",
    "                  for neuron in layer]  # for each neuron\n",
    "        outputs.append(output)  # and remember it\n",
    "\n",
    "        # then the input to the next layer is the output of this one\n",
    "        input_vector = output\n",
    "    return outputs"
   ],
   "metadata": {
    "collapsed": false
   }
  },
  {
   "cell_type": "code",
   "execution_count": 35,
   "outputs": [],
   "source": [
    "def backpropagate(network, input_vector, targets):\n",
    "    \"\"\"\n",
    "    1. Run feed_forward on an input vector to produce the outputs of all the neurons\n",
    "    in the network.\n",
    "    2. This results in an error for each output neuron—the difference between its out‐\n",
    "    put and its target.\n",
    "    3. Compute the gradient of this error as a function of the neuron’s weights, and\n",
    "    adjust its weights in the direction that most decreases the error.\n",
    "    4. “Propagate” these output errors backward to infer errors for the hidden layer.\n",
    "    5. Compute the gradients of these errors and adjust the hidden layer’s weights in the\n",
    "    same manner.\n",
    "    \"\"\"\n",
    "    # We assume a single hidden layer from the network given to feed_forward function\n",
    "    hidden_outputs, outputs = feed_forward(network, input_vector)\n",
    "    # the output * (1 - output) is from the derivative of sigmoid\n",
    "    output_deltas = [output * (1 - output) * (output - target)\n",
    "                     for output, target in zip(outputs, targets)]\n",
    "    # adjust weights for output layer, one neuron at a time\n",
    "    for i, output_neuron in enumerate(network[-1]):\n",
    "        # focus on the ith output layer neuron\n",
    "        for j, hidden_output in enumerate(hidden_outputs + [1]):\n",
    "            # adjust the jth weight based on both\n",
    "            # this neuron's delta and its jth input\n",
    "            output_neuron[j] -= output_deltas[i] * hidden_output\n",
    "    # back-propagate errors to hidden layer\n",
    "    hidden_deltas = [hidden_output * (1 - hidden_output) *\n",
    "                     dot(output_deltas, [n[i] for n in output_layer])\n",
    "                     for i, hidden_output in enumerate(hidden_outputs)]\n",
    "    # adjust weights for hidden layer, one neuron at a time\n",
    "    for i, hidden_neuron in enumerate(network[0]):\n",
    "        for j, input in enumerate(input_vector + [1]):\n",
    "            hidden_neuron[j] -= hidden_deltas[i] * input\n"
   ],
   "metadata": {
    "collapsed": false
   }
  },
  {
   "cell_type": "code",
   "execution_count": 36,
   "outputs": [],
   "source": [
    "def predict(in_put):\n",
    "    return feed_forward(network, in_put)[-1]"
   ],
   "metadata": {
    "collapsed": false
   }
  },
  {
   "cell_type": "code",
   "execution_count": 40,
   "outputs": [
    {
     "name": "stdout",
     "output_type": "stream",
     "text": [
      "Training the network...\n"
     ]
    },
    {
     "name": "stderr",
     "output_type": "stream",
     "text": [
      "100%|██████████| 10000/10000 [00:03<00:00, 2599.35it/s]\n"
     ]
    }
   ],
   "source": [
    "import random\n",
    "from tqdm import tqdm\n",
    "\n",
    "random.seed(0)  # to get repeatable results\n",
    "input_size = 25  # each input is a vector of length 25 (5x5 \"pixels\")\n",
    "\n",
    "num_hidden = 5  # we'll have 5 neurons in the hidden layer\n",
    "output_size = 10  # we need 10 outputs for each input\n",
    "\n",
    "# each hidden neuron has one weight per input, plus a bias weight\n",
    "hidden_layer = [[random.random() for _ in range(input_size + 1)]\n",
    "                for _ in range(num_hidden)]\n",
    "#print(hidden_layer)\n",
    "\n",
    "# each output neuron has one weight per hidden neuron, plus a bias weight\n",
    "output_layer = [[random.random() for _ in range(num_hidden + 1)]\n",
    "                for _ in range(output_size)]\n",
    "#print(output_layer)\n",
    "\n",
    "# the network starts out with random weights, one hidden layer and one output layer\n",
    "network = [hidden_layer, output_layer]\n",
    "\n",
    "print('Training the network...')\n",
    "\n",
    "# 10,000 iterations seems enough to converge\n",
    "for _ in tqdm(range(10000)):\n",
    "    for input_vector, target_vector in zip(inputs,\n",
    "                                           targets):  # inputs is a matrix of 10x25 (ten digits by 25 pixels), target is a one-hot encoded matrix of 10x10 (10 digits by 10 indices where each row has only 1 one and 9 zeroes)\n",
    "        backpropagate(network, input_vector, target_vector)"
   ],
   "metadata": {
    "collapsed": false
   }
  },
  {
   "cell_type": "code",
   "execution_count": 41,
   "outputs": [
    {
     "name": "stdout",
     "output_type": "stream",
     "text": [
      "[[1 1 1 1 1 1 0 0 0 1 1 0 0 0 1 1 0 0 0 1 1 1 1 1 1]\n",
      " [0 0 1 0 0 0 0 1 0 0 0 0 1 0 0 0 0 1 0 0 0 0 1 0 0]\n",
      " [1 1 1 1 1 0 0 0 0 1 1 1 1 1 1 1 0 0 0 0 1 1 1 1 1]\n",
      " [1 1 1 1 1 0 0 0 0 1 1 1 1 1 1 0 0 0 0 1 1 1 1 1 1]\n",
      " [1 0 0 0 1 1 0 0 0 1 1 1 1 1 1 0 0 0 0 1 0 0 0 0 1]\n",
      " [1 1 1 1 1 1 0 0 0 0 1 1 1 1 1 0 0 0 0 1 1 1 1 1 1]\n",
      " [1 1 1 1 1 1 0 0 0 0 1 1 1 1 1 1 0 0 0 1 1 1 1 1 1]\n",
      " [1 1 1 1 1 0 0 0 0 1 0 0 0 0 1 0 0 0 0 1 0 0 0 0 1]\n",
      " [1 1 1 1 1 1 0 0 0 1 1 1 1 1 1 1 0 0 0 1 1 1 1 1 1]\n",
      " [1 1 1 1 1 1 0 0 0 1 1 1 1 1 1 0 0 0 0 1 1 1 1 1 1]]\n"
     ]
    }
   ],
   "source": [
    "import numpy as np\n",
    "\n",
    "print(np.array(inputs, dtype=np.int8))\n",
    "#np.savetxt?\n",
    "np.savetxt('./simple_digit_trainingset.csv', np.array(inputs, dtype=np.int8), delimiter=',', fmt='%d')"
   ],
   "metadata": {
    "collapsed": false
   }
  },
  {
   "cell_type": "code",
   "execution_count": 44,
   "metadata": {
    "collapsed": true
   },
   "outputs": [
    {
     "data": {
      "text/plain": "<module 'matplotlib.pyplot' from '/Users/frederik/dev/docker_notebooks/venv/lib/python3.8/site-packages/matplotlib/pyplot.py'>"
     },
     "execution_count": 44,
     "metadata": {},
     "output_type": "execute_result"
    },
    {
     "data": {
      "text/plain": "<Figure size 1000x500 with 10 Axes>",
      "image/png": "[encoded data removed]"
     },
     "metadata": {},
     "output_type": "display_data"
    }
   ],
   "source": [
    "% matplotlib inline\n",
    "\n",
    "\n",
    "import csv\n",
    "import numpy as np\n",
    "import matplotlib.pyplot as plt\n",
    "\n",
    "filename = './simple_digit_trainingset.csv'\n",
    "\n",
    "\n",
    "def read_data(filename):\n",
    "    data = []\n",
    "    with open(filename) as f:\n",
    "        reader = csv.reader(f)\n",
    "        for row in reader:\n",
    "            label = reader.line_num - 1\n",
    "            image = np.array(row[:], dtype=np.int8)\n",
    "            data.append((label, image))\n",
    "    return data\n",
    "\n",
    "\n",
    "def generate_plot(data):\n",
    "    count = 0\n",
    "    f = plt.figure(figsize=(10, 5))\n",
    "    for idx, row in enumerate(data):\n",
    "        imarray = row[1].reshape((5, 5))\n",
    "        plt.subplot(2, 5, idx + 1)\n",
    "        plt.subplots_adjust(hspace=0.5)\n",
    "        count += 1\n",
    "        plt.title('Label = {}'.format(row[0]))\n",
    "        plt.imshow(imarray, cmap='Greys', interpolation='None')\n",
    "    return plt\n",
    "\n",
    "\n",
    "generate_plot(read_data(filename))"
   ]
  },
  {
   "cell_type": "code",
   "execution_count": 45,
   "outputs": [
    {
     "name": "stdout",
     "output_type": "stream",
     "text": [
      "[[0, 1, 1, 1, 0, 0, 0, 0, 1, 1, 0, 0, 1, 1, 0, 0, 0, 0, 1, 1, 0, 1, 1, 1, 0], [0, 1, 1, 1, 0, 1, 0, 0, 1, 1, 0, 1, 1, 1, 0, 1, 0, 0, 1, 1, 0, 1, 1, 1, 0], [0, 0, 1, 0, 0, 0, 0, 1, 0, 0, 0, 0, 1, 0, 0, 0, 0, 1, 0, 0, 0, 0, 1, 0, 0], [0, 1, 1, 0, 0, 0, 0, 1, 0, 0, 0, 0, 1, 0, 0, 0, 0, 1, 0, 0, 0, 0, 1, 0, 0]]\n"
     ]
    },
    {
     "data": {
      "text/plain": "<Figure size 1000x500 with 4 Axes>",
      "image/png": "[encoded data removed]"
     },
     "metadata": {},
     "output_type": "display_data"
    }
   ],
   "source": [
    "def plot_testset(data):\n",
    "    count = 0\n",
    "    f = plt.figure(figsize=(10, 5))\n",
    "    data = np.array(data)\n",
    "    for idx, row in enumerate(data):\n",
    "        imarray = row.reshape((5, 5))\n",
    "        plt.subplot(2, len(data), idx + 1)\n",
    "        plt.subplots_adjust(hspace=0.5)\n",
    "        count += 1\n",
    "        plt.imshow(imarray, cmap='Greys', interpolation='None')\n",
    "    return plt\n",
    "\n",
    "\n",
    "test_set = [[0, 1, 1, 1, 0,\n",
    "             0, 0, 0, 1, 1,\n",
    "             0, 0, 1, 1, 0,\n",
    "             0, 0, 0, 1, 1,\n",
    "             0, 1, 1, 1, 0],\n",
    "            [0, 1, 1, 1, 0,\n",
    "             1, 0, 0, 1, 1,\n",
    "             0, 1, 1, 1, 0,\n",
    "             1, 0, 0, 1, 1,\n",
    "             0, 1, 1, 1, 0],\n",
    "            [0, 0, 1, 0, 0,\n",
    "             0, 0, 1, 0, 0,\n",
    "             0, 0, 1, 0, 0,\n",
    "             0, 0, 1, 0, 0,\n",
    "             0, 0, 1, 0, 0],\n",
    "            [0, 1, 1, 0, 0,\n",
    "             0, 0, 1, 0, 0,\n",
    "             0, 0, 1, 0, 0,\n",
    "             0, 0, 1, 0, 0,\n",
    "             0, 0, 1, 0, 0]]\n",
    "print(test_set)\n",
    "plt.show(plot_testset(test_set))"
   ],
   "metadata": {
    "collapsed": false
   }
  },
  {
   "cell_type": "code",
   "execution_count": 54,
   "outputs": [
    {
     "data": {
      "text/plain": "<Figure size 1000x500 with 4 Axes>",
      "image/png": "[encoded data removed]"
     },
     "metadata": {},
     "output_type": "display_data"
    }
   ],
   "source": [
    "exercise_set = [\n",
    "    \"\"\"@@@@@\n",
    "       @...@\n",
    "       @..@@\n",
    "       @...@\n",
    "       @@@@@\"\"\",\n",
    "    \"\"\".@@@@\n",
    "       ....@\n",
    "       @@.@@\n",
    "       @....\n",
    "       @@@@@\"\"\",\n",
    "    \"\"\"@.@.@\n",
    "       @...@\n",
    "       @@@@@\n",
    "       ....@\n",
    "       ....@\"\"\",\n",
    "    \"\"\"@@@@@\n",
    "       @....\n",
    "       @@.@@\n",
    "       @...@\n",
    "       @@@@@\"\"\"\n",
    "]\n",
    "exercise_inputs = [make_digit(exercise_input) for exercise_input in exercise_set]\n",
    "\n",
    "plt.show(plot_testset(exercise_inputs))"
   ],
   "metadata": {
    "collapsed": false
   }
  },
  {
   "cell_type": "code",
   "execution_count": 61,
   "outputs": [
    {
     "name": "stdout",
     "output_type": "stream",
     "text": [
      "Prediction: 0 \n",
      " results: [9.79431736e-01 2.30954145e-18 4.71614890e-13 5.10959354e-10\n",
      " 1.77133817e-07 7.50789636e-05 1.29196111e-02 7.48696263e-03\n",
      " 4.35141276e-02 2.29516710e-07]\n",
      "Prediction: 5 \n",
      " results: [5.78985619e-10 1.21562826e-08 2.68339444e-01 3.47355431e-09\n",
      " 3.69649285e-06 9.09298080e-01 2.50389083e-03 2.73869363e-09\n",
      " 9.44395184e-04 3.21480239e-07]\n",
      "Prediction: 4 \n",
      " results: [1.26005715e-06 5.31917750e-04 3.95783355e-06 9.18780285e-06\n",
      " 6.32719047e-01 4.12701112e-09 1.22986394e-05 5.57551903e-02\n",
      " 7.65555646e-14 4.08178639e-14]\n",
      "Prediction: 0 \n",
      " results: [7.43119462e-01 2.42729424e-17 6.48007979e-11 4.81093222e-11\n",
      " 1.77559706e-06 2.15784623e-04 7.39177013e-02 8.46570201e-04\n",
      " 3.54319994e-03 2.82437020e-09]\n"
     ]
    }
   ],
   "source": [
    "for i in exercise_inputs:\n",
    "    result = predict(i)\n",
    "    result = np.array(result)\n",
    "    print(f\"Prediction: {np.argmax(result)} \\n results: {result}\")"
   ],
   "metadata": {
    "collapsed": false
   }
  }
 ],
 "metadata": {
  "kernelspec": {
   "display_name": "Python 3",
   "language": "python",
   "name": "python3"
  },
  "language_info": {
   "codemirror_mode": {
    "name": "ipython",
    "version": 2
   },
   "file_extension": ".py",
   "mimetype": "text/x-python",
   "name": "python",
   "nbconvert_exporter": "python",
   "pygments_lexer": "ipython2",
   "version": "2.7.6"
  }
 },
 "nbformat": 4,
 "nbformat_minor": 0
}
