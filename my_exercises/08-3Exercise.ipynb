{
 "cells": [
  {
   "cell_type": "markdown",
   "source": [
    "## 01 Exercise\n",
    "\n",
    "* Use the `CountVectorizer` from `sklearn.feature_extraction` to read the book `data/moby_dick.txt`\n",
    "  * How many times does the word 'wood' appear?"
   ],
   "metadata": {
    "collapsed": false
   }
  },
  {
   "cell_type": "code",
   "execution_count": 3,
   "outputs": [
    {
     "name": "stdout",
     "output_type": "stream",
     "text": [
      "[[37]]\n"
     ]
    }
   ],
   "source": [
    "from sklearn.feature_extraction.text import CountVectorizer\n",
    "\n",
    "with open(\"../data/moby_dick.txt\", \"r\") as book_file:\n",
    "    book = []\n",
    "    for line in book_file:\n",
    "        book.append(line)\n",
    "\n",
    "    vectorizer = CountVectorizer()\n",
    "    fit = vectorizer.fit_transform(book)\n",
    "    res = fit.todense()\n",
    "    wood = vectorizer.vocabulary_[\"wood\"]\n",
    "    count =  sum(res[:, wood])\n",
    "    print(count)"
   ],
   "metadata": {
    "collapsed": false
   }
  },
  {
   "cell_type": "markdown",
   "source": [
    "# Sets"
   ],
   "metadata": {
    "collapsed": false
   }
  },
  {
   "cell_type": "markdown",
   "source": [
    "* Empty set: $Ø = \\{\\}$\n",
    "* Non-empty set: $\\{1\\}$\n",
    "* Non-empty set: $\\{Red, Green\\}$\n",
    "* Distinct\n",
    "  * Set of the list $[1, 2, 2, 3]$ is $\\{1, 2, 3\\}$\n",
    "  * Set of $[Red, Green, Yellow, Green]$ is $\\{Red, Green, Yellow\\}$\n",
    "* Order doesn't matter\n",
    "  * $\\{Red, Green\\} == \\{Green, Red\\}$"
   ],
   "metadata": {
    "collapsed": false
   }
  },
  {
   "cell_type": "code",
   "execution_count": null,
   "outputs": [],
   "source": [],
   "metadata": {
    "collapsed": false
   }
  }
 ],
 "metadata": {
  "kernelspec": {
   "display_name": "Python 3",
   "language": "python",
   "name": "python3"
  },
  "language_info": {
   "codemirror_mode": {
    "name": "ipython",
    "version": 2
   },
   "file_extension": ".py",
   "mimetype": "text/x-python",
   "name": "python",
   "nbconvert_exporter": "python",
   "pygments_lexer": "ipython2",
   "version": "2.7.6"
  }
 },
 "nbformat": 4,
 "nbformat_minor": 0
}
