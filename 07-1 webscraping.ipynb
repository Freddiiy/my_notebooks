{
 "cells": [
  {
   "cell_type": "code",
   "execution_count": 1,
   "metadata": {
    "pycharm": {
     "name": "#%%\n"
    }
   },
   "outputs": [],
   "source": [
    "import warnings\n",
    "warnings.filterwarnings('ignore')"
   ]
  },
  {
   "cell_type": "markdown",
   "metadata": {
    "slideshow": {
     "slide_type": "slide"
    },
    "pycharm": {
     "name": "#%% md\n"
    }
   },
   "source": [
    "# HTML Refresher\n",
    "This part is based on chapter 11 of *Automate the Boring Stuff with Python* by Al Sweigart\n",
    "\n",
    "HTML files are plain text files containing *tags*, which are words enclosed in angle brackets. Tags tell the browser how to format the web page. A starting tag and closing tag can enclose some text to form an element. The text (or inner HTML) is the content between the starting and closing tags.\n",
    "\n",
    "There are many different tags in HTML. Some of these tags have extra properties in the form of attributes within the angle brackets. For example, the `<a>` tag encloses text that should be a link.\n",
    "\n",
    "Some elements have an `id` attribute that is used to uniquely identify the element in the page. You will often instruct your programs to seek out an element by its id attribute, so figuring out an element’s id attribute using the browser’s developer tools is a common task in writing web scraping programs."
   ]
  },
  {
   "cell_type": "code",
   "execution_count": 2,
   "metadata": {
    "pycharm": {
     "name": "#%%\n"
    }
   },
   "outputs": [],
   "source": [
    "%%bash\n",
    "cat << EOF > data/example.html\n",
    "<!DOCTYPE html>\n",
    "<html>\n",
    "<head>\n",
    "<title>Hello!</title>\n",
    "</head>\n",
    "<body>\n",
    "<h1>Hello World!</h1>\n",
    "You are extremely welcome!<br>\n",
    "<br>\n",
    "The <a href=\\\"https://github.com/datsoftlyngby/dat4sem2019spring-python-materials\\\">Lecture Notes</a>.<br>\n",
    "<div>\n",
    "<p>paragraph 1</p>\n",
    "<p>and paragraph 2: <span id=\"span01\">This is span 1</span id=\"span02\"><span id=\"span03\">Second span element</span>\n",
    "<span class=\"red_border\">Here is the third span</span>\n",
    "</p>\n",
    "</div>\n",
    "</body>\n",
    "</html>\n",
    "EOF"
   ]
  },
  {
   "cell_type": "code",
   "execution_count": 3,
   "metadata": {
    "pycharm": {
     "name": "#%%\n"
    }
   },
   "outputs": [
    {
     "name": "stdout",
     "output_type": "stream",
     "text": [
      "<!DOCTYPE html>\r\n",
      "<html>\r\n",
      "<head>\r\n",
      "<title>Hello!</title>\r\n",
      "</head>\r\n",
      "<body>\r\n",
      "<h1>Hello World!</h1>\r\n",
      "You are extremely welcome!<br>\r\n",
      "<br>\r\n",
      "The <a href=\\\"https://github.com/datsoftlyngby/dat4sem2019spring-python-materials\\\">Lecture Notes</a>.<br>\r\n",
      "<div>\r\n",
      "<p>paragraph 1</p>\r\n",
      "<p>and paragraph 2: <span id=\"span01\">This is span 1</span id=\"span02\"><span id=\"span03\">Second span element</span>\r\n",
      "<span class=\"red_border\">Here is the third span</span>\r\n",
      "</p>\r\n",
      "</div>\r\n",
      "</body>\r\n",
      "</html>\r\n"
     ]
    }
   ],
   "source": [
    "!cat data/example.html"
   ]
  },
  {
   "cell_type": "markdown",
   "metadata": {
    "slideshow": {
     "slide_type": "slide"
    },
    "pycharm": {
     "name": "#%% md\n"
    }
   },
   "source": [
    "# View a Page's HTML Sources\n",
    "\n",
    "Here, I will only describe how to use Firefox' development features.\n",
    "\n",
    "To view a page's sources right click on it and choose **View page source** which opens a new tab with the HTML sources.\n",
    "\n",
    "<img src=\"images/view_source_small.png\" width=\"500\"> "
   ]
  },
  {
   "cell_type": "markdown",
   "metadata": {
    "slideshow": {
     "slide_type": "slide"
    },
    "pycharm": {
     "name": "#%% md\n"
    }
   },
   "source": [
    "In Firefox, you can bring up the Web Developer Tools Inspector by pressing `CTRL-SHIFT-C` on Windows and Linux or by `CMD-OPTION-C` on OS X.\n",
    "\n",
    "<img src=\"images/inspector_small.png\" width=\"600\"> "
   ]
  },
  {
   "cell_type": "markdown",
   "metadata": {
    "slideshow": {
     "slide_type": "slide"
    },
    "pycharm": {
     "name": "#%% md\n"
    }
   },
   "source": [
    "# Parsing HTML with BeautifulSoup\n",
    "\n",
    "BeautifulSoup is a module for parsing and extracting information from HTML sources. The module’s name is bs4. In case it is not already installed on your machine:\n",
    "- install it with `pip install beautifulsoup4`. While beautifulsoup4 is the name used for installation, \n",
    "- to import BeautifulSoup you have to use `import bs4`.\n",
    "\n",
    "According to its documentation (https://www.crummy.com/software/BeautifulSoup/) *\"Beautiful Soup parses anything you give it, and does the tree traversal stuff for you. You can tell it \"Find all the links\", or \"Find all the links of class externalLink\", or \"Find all the links whose urls match \"foo.com\", or \"Find the table heading that's got bold text, then give me that text.\"\"*"
   ]
  },
  {
   "cell_type": "markdown",
   "metadata": {
    "slideshow": {
     "slide_type": "slide"
    },
    "pycharm": {
     "name": "#%% md\n"
    }
   },
   "source": [
    "## Creating a BeautifulSoup Object from a Local HTML File\n",
    "\n",
    "- The `bs4.BeautifulSoup()` function needs to be called with a string containing the HTML it will parse. \n",
    "- The `bs4.BeautifulSoup()` function returns is a `BeautifulSoup` object.\n",
    "\n",
    "You can load a local HTML file and pass a file object to `bs4.BeautifulSoup()`."
   ]
  },
  {
   "cell_type": "code",
   "execution_count": 4,
   "metadata": {
    "slideshow": {
     "slide_type": "slide"
    },
    "pycharm": {
     "name": "#%%\n"
    }
   },
   "outputs": [
    {
     "name": "stdout",
     "output_type": "stream",
     "text": [
      "<class 'bs4.BeautifulSoup'>\n",
      "<!DOCTYPE html>\n",
      "<html>\n",
      " <head>\n",
      "  <title>\n",
      "   Hello!\n",
      "  </title>\n",
      " </head>\n",
      " <body>\n",
      "  <h1>\n",
      "   Hello World!\n",
      "  </h1>\n",
      "  You are extremely welcome!\n",
      "  <br/>\n",
      "  <br/>\n",
      "  The\n",
      "  <a href='\\\"https://github.com/datsoftlyngby/dat4sem2019spring-python-materials\\\"'>\n",
      "   Lecture Notes\n",
      "  </a>\n",
      "  .\n",
      "  <br/>\n",
      "  <div>\n",
      "   <p>\n",
      "    paragraph 1\n",
      "   </p>\n",
      "   <p>\n",
      "    and paragraph 2:\n",
      "    <span id=\"span01\">\n",
      "     This is span 1\n",
      "    </span>\n",
      "    <span id=\"span03\">\n",
      "     Second span element\n",
      "    </span>\n",
      "    <span class=\"red_border\">\n",
      "     Here is the third span\n",
      "    </span>\n",
      "   </p>\n",
      "  </div>\n",
      " </body>\n",
      "</html>\n",
      "\n"
     ]
    }
   ],
   "source": [
    "import bs4\n",
    "\n",
    "with open('./data/example.html') as f:\n",
    "    example_html = f.read()\n",
    "    \n",
    "soup = bs4.BeautifulSoup(example_html)\n",
    "print(type(soup))\n",
    "print(soup.prettify())"
   ]
  },
  {
   "cell_type": "markdown",
   "metadata": {
    "slideshow": {
     "slide_type": "slide"
    },
    "pycharm": {
     "name": "#%% md\n"
    }
   },
   "source": [
    "## Creating a BeautifulSoup Object from a Remote HTML File\n",
    "\n"
   ]
  },
  {
   "cell_type": "code",
   "execution_count": 5,
   "metadata": {
    "slideshow": {
     "slide_type": "slide"
    },
    "pycharm": {
     "name": "#%%\n"
    }
   },
   "outputs": [
    {
     "name": "stdout",
     "output_type": "stream",
     "text": [
      "<!DOCTYPE html>\n",
      "<html data-color-mode=\"auto\" data-dark-theme=\"dark\" data-light-theme=\"light\" lang=\"en\">\n",
      " <head>\n",
      "  <meta charset=\"utf-8\"/>\n",
      "  <link href=\"https://github.githubassets.com\" rel=\"dns-prefetch\"/>\n",
      "  <link href=\"https://avatars.githubusercontent.com\" rel=\"dns-prefetch\"/>\n",
      "  <link href=\"https://github-cloud.s3.amazonaws.com\" rel=\"dns-prefetch\"/>\n",
      "  <link href=\"https://user-images.githubusercontent.com/\" rel=\"dns-prefetch\"/>\n",
      "  <link crossorigin=\"\" href=\"https://github.githubassets.com\" rel=\"preconnect\"/>\n",
      "  <link href=\"https://avatars.githubusercontent.com\" rel=\"preconnect\"/>\n",
      "  <link crossorigin=\"anonymous\" href=\"https://github.githubassets.com/assets/light-b03f3373f0e7.css\" integrity=\"sha512-sD8zc/Dn1lguLc4FdbeVhD2gfxFCTXGr/y+MpJG3oX1vkAyaFf/7BHPtvv1dAHA0KG4bDEW3Ex1EPrzGTMtN2Q==\" media=\"all\" rel=\"stylesheet\">\n",
      "   <link crossorigin=\"anonymous\" href=\"https://github.githubassets.com/assets/dark-574f3bda934d.css\" integrity=\"sha512-V0872pNNqPTaPQFzdwX9tHIzJvB4F1Foi6VYDciZAMo/qHgBC8PvN2d/SkMweiNDbR6eF3cXcG0aPVrEtC8zqw==\" media=\"all\" rel=\"stylesheet\">\n",
      "    <link crossorigin=\"anonymous\" data-color-theme=\"dark_dimmed\" data-href=\"https://github.githubassets.com/assets/dark_dimmed-3f3b94598493.css\" integrity=\"sha512-PzuUWYSTZfXfFMEstZYF7zd5TnBiunweYKf7SA0USRWwzNBPELoB8ZhGVGTwcMSwF5ff9kyBAdGzEbfJ2/4cig==\" media=\"all\" rel=\"stylesheet\">\n",
      "     <link crossorigin=\"anonymous\" data-color-theme=\"dark_high_contrast\" data-href=\"https://github.githubassets.com/assets/dark_high_contrast-3c382e4ea57\n"
     ]
    }
   ],
   "source": [
    "import bs4\n",
    "import requests\n",
    "\n",
    "\n",
    "r = requests.get('https://github.com/datsoftlyngby/dat4sem2020spring-python')\n",
    "r.raise_for_status()\n",
    "soup = bs4.BeautifulSoup(r.text, 'html.parser')\n",
    "\n",
    "print(soup.prettify()[:1500])"
   ]
  },
  {
   "cell_type": "markdown",
   "metadata": {
    "slideshow": {
     "slide_type": "slide"
    },
    "pycharm": {
     "name": "#%% md\n"
    }
   },
   "source": [
    "## Finding an Element with the `select()` Method\n",
    "\n",
    "You can retrieve HTML elements from a `BeautifulSoup` object by calling the `select()` method and passing a string of a CSS selector for the element you are looking for. Selectors are like regular expressions: They specify a pattern to look for, in this case, in HTML pages instead of general text strings.\n",
    "\n",
    "Common CSS selector patterns include:\n",
    "\n",
    "  * `soup.select('div')` ... selects all elements named `<div>`\n",
    "  * `soup.select('#lecturer')`  ... selects the element with an id attribute of author\n",
    "  * `soup.select('.notice')` ... selects all elements that use a CSS class attribute named notice\n",
    "  * `soup.select('div span')` ... selects all elements named `<span>` that are within an element named `<div>`\n",
    "  * `soup.select('div > span')` ... selects all elements named `<span>` that are directly within an element named `<div>`, with no other element in between\n",
    "  * `soup.select('input[name]')` ... selects all elements named `<input>` that have a name attribute with any value\n",
    "  * `soup.select('input[type=\"button\"]')` ... selects all elements named `<input>` that have an attribute named type with value button\n",
    "  \n",
    "See more in the documentation: https://www.crummy.com/software/BeautifulSoup/bs4/doc/#css-selectors"
   ]
  },
  {
   "cell_type": "code",
   "execution_count": 6,
   "metadata": {
    "slideshow": {
     "slide_type": "slide"
    },
    "pycharm": {
     "name": "#%%\n"
    }
   },
   "outputs": [
    {
     "name": "stdout",
     "output_type": "stream",
     "text": [
      "1: return type of select() <class 'bs4.element.ResultSet'>\n",
      "2: length of the returned list 1\n",
      "3: type of elements in the list <class 'bs4.element.Tag'>\n",
      "4: get text from the element \n",
      "Hello World!\n",
      "You are extremely welcome!\n",
      "5: string representation of an element:  <body>\n",
      "<h1>Hello World!</h1>\n",
      "You are extremely welcome!<br/>\n",
      "<br/>\n",
      "The <a href='\\\"https://github.com/datsoftlyngby/dat4sem2019spring-python-materials\\\"'>Lecture Notes</a>.<br/>\n",
      "<div>\n",
      "<p>paragraph 1</p>\n",
      "<p>and paragraph 2: <span id=\"span01\">This is span 1</span><span id=\"span03\">Second span element</span>\n",
      "<span class=\"red_border\">Here is the third span</span>\n",
      "</p>\n",
      "</div>\n",
      "</body>\n",
      "6: the attributes of the element:  {}\n",
      "{'id': 'span01'}\n",
      "{'id': 'span03'}\n",
      "{'class': ['red_border']}\n",
      "Hello!\n"
     ]
    }
   ],
   "source": [
    "import bs4\n",
    "\n",
    "\n",
    "with open('./data/example.html') as f:\n",
    "    example_html = f.read()\n",
    "\n",
    "soup = bs4.BeautifulSoup(example_html, 'html.parser')\n",
    "\n",
    "elems = soup.select('body')\n",
    "\n",
    "#print(soup.prettify())\n",
    "print('1: return type of select()',type(elems))\n",
    "print('2: length of the returned list',len(elems))\n",
    "print('3: type of elements in the list',type(elems[0]))\n",
    "print('4: get text from the element',elems[0].getText()[:40])\n",
    "print('5: string representation of an element: ',str(elems[0]))\n",
    "print('6: the attributes of the element: ',elems[0].attrs)\n",
    "elements = soup.select('div > p > span')\n",
    "for element in elements:\n",
    "    print(element.attrs)\n",
    "print(soup.title.text)"
   ]
  },
  {
   "cell_type": "code",
   "execution_count": 7,
   "metadata": {
    "slideshow": {
     "slide_type": "slide"
    },
    "pycharm": {
     "name": "#%%\n"
    }
   },
   "outputs": [
    {
     "name": "stdout",
     "output_type": "stream",
     "text": [
      "<p>paragraph 1</p>\n",
      "paragraph 1\n",
      "------------\n",
      "<p>and paragraph 2: <span id=\"span01\">This is span 1</span><span id=\"span03\">Second span element</span>\n",
      "<span class=\"red_border\">Here is the third span</span>\n",
      "</p>\n",
      "and paragraph 2: This is span 1Second span element\n",
      "Here is the third span\n",
      "\n",
      "------------\n"
     ]
    }
   ],
   "source": [
    "p_elems = soup.select('p')\n",
    "\n",
    "for el in p_elems:\n",
    "    print(str(el))\n",
    "    print(el.getText())\n",
    "    print('------------')"
   ]
  },
  {
   "cell_type": "markdown",
   "metadata": {
    "slideshow": {
     "slide_type": "slide"
    },
    "pycharm": {
     "name": "#%% md\n"
    }
   },
   "source": [
    "## Getting Data from an Element’s Attributes\n",
    "\n",
    "The `get()` method for Tag objects makes it simple to access attribute values from an element. The method is passed a string of an attribute name and returns that attribute’s value."
   ]
  },
  {
   "cell_type": "code",
   "execution_count": 8,
   "metadata": {
    "slideshow": {
     "slide_type": "slide"
    },
    "pycharm": {
     "name": "#%%\n"
    }
   },
   "outputs": [
    {
     "data": {
      "text/plain": [
       "'lecturer'"
      ]
     },
     "execution_count": 8,
     "metadata": {},
     "output_type": "execute_result"
    }
   ],
   "source": [
    "{'id': 'lecturer'}.get('id')"
   ]
  },
  {
   "cell_type": "code",
   "execution_count": 1,
   "metadata": {
    "slideshow": {
     "slide_type": "slide"
    },
    "pycharm": {
     "name": "#%%\n"
    }
   },
   "outputs": [
    {
     "name": "stdout",
     "output_type": "stream",
     "text": [
      "<span id=\"span01\">This is span 1</span>\n",
      "span01\n",
      "True\n",
      "{'id': 'span01'}\n"
     ]
    }
   ],
   "source": [
    "import bs4\n",
    "\n",
    "with open('./data/example.html') as f:\n",
    "    example_html = f.read()\n",
    "    \n",
    "soup = bs4.BeautifulSoup(example_html, 'html.parser')\n",
    "# soup.find_all?\n",
    "span_elem = soup.select('span')[0]\n",
    "print(str(span_elem))\n",
    "print(span_elem.get('id'))\n",
    "print(span_elem.get('some_nonexistent_addr') == None)\n",
    "print(span_elem.attrs)"
   ]
  },
  {
   "cell_type": "markdown",
   "metadata": {
    "slideshow": {
     "slide_type": "slide"
    },
    "pycharm": {
     "name": "#%% md\n"
    }
   },
   "source": [
    "### What is the difference between the `select` and the `find`/`find_all` functions?\n",
    "\n",
    "You are not the first ones wondering about this... See:\n",
    "https://stackoverflow.com/questions/38028384/beautifulsoup-is-there-a-difference-between-find-and-select-python-3-x#38033910"
   ]
  },
  {
   "cell_type": "markdown",
   "metadata": {
    "slideshow": {
     "slide_type": "slide"
    },
    "pycharm": {
     "name": "#%% md\n"
    }
   },
   "source": [
    "# Example Scraping Events from a Page\n",
    "\n",
    "\n",
    "Ususally, you will use web scraping to collect information, which you cannot gather otherwise. \n",
    "For example, let's imagine we want to do some statistics about:\n",
    "- concerts in Copenhagen, \n",
    "- their start times and \n",
    "- their door prices.\n",
    "\n",
    "Since we cannot find an API or any other open dataset, we decide to scrape the publicly available homepage www.kultunaut.dk, \n",
    "\n",
    "The website lists all possible events in Denmark. \n",
    "Concerts in Copenhagen are for example accessible here: \n",
    "- http://www.kultunaut.dk/perl/arrlist/type-nynaut/UK?showmap=&Area=Kbh.+og+Frederiksberg&periode=&Genre=Musik\n",
    "\n",
    "**OBS** Many web pages are not built to support high traffic or they exlicitely discourage automatic access. Keep this in mind when writing your scraping tool.\n",
    "- from time import sleep\n",
    "- sleep(3) # sleep 3 seconds\n",
    "\n",
    "\n",
    "Considering our example:\n",
    "- we have to first figure out how many events there are at all. \n",
    "- We need this information, as events are given paginated, i.e., twenty events per page.\n",
    "- The link given above only returns the link to the first page with the first twenty events. \n",
    "- Out of the total amount of events we can generate the URLs for the subsequent results."
   ]
  },
  {
   "cell_type": "code",
   "execution_count": 13,
   "metadata": {
    "pycharm": {
     "name": "#%%\n"
    }
   },
   "outputs": [],
   "source": [
    "kultunaut_url = 'https://www.kultunaut.dk/perl/arrlist/type-nynaut/UK?showmap=&Area=Kbh.+og+Frederiksberg&ArrStartdato=16%2F3+2021&ArrSlutdato=15%2F4+2021&Genre=Musik'\n",
    "kultunaut_url2 = 'https://www.kultunaut.dk/perl/arrlist/type-nynaut/UK?showmap=&Area=Kbh.+og+Frederiksberg&ArrStartdato=16%2F3+2021&ArrSlutdato=15%2F4+2021&Genre=Musik&Startnr={}'\n",
    "kultunaut_2022e = 'https://www.kultunaut.dk/perl/arrlist/type-nynaut/UK?showmap=&Area=Kbh.+og+Frederiksberg&nearmeradius=2000&ArrStartdato=15%2F3+2022&ArrSlutdato=15%2F4+2022&Genre=Musik'"
   ]
  },
  {
   "cell_type": "code",
   "execution_count": 14,
   "metadata": {
    "slideshow": {
     "slide_type": "slide"
    },
    "pycharm": {
     "name": "#%%\n"
    }
   },
   "outputs": [
    {
     "name": "stdout",
     "output_type": "stream",
     "text": [
      "no of events:  in Cph. and Frederiksberg  between 15 Mar and 15 Apr 2022\n",
      "Div with class arr-genre <div class=\"arr-genre\">\n",
      "<span class=\"genre_cat notranslate\">\n",
      "          Music\n",
      "          \n",
      "        </span>\n",
      "<h3><strong>Morgensang med Frederik Teglberg Damm</strong></h3>\n",
      "</div>\n",
      "\n",
      "\n",
      "[<strong>Morgensang med Frederik Teglberg Damm</strong>, <strong>Morgensang i Lundehus kirke</strong>, <strong>Sangarrangement</strong>, <strong>New Joy Gospel Choir</strong>, <strong>Alsang - fællessang i Kastelskirken</strong>, <strong>César Franck 200 år - samlede orgelværker I</strong>, <strong>Metroscope</strong>, <strong>The Magical Music of Harry Potter - live in concert</strong>, <strong>The Magical Music of Harry Potter - live in concert</strong>, <strong>Science &amp; Cocktails: David Wengrow</strong>, <strong>Uffe Lorenzen</strong>, <strong>Madrugada - european Tour 2022 - UDSOLGT</strong>]\n"
     ]
    }
   ],
   "source": [
    "r = requests.get(kultunaut_2022e)\n",
    "\n",
    "r.raise_for_status()\n",
    "soup = bs4.BeautifulSoup(r.text, 'html.parser')\n",
    "\n",
    "res = soup.select('.result-count > strong:nth-child(2)')[0].text\n",
    "no_of_events = res\n",
    "print('no of events: {}'.format(no_of_events))\n",
    "\n",
    "\n",
    "elems = soup.findAll('div',{'class':'arr-genre'})\n",
    "print('Div with class arr-genre',elems[0])\n",
    "print();print()\n",
    "# annother notation\n",
    "elems = soup.select('div[class=arr-genre] > h3 > strong')\n",
    "print(elems)\n",
    "#print(b_el)"
   ]
  },
  {
   "cell_type": "code",
   "execution_count": null,
   "metadata": {
    "pycharm": {
     "name": "#%%\n"
    }
   },
   "outputs": [],
   "source": [
    "div.product:nth-child(1) > a:nth-child(1) > div:nth-child(2) > div:nth-child(1) > h3:nth-child(2) > strong:nth-child(1)"
   ]
  },
  {
   "cell_type": "markdown",
   "metadata": {
    "pycharm": {
     "name": "#%% md\n"
    }
   },
   "source": [
    "### Looking at the browser inspector pane:\n",
    "\n",
    "<img src=\"images/inspect_element.png\" width=\"500\">\n",
    "\n",
    "We can see that the desired element is hiding in a structure like: a b-tag inside a h3-tag inside a td-tag or:\n",
    "- `('td h3 b')`"
   ]
  },
  {
   "cell_type": "code",
   "execution_count": null,
   "metadata": {
    "slideshow": {
     "slide_type": "slide"
    },
    "pycharm": {
     "name": "#%%\n"
    }
   },
   "outputs": [],
   "source": [
    "# use select with css-selectors rather than find_all\n",
    "import bs4\n",
    "import requests\n",
    "html = requests.get(kultunaut_url)\n",
    "txt = html.text\n",
    "soup = bs4.BeautifulSoup(txt, 'html.parser')\n",
    "events = soup.select('div[class=arr-genre] > h3 > strong')\n",
    "for e in events:\n",
    "    print(e.getText())"
   ]
  },
  {
   "cell_type": "code",
   "execution_count": null,
   "metadata": {
    "pycharm": {
     "name": "#%%\n"
    }
   },
   "outputs": [],
   "source": [
    "# Get all the links in a document\n",
    "import requests\n",
    "from bs4 import BeautifulSoup\n",
    "gov = requests.get('https://analytics.usa.gov')\n",
    "soup = BeautifulSoup(gov.text, 'lxml')\n",
    "print(soup.prettify()[:100])\n",
    "print('------------------------')\n",
    "for link in soup.find_all('a'):\n",
    "    if not link.get('href').startswith('https'):\n",
    "        continue\n",
    "    print(link.get('href'))"
   ]
  },
  {
   "cell_type": "markdown",
   "metadata": {
    "slideshow": {
     "slide_type": "slide"
    },
    "pycharm": {
     "name": "#%% md\n"
    }
   },
   "source": [
    "Now, we can scrape the events per page. Observe, that now, our `base_url` http://www.kultunaut.dk/perl/arrlist/type-nynaut/UK?Startnr={}&showmap=&Area=Kbh.%20og%20Frederiksberg&periode=&Genre=Musik& has a placeholder for the paginated results (`Startnr=`).\n",
    "\n",
    "Consequently, we scrape each page separately, see the function on the next slide: `scrape_events_per_page`. From examining the page's source code, we know that events are all given as table entries with a corresponding header. We iterate over each of the table cells and extract the strings for dates and prices if they exist."
   ]
  },
  {
   "cell_type": "code",
   "execution_count": null,
   "metadata": {
    "slideshow": {
     "slide_type": "slide"
    },
    "pycharm": {
     "name": "#%%\n"
    }
   },
   "outputs": [],
   "source": [
    "from tqdm import tqdm\n",
    "\n",
    "    \n",
    "def scrape_events_per_page(url):\n",
    "    \"\"\"\n",
    "    returns:\n",
    "        A list of tuples of strings holding title, place, date, and price\n",
    "        for concerts in Copenhagen scraped from Kulturnaut.dk\n",
    "    \"\"\"\n",
    "    r = requests.get(url)\n",
    "    r.raise_for_status()\n",
    "\n",
    "    soup = bs4.BeautifulSoup(r.text, 'html.parser')\n",
    "    event_cells = soup.find_all('div', {'class' : 'arr-info'})\n",
    "    #print('size',len(event_cells))\n",
    "    print(event_cells[0])\n",
    "    scraped_events_per_page = []\n",
    "    \n",
    "    for event_cell in event_cells:\n",
    "        try:\n",
    "            title = event_cell.select('h3 > strong')[0].text\n",
    "            rest = event_cell.find('time').text.split(',')\n",
    "            try:\n",
    "                place = rest[1]\n",
    "            except:\n",
    "                place = ''\n",
    "            try:\n",
    "                date = rest[0]\n",
    "            except:\n",
    "                date = ''\n",
    "        except Exception as e:\n",
    "            print(e)\n",
    "            continue\n",
    "            \n",
    "        scraped_events_per_page.append((title, place, date))\n",
    "        \n",
    "    return scraped_events_per_page\n",
    "\n",
    "\n",
    "scraped_events = []\n",
    "indexes = list(range(1, int(no_of_events), 12))\n",
    "indexes[0] = 0\n",
    "\n",
    "\n",
    "for idx in tqdm(indexes):\n",
    "    scrape_url = kultunaut_url2.format(idx)\n",
    "    #print(scrape_url)\n",
    "    scraped_events += scrape_events_per_page(scrape_url)"
   ]
  },
  {
   "cell_type": "code",
   "execution_count": null,
   "metadata": {
    "slideshow": {
     "slide_type": "slide"
    },
    "pycharm": {
     "name": "#%%\n"
    }
   },
   "outputs": [],
   "source": [
    "scraped_events[:20]"
   ]
  },
  {
   "cell_type": "markdown",
   "metadata": {
    "slideshow": {
     "slide_type": "slide"
    },
    "pycharm": {
     "name": "#%% md\n"
    }
   },
   "source": [
    "### How to Extract Dates and Prices from Strings.\n",
    "\n",
    "Remember, the raw data, which we extracted from the web pages is all of type `str`. To do statistics about possible correlation of start times and entry fees, we need to convert the corresponding tuple fields into datetimes and integers respectively.\n",
    "\n",
    "\n",
    "Since dates given on the web do not necessarily conform to standardized time formats, we can apply the `dateparser` (https://pypi.python.org/pypi/dateparser) module, which tries to parse arbitrary strings into datetimes.\n",
    "\n",
    "You can read more about the module and its capabilities https://dateparser.readthedocs.io/en/latest/."
   ]
  },
  {
   "cell_type": "code",
   "execution_count": null,
   "metadata": {
    "pycharm": {
     "name": "#%%\n"
    }
   },
   "outputs": [],
   "source": [
    "%%bash\n",
    "#pip install dateparser"
   ]
  },
  {
   "cell_type": "code",
   "execution_count": null,
   "metadata": {
    "scrolled": true,
    "slideshow": {
     "slide_type": "slide"
    },
    "pycharm": {
     "name": "#%%\n"
    }
   },
   "outputs": [],
   "source": [
    "from tqdm import tqdm\n",
    "import re\n",
    "from dateparser import parse\n",
    "from datetime import datetime\n",
    "\n",
    "\n",
    "def get_dates_and_prices(scraped_events):\n",
    "    \"\"\"\n",
    "    NO LONGER WORKS WELL WITH KULTUNAUT website after they changes layout and hid the prices behind a js function.\n",
    "    Cleanup the data. Get price as integer and date as date.\n",
    "    \n",
    "    returns:\n",
    "        A two-element tuple with a datetime representing the start \n",
    "        time of an event and an integer representing the price in Dkk.\n",
    "    \"\"\"\n",
    "\n",
    "    price_regexp = r\"(?P<price>\\d+)\" #initial ? is a lookbehind. r() r is for raw text, P<some pattern> is to give a pattern name to refer to. \\d is numeric digit, + is for 1 or more.\n",
    "\n",
    "    data_points = []\n",
    "    three_at_night = datetime.now().replace(hour=3, minute=0, second=0, microsecond=0).time()\n",
    "    for event_data in tqdm(scraped_events):\n",
    "        title_str, place_str, date_str, price_str = event_data\n",
    "        \n",
    "        if 'Free admission' in price_str:\n",
    "            price = 0\n",
    "        else:\n",
    "            m = re.search(price_regexp, price_str) # m is the Match object returned from re.search (might be None)\n",
    "            try:\n",
    "                price = int(m.group('price')) # if price can be converted to int then we do it else return 0.\n",
    "            except:\n",
    "                price = 0\n",
    "\n",
    "        date_str = date_str.strip().strip('.')\n",
    "        if '&' in date_str:\n",
    "            date_str = date_str.split('&')[0]\n",
    "        if '-' in date_str:\n",
    "            date_str = date_str.split('-')[0]\n",
    "        if '.' in date_str:\n",
    "            date_str = date_str.replace('.', ':')\n",
    "        \n",
    "        date = parse(date_str)\n",
    "        if date and date.time() > three_at_night:\n",
    "            data_points.append((date, price))\n",
    "            \n",
    "    return data_points\n",
    "\n",
    "def get_dates(scraped_events):\n",
    "    \"\"\"\n",
    "    Cleanup the data. Get date as date.\n",
    "    \n",
    "    returns:\n",
    "        A datetime representing the start \n",
    "        time of an event.\n",
    "    \"\"\"\n",
    "    three_at_night = datetime.now().replace(hour=3, minute=0, second=0, microsecond=0).time()\n",
    "    dates = []\n",
    "    for event_data in tqdm(scraped_events):\n",
    "        title_str, place_str, date_str = event_data\n",
    "        \n",
    "        date_str = date_str.strip().strip('.')\n",
    "        if '&' in date_str:\n",
    "            date_str = date_str.split('&')[0]\n",
    "        if '-' in date_str:\n",
    "            date_str = date_str.split('-')[0]\n",
    "        if '.' in date_str:\n",
    "            date_str = date_str.replace('.', ':')\n",
    "        \n",
    "        date = parse(date_str)\n",
    "        if date and date.time() > three_at_night:\n",
    "            dates.append(date)\n",
    "    return dates\n",
    "\n",
    "dates = get_dates(scraped_events)\n",
    "print(dates)"
   ]
  },
  {
   "cell_type": "code",
   "execution_count": null,
   "metadata": {
    "slideshow": {
     "slide_type": "slide"
    },
    "pycharm": {
     "name": "#%%\n"
    }
   },
   "outputs": [],
   "source": [
    "dates[10:20]"
   ]
  },
  {
   "cell_type": "markdown",
   "metadata": {
    "slideshow": {
     "slide_type": "slide"
    },
    "pycharm": {
     "name": "#%% md\n"
    }
   },
   "source": [
    "## Scraping Images from a Page\n",
    "\n",
    "In the following code you will use Beautiful Soup to extract all links to images, which are in `img` tags on a web page."
   ]
  },
  {
   "cell_type": "code",
   "execution_count": null,
   "metadata": {
    "scrolled": false,
    "slideshow": {
     "slide_type": "slide"
    },
    "pycharm": {
     "name": "#%%\n"
    }
   },
   "outputs": [],
   "source": [
    "import bs4\n",
    "import os\n",
    "import sys\n",
    "import requests\n",
    "import shutil\n",
    "\n",
    "\n",
    "def collect_img_links(url):\n",
    "    \"\"\"based on a url returns a list of image links contained in the requested page\"\"\"\n",
    "    r = requests.get(url)\n",
    "    r.raise_for_status()\n",
    "    soup = bs4.BeautifulSoup(r.text, 'html.parser')\n",
    "    #print(soup.select('img'))\n",
    "    return [img.get('src') for img in soup.select('img') \n",
    "            if img.get('src') and img.get('src').startswith('http')]\n",
    "\n",
    "\n",
    "def download_imgs(links, out_folder=\"./data/test/\"):\n",
    "    \"\"\"download all images from a list of image links. \n",
    "    Requires a folder named: test to be there\"\"\"\n",
    "    img_no = 0\n",
    "    for l in links:\n",
    "        img_no += 1\n",
    "        r = requests.get(l, stream=True)\n",
    "        with open(out_folder+'img'+str(img_no)+'.jpg', 'wb') as f:\n",
    "            r.raw.decode_content = True\n",
    "            shutil.copyfileobj(r.raw, f)     \n",
    "        \n",
    "links = collect_img_links('https://www.google.dk/search?site=&tbm=isch&source=hp&biw=1163&bih=812&q=minions&oq=minions')\n",
    "print(links)\n",
    "download_imgs(links)"
   ]
  },
  {
   "cell_type": "markdown",
   "metadata": {
    "pycharm": {
     "name": "#%% md\n"
    }
   },
   "source": [
    "## 01 Exercise: Writing a Simple Web Crawler\n",
    "\n",
    "1. Write a simple web scraper that can capture all images in a document (like: https://www.cphbusiness.dk/). \n",
    "2. Write to a .md file in a format so all images are shown when markdown is pasted and executed in a cell\n",
    "3. Extend the web scraper to find all links (`<a>` elements) in the document.\n",
    "4. If you have time, let the crawler find all links in the linked documents as well (so we get one more level of the hypertext graph). Use threads if helpfull.\n",
    "\n",
    "\n",
    "In case a page returns a status code, which is not `200` we just disregard this page. See https://en.wikipedia.org/wiki/List_of_HTTP_status_codes for more detailes on the various HTTP status codes.\n"
   ]
  },
  {
   "cell_type": "code",
   "execution_count": 3,
   "outputs": [],
   "source": [
    "import bs4\n",
    "import requests"
   ],
   "metadata": {
    "collapsed": false,
    "pycharm": {
     "name": "#%%\n"
    }
   }
  },
  {
   "cell_type": "code",
   "execution_count": 19,
   "outputs": [
    {
     "name": "stdout",
     "output_type": "stream",
     "text": [
      "https://www.version2.dk/sites/mi/files/styles/burger_menu_image/public/2022-03/22-uge10.png?itok=NQOAfQgS\n",
      "https://www.version2.dk/sites/mi/files/styles/burger_menu_image/public/2021-12/tm-2021-6.png?itok=HfcsRI5K\n",
      "/themes/mi/mu/images/subsite-logos/version2.svg\n",
      "/themes/mi/mu/images/subsite-switcher/ing.svg\n",
      "/themes/mi/mu/images/subsite-switcher/version2.svg\n",
      "/themes/mi/mu/images/subsite-switcher/caretech.svg\n",
      "/themes/mi/mu/images/subsite-switcher/compliancetech.svg\n",
      "/themes/mi/mu/images/subsite-switcher/datatech.svg\n",
      "/themes/mi/mu/images/subsite-switcher/digitech.svg\n",
      "/themes/mi/mu/images/subsite-switcher/edutech.svg\n",
      "/themes/mi/mu/images/subsite-switcher/facilitytech.svg\n",
      "/themes/mi/mu/images/subsite-switcher/gridtech.svg\n",
      "/themes/mi/mu/images/subsite-switcher/mobilitytech.svg\n",
      "/themes/mi/mu/images/subsite-switcher/techmanagement.svg\n",
      "/themes/mi/mu/images/subsite-switcher/wastetech.svg\n",
      "/themes/mi/mu/images/subsite-switcher/watertech.svg\n",
      "/themes/mi/mu/images/subsite-switcher/peopletech.svg\n",
      "/themes/mi/mu/images/subsite-switcher/job.svg\n",
      "/sites/mi/files/styles/job_widget/public/externals/3d52a6a5ede56003ae05f43239507a14.jpg?itok=96-2KhsO\n",
      "/sites/mi/files/styles/job_widget/public/externals/3d52a6a5ede56003ae05f43239507a14.jpg?itok=96-2KhsO\n",
      "/sites/mi/files/styles/job_widget/public/externals/3d52a6a5ede56003ae05f43239507a14.jpg?itok=96-2KhsO\n",
      "/sites/mi/files/styles/job_widget/public/externals/3d52a6a5ede56003ae05f43239507a14.jpg?itok=96-2KhsO\n",
      "/sites/mi/files/styles/job_widget/public/externals/c4c136155bea89c288932bcf75df46f8.jpg?itok=fKeVYk5P\n",
      "/sites/mi/files/styles/job_widget/public/externals/85c4bfa9c26638416064254e26876183.jpg?itok=XquCcytM\n",
      "/sites/mi/files/styles/job_widget/public/externals/f6a5ad5f92b05edc4de27518a717d67c.jpg?itok=H70sF-mW\n",
      "/sites/mi/files/styles/job_widget/public/externals/3d52a6a5ede56003ae05f43239507a14.jpg?itok=96-2KhsO\n",
      "/sites/mi/files/styles/job_widget/public/externals/3d52a6a5ede56003ae05f43239507a14.jpg?itok=96-2KhsO\n",
      "/sites/mi/files/styles/job_widget/public/externals/20f4027850727f6950e330f592b86538.png?itok=bbAoF4cG\n",
      "/sites/mi/files/styles/job_widget/public/externals/79a210d6c7ff286b9d4d50eaeda3096b.jpg?itok=2hczZa-l\n",
      "/sites/mi/files/styles/job_widget/public/externals/79a210d6c7ff286b9d4d50eaeda3096b.jpg?itok=2hczZa-l\n",
      "/yikes/pixel.gif?site=default&key=node/1074452\n",
      "/sites/mi/files/styles/job_widget/public/externals/c4c136155bea89c288932bcf75df46f8.jpg?itok=fKeVYk5P\n",
      "/sites/mi/files/styles/job_widget/public/externals/85c4bfa9c26638416064254e26876183.jpg?itok=XquCcytM\n",
      "/sites/mi/files/styles/job_widget/public/externals/f6a5ad5f92b05edc4de27518a717d67c.jpg?itok=H70sF-mW\n",
      "/sites/mi/files/styles/job_widget/public/externals/3d52a6a5ede56003ae05f43239507a14.jpg?itok=96-2KhsO\n",
      "/sites/mi/files/styles/job_widget/public/externals/3d52a6a5ede56003ae05f43239507a14.jpg?itok=96-2KhsO\n",
      "/sites/mi/files/styles/job_widget/public/externals/3d52a6a5ede56003ae05f43239507a14.jpg?itok=96-2KhsO\n",
      "/sites/mi/files/styles/job_widget/public/externals/3d52a6a5ede56003ae05f43239507a14.jpg?itok=96-2KhsO\n",
      "/sites/mi/files/styles/job_widget/public/externals/3d52a6a5ede56003ae05f43239507a14.jpg?itok=96-2KhsO\n",
      "/sites/mi/files/styles/job_widget/public/externals/3d52a6a5ede56003ae05f43239507a14.jpg?itok=96-2KhsO\n",
      "/sites/mi/files/styles/job_widget/public/externals/20f4027850727f6950e330f592b86538.png?itok=bbAoF4cG\n",
      "/sites/mi/files/styles/job_widget/public/externals/79a210d6c7ff286b9d4d50eaeda3096b.jpg?itok=2hczZa-l\n",
      "/sites/mi/files/styles/job_widget/public/externals/79a210d6c7ff286b9d4d50eaeda3096b.jpg?itok=2hczZa-l\n",
      "/sites/mi/files/styles/media_block_big/public/2022-08/20201011-160627-a-7125x4755ma.jpg?itok=2NocSz6Z\n",
      "/sites/mi/files/styles/media_block_big/public/2022-06/bigstock-Ui-Ux-Design-Concept-d-Illust-453973751.jpg?itok=m446_mko\n",
      "/sites/mi/files/styles/media_block_big/public/2022-04/bigstock-Sales-Con-Artist-Showing-Thumb-136665215.jpg?itok=5hbTlaAM\n",
      "/sites/mi/files/styles/media_block_big/public/2022-01/bigstock-hand-of-hispanic-man-holding-m-414214637.jpg?itok=r5t9QaDr\n",
      "/sites/mi/files/styles/media_block_big/public/2022-02/stemmesedler2005-villyfinkisaksen-1.jpg?itok=EEtuefIx\n",
      "/sites/mi/files/styles/media_block_big/public/2022-09/anders_og_2xsidemand.jpg?itok=v7Bhr9Wj\n",
      "<a class=\"visually-hidden focusable\" href=\"#main-content\"> Gå til hovedindhold </a>\n",
      "<a class=\"item-link item-link--subscribe\" href=\"/plus-abonnement\"> <span class=\"mdc-button__label\">Abonnement</span> </a>\n",
      "<a class=\"item-link\" data-drupal-link-system-path=\"artikler\" href=\"/artikler\">Nyheder</a>\n",
      "<a class=\"item-link\" href=\"/debat\">Blogs</a>\n",
      "<a class=\"item-link\" href=\"/seneste-debat\">Debat</a>\n",
      "<a class=\"item-link\" data-drupal-link-system-path=\"node/16303\" href=\"/fokus/schrems-ii-globale-cloud-hovedpine\">Schrems II</a>\n",
      "<a class=\"item-link\" data-drupal-link-system-path=\"node/16304\" href=\"/fokus/telelogning\">Telelogning</a>\n",
      "<a class=\"item-link\" data-drupal-link-system-path=\"node/16305\" href=\"/fokus/ny-toldforordning\">Ny toldforordning</a>\n",
      "<a class=\"item-link\" data-drupal-link-system-path=\"node/6817194\" href=\"/it-talent-2022\">IT-Talent</a>\n",
      "<a class=\"item-link\" data-drupal-link-system-path=\"node/6815174\" href=\"/fokus/nemid\">NemID</a>\n",
      "<a class=\"item-link\" data-drupal-link-system-path=\"node/6815175\" href=\"/gaming\">Gaming</a>\n",
      "<a class=\"item-link\" data-drupal-link-system-path=\"node/6815177\" href=\"/fokus/krig-i-ukraine\">Krig i Ukraine</a>\n",
      "<a class=\"item-link\" href=\"/redaktion\">Tip os</a>\n",
      "<a class=\"item-link\" href=\"http://ing.dk/events\">Event</a>\n",
      "<a class=\"item-link\" data-drupal-link-system-path=\"job\" href=\"/job\">Job</a>\n",
      "<a class=\"item-link\" href=\"https://ing.dk/insights/it\">Whitepapers &amp; webinarer</a>\n",
      "<a class=\"item-link\" href=\"https://fil.tekhus.dk/ITCOMPANYRANK/Magasin2021.pdf\">IT Company Rank</a>\n",
      "<a class=\"item-link\" data-drupal-link-system-path=\"node/28032\" href=\"/feeds\">RSS-feeds</a>\n",
      "<a href=\"mailto:support@ing.dk\">skrive til vores support</a>\n",
      "<a href=\"/\" rel=\"home\" title=\"Version2\"> <img alt=\"Version2\" class=\"navbar-logo--subsite\" src=\"/themes/mi/mu/images/subsite-logos/version2.svg\"/> </a>\n",
      "<a href=\"https://ing.dk\" rel=\"home\" title=\"Ing\"> <img alt=\"ing\" class=\"navbar-logo--subsite\" src=\"/themes/mi/mu/images/subsite-switcher/ing.svg\"/> <span class=\"subsite-arrow material-icons\">keyboard_backspace</span> </a>\n",
      "<a href=\"https://version2.dk\" rel=\"home\" title=\"Version2\"> <img alt=\"version2\" class=\"navbar-logo--subsite\" src=\"/themes/mi/mu/images/subsite-switcher/version2.svg\"/> <span class=\"subsite-arrow material-icons\">keyboard_backspace</span> </a>\n",
      "<a href=\"https://pro.ing.dk/caretech\" rel=\"home\" title=\"CareTech\"> <img alt=\"caretech\" class=\"navbar-logo--subsite\" src=\"/themes/mi/mu/images/subsite-switcher/caretech.svg\"/> <span class=\"subsite-arrow material-icons\">keyboard_backspace</span> </a>\n",
      "<a href=\"https://pro.ing.dk/compliancetech\" rel=\"home\" title=\"ComplianceTech\"> <img alt=\"compliancetech\" class=\"navbar-logo--subsite\" src=\"/themes/mi/mu/images/subsite-switcher/compliancetech.svg\"/> <span class=\"subsite-arrow material-icons\">keyboard_backspace</span> </a>\n",
      "<a href=\"https://pro.ing.dk/datatech\" rel=\"home\" title=\"DataTech\"> <img alt=\"datatech\" class=\"navbar-logo--subsite\" src=\"/themes/mi/mu/images/subsite-switcher/datatech.svg\"/> <span class=\"subsite-arrow material-icons\">keyboard_backspace</span> </a>\n",
      "<a href=\"https://pro.ing.dk/digitech\" rel=\"home\" title=\"DigiTech\"> <img alt=\"digitech\" class=\"navbar-logo--subsite\" src=\"/themes/mi/mu/images/subsite-switcher/digitech.svg\"/> <span class=\"subsite-arrow material-icons\">keyboard_backspace</span> </a>\n",
      "<a href=\"https://pro.ing.dk/edutech\" rel=\"home\" title=\"EduTech\"> <img alt=\"edutech\" class=\"navbar-logo--subsite\" src=\"/themes/mi/mu/images/subsite-switcher/edutech.svg\"/> <span class=\"subsite-arrow material-icons\">keyboard_backspace</span> </a>\n",
      "<a href=\"https://pro.ing.dk/facilitytech\" rel=\"home\" title=\"FacilityTech\"> <img alt=\"facilitytech\" class=\"navbar-logo--subsite\" src=\"/themes/mi/mu/images/subsite-switcher/facilitytech.svg\"/> <span class=\"subsite-arrow material-icons\">keyboard_backspace</span> </a>\n",
      "<a href=\"https://pro.ing.dk/gridtech\" rel=\"home\" title=\"GridTech\"> <img alt=\"gridtech\" class=\"navbar-logo--subsite\" src=\"/themes/mi/mu/images/subsite-switcher/gridtech.svg\"/> <span class=\"subsite-arrow material-icons\">keyboard_backspace</span> </a>\n",
      "<a href=\"https://pro.ing.dk/mobilitytech\" rel=\"home\" title=\"MobilityTech\"> <img alt=\"mobilitytech\" class=\"navbar-logo--subsite\" src=\"/themes/mi/mu/images/subsite-switcher/mobilitytech.svg\"/> <span class=\"subsite-arrow material-icons\">keyboard_backspace</span> </a>\n",
      "<a href=\"https://techmanagement.dk\" rel=\"home\" title=\"Tech Management\"> <img alt=\"techmanagement\" class=\"navbar-logo--subsite\" src=\"/themes/mi/mu/images/subsite-switcher/techmanagement.svg\"/> <span class=\"subsite-arrow material-icons\">keyboard_backspace</span> </a>\n",
      "<a href=\"https://pro.ing.dk/wastetech\" rel=\"home\" title=\"WasteTech\"> <img alt=\"wastetech\" class=\"navbar-logo--subsite\" src=\"/themes/mi/mu/images/subsite-switcher/wastetech.svg\"/> <span class=\"subsite-arrow material-icons\">keyboard_backspace</span> </a>\n",
      "<a href=\"https://pro.ing.dk/watertech\" rel=\"home\" title=\"WaterTech\"> <img alt=\"watertech\" class=\"navbar-logo--subsite\" src=\"/themes/mi/mu/images/subsite-switcher/watertech.svg\"/> <span class=\"subsite-arrow material-icons\">keyboard_backspace</span> </a>\n",
      "<a href=\"https://pro.ing.dk/peopletech\" rel=\"home\" title=\"PeopleTech\"> <img alt=\"peopletech\" class=\"navbar-logo--subsite\" src=\"/themes/mi/mu/images/subsite-switcher/peopletech.svg\"/> <span class=\"subsite-arrow material-icons\">keyboard_backspace</span> </a>\n",
      "<a href=\"https://jobfinder.dk\" rel=\"home\" title=\"Jobfinder\"> <img alt=\"job\" class=\"navbar-logo--subsite\" src=\"/themes/mi/mu/images/subsite-switcher/job.svg\"/> <span class=\"subsite-arrow material-icons\">keyboard_backspace</span> </a>\n",
      "<a data-drupal-link-system-path=\"artikler\" href=\"/artikler\"> <span class=\"item-link\">Nyheder</span> </a>\n",
      "<a href=\"/debat\"> <span class=\"item-link\">Blogs</span> </a>\n",
      "<a href=\"/seneste-debat\"> <span class=\"item-link\">Debat</span> </a>\n",
      "<a data-drupal-link-system-path=\"node/16303\" href=\"/fokus/schrems-ii-globale-cloud-hovedpine\"> <span class=\"item-link\">Schrems II</span> </a>\n",
      "<a data-drupal-link-system-path=\"node/16304\" href=\"/fokus/telelogning\"> <span class=\"item-link\">Telelogning</span> </a>\n",
      "<a data-drupal-link-system-path=\"node/16305\" href=\"/fokus/ny-toldforordning\"> <span class=\"item-link\">Ny toldforordning</span> </a>\n",
      "<a data-drupal-link-system-path=\"node/6817194\" href=\"/it-talent-2022\"> <span class=\"item-link\">IT-Talent</span> </a>\n",
      "<a data-drupal-link-system-path=\"node/6815174\" href=\"/fokus/nemid\"> <span class=\"item-link\">NemID</span> </a>\n",
      "<a data-drupal-link-system-path=\"node/6815175\" href=\"/gaming\"> <span class=\"item-link\">Gaming</span> </a>\n",
      "<a data-drupal-link-system-path=\"node/6815177\" href=\"/fokus/krig-i-ukraine\"> <span class=\"item-link\">Krig i Ukraine</span> </a>\n",
      "<a href=\"/redaktion\"> <span class=\"item-link\">Tip os</span> </a>\n",
      "<a href=\"http://ing.dk/events\"> <span class=\"item-link\">Event</span> </a>\n",
      "<a data-drupal-link-system-path=\"job\" href=\"/job\"> <span class=\"item-link\">Job</span> </a>\n",
      "<a href=\"https://ing.dk/insights/it\"> <span class=\"item-link\">Whitepapers &amp; webinarer</span> </a>\n",
      "<a href=\"https://fil.tekhus.dk/ITCOMPANYRANK/Magasin2021.pdf\"> <span class=\"item-link\">IT Company Rank</span> </a>\n",
      "<a data-drupal-link-system-path=\"node/28032\" href=\"/feeds\"> <span class=\"item-link\">RSS-feeds</span> </a>\n",
      "<a class=\"mdc-button button--subscribe\" href=\"/plus-abonnement\"> <span class=\"mdc-button__label\">Abonnement</span> </a>\n",
      "<a class=\"dropdown-menu__item-link\" href=\"/login?from=https%3A%2F%2Fwww.version2.dk%2Fartikel%2Fgoogle-deepmind-vi-oeger-sikkerheden-mod-misbrug-af-sundhedsdata\" rel=\"nofollow\" role=\"button\" title=\"Log ind\"> <i aria-hidden=\"true\" class=\"material-icons-round\">exit_to_app</i> Log ind </a>\n",
      "<a class=\"dropdown-menu__item-link\" href=\"https://auth.tekhus.dk/auth/ida?ext=https%3A%2F%2Fwww.version2.dk%2Fartikel%2Fgoogle-deepmind-vi-oeger-sikkerheden-mod-misbrug-af-sundhedsdata\" rel=\"nofollow\" role=\"button\" title=\"Log ind med MitIDA\"> <svg fill=\"none\" height=\"20\" viewbox=\"0 0 20 20\" width=\"20\" xmlns=\"http://www.w3.org/2000/svg\"> <path clip-rule=\"evenodd\" d=\"M4 0C1.79086 0 0 1.79086 0 4V16C0 18.2091 1.79086 20 4 20H16C18.2091 20 20 18.2091 20 16V4C20 1.79086 18.2091 0 16 0H4ZM6 8.295H6.34C6.59775 8.26809 6.85827 8.29564 7.1047 8.37584C7.35112 8.45606 7.57794 8.58714 7.77047 8.76061C7.96299 8.93408 8.11692 9.14607 8.22229 9.38283C8.32765 9.61959 8.38209 9.87585 8.38209 10.135C8.38209 10.3941 8.32765 10.6504 8.22229 10.8872C8.11692 11.1239 7.96299 11.3359 7.77047 11.5094C7.57794 11.6829 7.35112 11.8139 7.1047 11.8942C6.85827 11.9744 6.59775 12.0019 6.34 11.975H6V13.255H6.47C6.89525 13.2791 7.32094 13.2161 7.721 13.0699C8.12107 12.9237 8.48709 12.6975 8.79666 12.4049C9.10623 12.1124 9.35283 11.7597 9.52138 11.3685C9.68992 10.9774 9.77685 10.5559 9.77685 10.13C9.77685 9.70407 9.68992 9.28262 9.52138 8.89145C9.35283 8.50029 9.10623 8.14764 8.79666 7.85509C8.48709 7.56254 8.12107 7.33626 7.721 7.19009C7.32094 7.04392 6.89525 6.98093 6.47 7.005H6V8.295ZM2 7H4V13H2V7ZM14.4895 7L18 13H17.2538L14.5 8.22981L11.7357 13H11L14.4895 7Z\" fill=\"#666666\" fill-rule=\"evenodd\"></path> </svg> Log ind med MitIDA </a>\n",
      "<a class=\"dropdown-menu__item-link\" href=\"https://auth.tekhus.dk/register?from=https%3A%2F%2Fwww.version2.dk%2Fartikel%2Fgoogle-deepmind-vi-oeger-sikkerheden-mod-misbrug-af-sundhedsdata\" rel=\"nofollow\" role=\"button\" title=\"Opret bruger\"> <i aria-hidden=\"true\" class=\"material-icons-round\">person_add</i> Opret bruger </a>\n",
      "<a href=\"/emne/statistik\" rel=\"tag\" title=\"Statistik\">Statistik</a>\n",
      "<a href=\"/emne/persondata\" rel=\"tag\" title=\"Persondata\">Persondata</a>\n",
      "<a href=\"/emne/databeskyttelse\" rel=\"tag\" title=\"Databeskyttelse\">Databeskyttelse</a>\n",
      "<a href=\"/emne/compliance\" rel=\"tag\" title=\"Compliance\">Compliance</a>\n",
      "<a href=\"/emne/schrems-ii-den-globale-cloud-hovedpine\" rel=\"tag\" title=\"Schrems II: Den globale cloud-hovedpine\">Schrems II: Den globale cloud-hovedpine</a>\n",
      "<a href=\"/emne/gdpr\" rel=\"tag\" title=\"GDPR\">GDPR</a>\n",
      "<a href=\"/emne/java\" rel=\"tag\" title=\"Java\">Java</a>\n",
      "<a href=\"/emne/udvikling\" rel=\"tag\" title=\"Udvikling\">Udvikling</a>\n",
      "<a href=\"/emne/programmeringssprog\" rel=\"tag\" title=\"Programmeringssprog\">Programmeringssprog</a>\n",
      "<a href=\"/emne/teknologiforstaaelse\" rel=\"tag\" title=\"Teknologiforståelse\">Teknologiforståelse</a>\n",
      "<a href=\"/emne/rekruttering\" rel=\"tag\" title=\"Rekruttering\">Rekruttering</a>\n",
      "<a href=\"/emne/outsourcing\" rel=\"tag\" title=\"Outsourcing\">Outsourcing</a>\n",
      "<a href=\"/emne/ledelse\" rel=\"tag\" title=\"Ledelse\">Ledelse</a>\n",
      "<a href=\"/emne/drift\" rel=\"tag\" title=\"Drift\">Drift</a>\n",
      "<a href=\"/emne/tilsyn\" rel=\"tag\" title=\"Tilsyn\">Tilsyn</a>\n",
      "<a href=\"/emne/spiludvikling\" rel=\"tag\" title=\"Spiludvikling\">Spiludvikling</a>\n",
      "<a href=\"/emne/gaming\" rel=\"tag\" title=\"Gaming\">Gaming</a>\n",
      "<a href=\"/emne/spil\" rel=\"tag\" title=\"Spil\">Spil</a>\n",
      "<a href=\"/emne/forskning\" rel=\"tag\" title=\"Forskning\">Forskning</a>\n",
      "<a href=\"/emne/naturvidenskab\" rel=\"tag\" title=\"Naturvidenskab\">Naturvidenskab</a>\n",
      "<a href=\"/emne/kvanteteknologi\" rel=\"tag\" title=\"kvanteteknologi\">kvanteteknologi</a>\n",
      "<a href=\"/emne/hacking\" rel=\"tag\" title=\"Hacking\">Hacking</a>\n",
      "<a href=\"/emne/cybersikkerhed\" rel=\"tag\" title=\"Cybersikkerhed\">Cybersikkerhed</a>\n",
      "<a href=\"/emne/it-sikkerhed\" rel=\"tag\" title=\"It-sikkerhed\">It-sikkerhed</a>\n",
      "<a href=\"/emne/politik\" rel=\"tag\" title=\"Politik\">Politik</a>\n",
      "<a href=\"/emne/digitalisering\" rel=\"tag\" title=\"Digitalisering\">Digitalisering</a>\n",
      "<a href=\"/emne/offentlig-it\" rel=\"tag\" title=\"Offentlig it\">Offentlig it</a>\n",
      "<a href=\"/emne/ansigtsgenkendelse\" rel=\"tag\" title=\"Ansigtsgenkendelse\">Ansigtsgenkendelse</a>\n",
      "<a href=\"/emne/privacy\" rel=\"tag\" title=\"Privacy\">Privacy</a>\n",
      "<a href=\"/emne/ai\" rel=\"tag\" title=\"AI\">AI</a>\n",
      "<a id=\"main-content\"></a>\n",
      "<a class=\"additional-info__link\" href=\"/emne/machine-learning\" rel=\"tag\" title=\"Machine Learning\">Machine Learning</a>\n",
      "<a class=\"link-to-comments\" href=\"#comments\" title=\"Hop til debatten\"><span class=\"comments-count-icon\"></span>6</a>\n",
      "<a href=\"https://deepmind.com/blog/trust-confidence-verifiable-data-audit/\">selskabet i en blog.</a>\n",
      "<a href=\"https://mit.tekhus.dk#skills\">Dine job</a>\n",
      "<a href=\"/job\" title=\"Vis alle\">Vis alle</a>\n",
      "<a href=\"https://www.jobfinder.dk/job/it-udvikler-86534?trackid=693\" title=\"IT-udvikler\"><div class=\"job-logo\"><img alt=\"Udviklings- og Forenklingsstyrelsen\" src=\"/sites/mi/files/styles/job_widget/public/externals/3d52a6a5ede56003ae05f43239507a14.jpg?itok=96-2KhsO\"/></div><div class=\"job-title\">IT-udvikler</div></a>\n",
      "<a href=\"https://www.jobfinder.dk/job/forretningsanalytiker-med-et-ben-indenfor-it-udvikling-til-one-stop-moms-2-86533?trackid=693\" title=\"Forretningsanalytiker med et ben indenfor IT-udvikling til One Stop Moms 2\"><div class=\"job-logo\"><img alt=\"Udviklings- og Forenklingsstyrelsen\" src=\"/sites/mi/files/styles/job_widget/public/externals/3d52a6a5ede56003ae05f43239507a14.jpg?itok=96-2KhsO\"/></div><div class=\"job-title\">Forretningsanalytiker med et ben indenfor IT-udvikling til One Stop Moms 2</div></a>\n",
      "<a href=\"https://www.jobfinder.dk/job/lead-udvikler-med-ambitioner-og-interesse-test-soeges-86530?trackid=693\" title=\"Lead udvikler med ambitioner og interesse for test søges\"><div class=\"job-logo\"><img alt=\"Udviklings- og Forenklingsstyrelsen\" src=\"/sites/mi/files/styles/job_widget/public/externals/3d52a6a5ede56003ae05f43239507a14.jpg?itok=96-2KhsO\"/></div><div class=\"job-title\">Lead udvikler med ambitioner og interesse for test søges</div></a>\n",
      "<a href=\"https://www.jobfinder.dk/job/analytiske-metodekonsulenter-til-understoette-samfundsessentielle-it-udviklingsprojekter-i-86528?trackid=693\" title=\"Analytiske metodekonsulenter til at understøtte samfundsessentielle it-udviklingsprojekter i Skatteforvaltningen\"><div class=\"job-logo\"><img alt=\"Udviklings- og Forenklingsstyrelsen\" src=\"/sites/mi/files/styles/job_widget/public/externals/3d52a6a5ede56003ae05f43239507a14.jpg?itok=96-2KhsO\"/></div><div class=\"job-title\">Analytiske metodekonsulenter til at understøtte samfundsessentielle it-udviklingsprojekter i Skatteforvaltningen</div></a>\n",
      "<a href=\"https://www.jobfinder.dk/job/specialist-i-informationssikkerhed-til-forsvarsministeriets-materiel-og-indkoebsstyrelse-86387?trackid=693\" title=\"Specialist i informationssikkerhed til Forsvarsministeriets Materiel- og Indkøbsstyrelse \"><div class=\"job-logo\"><img alt=\"Forsvarsministeriets Materiel og Indkøbsstyrelse (FMI)\" src=\"/sites/mi/files/styles/job_widget/public/externals/c4c136155bea89c288932bcf75df46f8.jpg?itok=fKeVYk5P\"/></div><div class=\"job-title\">Specialist i informationssikkerhed til Forsvarsministeriets Materiel- og Indkøbsstyrelse</div></a>\n",
      "<a href=\"https://www.jobfinder.dk/job/ftsxx-teknisk-ingenioer-kandidat-el-bachelor-soeges-til-udvikling-og-drift-af-militaere-it?trackid=693\" title=\"FTSXX - Teknisk ingeniør, kandidat el. bachelor søges til udvikling og drift af militære IT-systemer.\"><div class=\"job-logo\"><img alt=\"Forsvarets Materieltjeneste\" src=\"/sites/mi/files/styles/job_widget/public/externals/85c4bfa9c26638416064254e26876183.jpg?itok=XquCcytM\"/></div><div class=\"job-title\">FTSXX - Teknisk ingeniør, kandidat el. bachelor søges til udvikling og drift af militære IT-systemer.</div></a>\n",
      "<a href=\"https://www.jobfinder.dk/job/national-air-operations-centre-paa-flyvestation-karup-soeger-en-it-specialist-med-operativ?trackid=693\" title=\"National air operations centre på flyvestation Karup søger en IT-specialist med operativ erfaring til combat support\"><div class=\"job-logo\"><img alt=\"FORSVARET\" src=\"/sites/mi/files/styles/job_widget/public/externals/f6a5ad5f92b05edc4de27518a717d67c.jpg?itok=H70sF-mW\"/></div><div class=\"job-title\">National air operations centre på flyvestation Karup søger en IT-specialist med operativ erfaring til combat support</div></a>\n",
      "<a href=\"https://www.jobfinder.dk/job/iam-procesejer-til-adgangsstyring-86451?trackid=693\" title=\"IAM procesejer til adgangsstyring\"><div class=\"job-logo\"><img alt=\"Udviklings- og Forenklingsstyrelsen\" src=\"/sites/mi/files/styles/job_widget/public/externals/3d52a6a5ede56003ae05f43239507a14.jpg?itok=96-2KhsO\"/></div><div class=\"job-title\">IAM procesejer til adgangsstyring</div></a>\n",
      "<a href=\"https://www.jobfinder.dk/job/business-analyst-til-business-intelligence-team-86450?trackid=693\" title=\"Business Analyst til Business Intelligence team\"><div class=\"job-logo\"><img alt=\"Udviklings- og Forenklingsstyrelsen\" src=\"/sites/mi/files/styles/job_widget/public/externals/3d52a6a5ede56003ae05f43239507a14.jpg?itok=96-2KhsO\"/></div><div class=\"job-title\">Business Analyst til Business Intelligence team</div></a>\n",
      "<a href=\"https://www.jobfinder.dk/job/sr-sap-planning-consultant-86446?trackid=693\" title=\"Sr. SAP Planning Consultant\"><div class=\"job-logo\"><img alt=\"Ørsted\" src=\"/sites/mi/files/styles/job_widget/public/externals/20f4027850727f6950e330f592b86538.png?itok=bbAoF4cG\"/></div><div class=\"job-title\">Sr. SAP Planning Consultant</div></a>\n",
      "<a href=\"https://www.jobfinder.dk/job/information-security-specialist-85903?trackid=693\" title=\"Information Security Specialist\"><div class=\"job-logo\"><img alt=\"MAN Energy Solutions\" src=\"/sites/mi/files/styles/job_widget/public/externals/79a210d6c7ff286b9d4d50eaeda3096b.jpg?itok=2hczZa-l\"/></div><div class=\"job-title\">Information Security Specialist</div></a>\n",
      "<a href=\"https://www.jobfinder.dk/job/specialist-i-informationssikkerhed-85902?trackid=693\" title=\"Specialist i informationssikkerhed\"><div class=\"job-logo\"><img alt=\"MAN Energy Solutions\" src=\"/sites/mi/files/styles/job_widget/public/externals/79a210d6c7ff286b9d4d50eaeda3096b.jpg?itok=2hczZa-l\"/></div><div class=\"job-title\">Specialist i informationssikkerhed</div></a>\n",
      "<a href=\"/emne/machine-learning\" rel=\"tag\" title=\"Machine Learning\">Machine Learning</a>\n",
      "<a href=\"/emne/privacy\" rel=\"tag\" title=\"Privacy\">Privacy</a>\n",
      "<a href=\"/emne/sundheds-it\" rel=\"tag\" title=\"Sundheds-it\">Sundheds-it</a>\n",
      "<a href=\"/emne/softwareloesninger\" rel=\"tag\" title=\"Softwareløsninger\">Softwareløsninger</a>\n",
      "<a class=\"link-to-comments\" href=\"#comments\" title=\"Hop til debatten\">Hop til debatten</a>\n",
      "<a href=\"https://www.facebook.com/sharer/sharer.php?u=https%3A%2F%2Fwww.version2.dk%2Fartikel%2Fgoogle-deepmind-vi-oeger-sikkerheden-mod-misbrug-af-sundhedsdata%3Futm_source%3Dfacebook%26utm_medium%3Dsocial%26utm_content%3Dsocial_bottom__date_placeholder%26utm_campaign%3Dsocialbuttons&amp;title=Google+Deepmind%3A+Vi+%C3%B8ger+sikkerheden+mod+misbrug+af+sundhedsdata\" rel=\"me\" title=\"Share the article on Facebook\"><span class=\"icon-facebook\"></span>Facebook</a>\n",
      "<a href=\"https://twitter.com/intent/tweet?original_referer=https%3A%2F%2Fwww.version2.dk%2Fartikel%2Fgoogle-deepmind-vi-oeger-sikkerheden-mod-misbrug-af-sundhedsdata&amp;via=&amp;text=Google+Deepmind%3A+Vi+%C3%B8ger+sikkerheden+mod+misbrug+af+sundhedsdata&amp;url=https%3A%2F%2Fwww.version2.dk%2Fartikel%2Fgoogle-deepmind-vi-oeger-sikkerheden-mod-misbrug-af-sundhedsdata&amp;utm_source=twitter&amp;utm_medium=social&amp;utm_content=social_bottom__date_placeholder&amp;utm_campaign=socialbuttons\" rel=\"me\" title=\"Share the article on Twitter\"><span class=\"icon-twitter\"></span>Twitter</a>\n",
      "<a href=\"https://www.linkedin.com/shareArticle?mini=true&amp;url=https%3A%2F%2Fwww.version2.dk%2Fartikel%2Fgoogle-deepmind-vi-oeger-sikkerheden-mod-misbrug-af-sundhedsdata%3Futm_source%3Dlinkedin%26utm_medium%3Dsocial%26utm_content%3Dsocial_bottom__date_placeholder&amp;utm_campaign=socialbuttons&amp;title=Google+Deepmind%3A+Vi+%C3%B8ger+sikkerheden+mod+misbrug+af+sundhedsdata\" rel=\"me\" title=\"Share the article on LinkedIn\"><span class=\"icon-linkedin\"></span>LinkedIn</a>\n",
      "<a href=\"mailto:?subject=Version2%20%7C%20Google%20Deepmind%3A%20Vi%20%C3%B8ger%20sikkerheden%20mod%20misbrug%20af%20sundhedsdata&amp;body=%0A%0AL%C3%A6s%20denne%20sp%C3%A6ndende%20nyhed%20fra%20Ingeni%C3%B8rens%20pro-medie%20Version2%3A%0A%0A%22Google%20Deepmind%3A%20Vi%20%C3%B8ger%20sikkerheden%20mod%20misbrug%20af%20sundhedsdata%22%0A%0Ahttps%3A//www.version2.dk/artikel/google-deepmind-vi-oeger-sikkerheden-mod-misbrug-af-sundhedsdata%3Futm_medium%3Demail%26utm_source%3Dwww.version2.dk%26utm_campaign%3Dtipenven%0A%0A\" rel=\"me\" title=\"Share the article on e-mail\"><span class=\"material-icons-round\">email</span>E-mail</a>\n",
      "<a class=\"button button--primary\" href=\"/plus-abonnement\">Køb abonnement</a>\n",
      "<a class=\"button button--secondary\" href=\"/plus-abonnement/proveabonnement\">Få prøveabonnement</a>\n",
      "<a href=\"https://mit.tekhus.dk#skills\">Dine job</a>\n",
      "<a href=\"/job\" title=\"Vis alle\">Vis alle</a>\n",
      "<a href=\"https://www.jobfinder.dk/job/specialist-i-informationssikkerhed-til-forsvarsministeriets-materiel-og-indkoebsstyrelse-86387?trackid=693\" title=\"Specialist i informationssikkerhed til Forsvarsministeriets Materiel- og Indkøbsstyrelse \"><div class=\"job-logo\"><img alt=\"Forsvarsministeriets Materiel og Indkøbsstyrelse (FMI)\" src=\"/sites/mi/files/styles/job_widget/public/externals/c4c136155bea89c288932bcf75df46f8.jpg?itok=fKeVYk5P\"/></div><div class=\"job-title\">Specialist i informationssikkerhed til Forsvarsministeriets Materiel- og Indkøbsstyrelse</div></a>\n",
      "<a href=\"https://www.jobfinder.dk/job/ftsxx-teknisk-ingenioer-kandidat-el-bachelor-soeges-til-udvikling-og-drift-af-militaere-it?trackid=693\" title=\"FTSXX - Teknisk ingeniør, kandidat el. bachelor søges til udvikling og drift af militære IT-systemer.\"><div class=\"job-logo\"><img alt=\"Forsvarets Materieltjeneste\" src=\"/sites/mi/files/styles/job_widget/public/externals/85c4bfa9c26638416064254e26876183.jpg?itok=XquCcytM\"/></div><div class=\"job-title\">FTSXX - Teknisk ingeniør, kandidat el. bachelor søges til udvikling og drift af militære IT-systemer.</div></a>\n",
      "<a href=\"https://www.jobfinder.dk/job/national-air-operations-centre-paa-flyvestation-karup-soeger-en-it-specialist-med-operativ?trackid=693\" title=\"National air operations centre på flyvestation Karup søger en IT-specialist med operativ erfaring til combat support\"><div class=\"job-logo\"><img alt=\"FORSVARET\" src=\"/sites/mi/files/styles/job_widget/public/externals/f6a5ad5f92b05edc4de27518a717d67c.jpg?itok=H70sF-mW\"/></div><div class=\"job-title\">National air operations centre på flyvestation Karup søger en IT-specialist med operativ erfaring til combat support</div></a>\n",
      "<a href=\"https://www.jobfinder.dk/job/iam-procesejer-til-adgangsstyring-86451?trackid=693\" title=\"IAM procesejer til adgangsstyring\"><div class=\"job-logo\"><img alt=\"Udviklings- og Forenklingsstyrelsen\" src=\"/sites/mi/files/styles/job_widget/public/externals/3d52a6a5ede56003ae05f43239507a14.jpg?itok=96-2KhsO\"/></div><div class=\"job-title\">IAM procesejer til adgangsstyring</div></a>\n",
      "<a href=\"https://www.jobfinder.dk/job/it-udvikler-86534?trackid=693\" title=\"IT-udvikler\"><div class=\"job-logo\"><img alt=\"Udviklings- og Forenklingsstyrelsen\" src=\"/sites/mi/files/styles/job_widget/public/externals/3d52a6a5ede56003ae05f43239507a14.jpg?itok=96-2KhsO\"/></div><div class=\"job-title\">IT-udvikler</div></a>\n",
      "<a href=\"https://www.jobfinder.dk/job/forretningsanalytiker-med-et-ben-indenfor-it-udvikling-til-one-stop-moms-2-86533?trackid=693\" title=\"Forretningsanalytiker med et ben indenfor IT-udvikling til One Stop Moms 2\"><div class=\"job-logo\"><img alt=\"Udviklings- og Forenklingsstyrelsen\" src=\"/sites/mi/files/styles/job_widget/public/externals/3d52a6a5ede56003ae05f43239507a14.jpg?itok=96-2KhsO\"/></div><div class=\"job-title\">Forretningsanalytiker med et ben indenfor IT-udvikling til One Stop Moms 2</div></a>\n",
      "<a href=\"https://www.jobfinder.dk/job/lead-udvikler-med-ambitioner-og-interesse-test-soeges-86530?trackid=693\" title=\"Lead udvikler med ambitioner og interesse for test søges\"><div class=\"job-logo\"><img alt=\"Udviklings- og Forenklingsstyrelsen\" src=\"/sites/mi/files/styles/job_widget/public/externals/3d52a6a5ede56003ae05f43239507a14.jpg?itok=96-2KhsO\"/></div><div class=\"job-title\">Lead udvikler med ambitioner og interesse for test søges</div></a>\n",
      "<a href=\"https://www.jobfinder.dk/job/analytiske-metodekonsulenter-til-understoette-samfundsessentielle-it-udviklingsprojekter-i-86528?trackid=693\" title=\"Analytiske metodekonsulenter til at understøtte samfundsessentielle it-udviklingsprojekter i Skatteforvaltningen\"><div class=\"job-logo\"><img alt=\"Udviklings- og Forenklingsstyrelsen\" src=\"/sites/mi/files/styles/job_widget/public/externals/3d52a6a5ede56003ae05f43239507a14.jpg?itok=96-2KhsO\"/></div><div class=\"job-title\">Analytiske metodekonsulenter til at understøtte samfundsessentielle it-udviklingsprojekter i Skatteforvaltningen</div></a>\n",
      "<a href=\"https://www.jobfinder.dk/job/business-analyst-til-business-intelligence-team-86450?trackid=693\" title=\"Business Analyst til Business Intelligence team\"><div class=\"job-logo\"><img alt=\"Udviklings- og Forenklingsstyrelsen\" src=\"/sites/mi/files/styles/job_widget/public/externals/3d52a6a5ede56003ae05f43239507a14.jpg?itok=96-2KhsO\"/></div><div class=\"job-title\">Business Analyst til Business Intelligence team</div></a>\n",
      "<a href=\"https://www.jobfinder.dk/job/sr-sap-planning-consultant-86446?trackid=693\" title=\"Sr. SAP Planning Consultant\"><div class=\"job-logo\"><img alt=\"Ørsted\" src=\"/sites/mi/files/styles/job_widget/public/externals/20f4027850727f6950e330f592b86538.png?itok=bbAoF4cG\"/></div><div class=\"job-title\">Sr. SAP Planning Consultant</div></a>\n",
      "<a href=\"https://www.jobfinder.dk/job/information-security-specialist-85903?trackid=693\" title=\"Information Security Specialist\"><div class=\"job-logo\"><img alt=\"MAN Energy Solutions\" src=\"/sites/mi/files/styles/job_widget/public/externals/79a210d6c7ff286b9d4d50eaeda3096b.jpg?itok=2hczZa-l\"/></div><div class=\"job-title\">Information Security Specialist</div></a>\n",
      "<a href=\"https://www.jobfinder.dk/job/specialist-i-informationssikkerhed-85902?trackid=693\" title=\"Specialist i informationssikkerhed\"><div class=\"job-logo\"><img alt=\"MAN Energy Solutions\" src=\"/sites/mi/files/styles/job_widget/public/externals/79a210d6c7ff286b9d4d50eaeda3096b.jpg?itok=2hczZa-l\"/></div><div class=\"job-title\">Specialist i informationssikkerhed</div></a>\n",
      "<a href=\"/artikel/it-virksomhed-skrotter-problematisk-profileringsvaerktoej\" title=\"It-virksomhed skrotter problematisk profileringsværktøj\"> <picture> <source srcset=\"/sites/mi/files/styles/media_block_big/public/2022-08/20201011-160627-a-7125x4755ma.jpg.webp?itok=2NocSz6Z\"/> <source srcset=\"/sites/mi/files/styles/media_block_big/public/2022-08/20201011-160627-a-7125x4755ma.jpg?itok=2NocSz6Z\"/> <img alt=\"It-virksomhed skrotter problematisk profileringsværktøj\" loading=\"lazy\" src=\"/sites/mi/files/styles/media_block_big/public/2022-08/20201011-160627-a-7125x4755ma.jpg?itok=2NocSz6Z\" title=\"It-virksomhed skrotter problematisk profileringsværktøj\"/> </picture> </a>\n",
      "<a href=\"/artikel/it-virksomhed-skrotter-problematisk-profileringsvaerktoej\" title=\"It-virksomhed skrotter problematisk profileringsværktøj\">It-virksomhed skrotter problematisk profileringsværktøj</a>\n",
      "<a class=\"additional-info__link\" href=\"/emne/ai\" rel=\"tag\" title=\"AI\">AI</a>\n",
      "<a class=\"link-to-comments\" href=\"/artikel/it-virksomhed-skrotter-problematisk-profileringsvaerktoej#comments\" title=\"Hop til debatten\"><span class=\"comments-count-icon\"></span>2</a>\n",
      "<a href=\"/artikel/rapport-nu-bruger-naesten-halvdelen-af-udviklerne-low-code\" title=\"Rapport: Nu bruger næsten halvdelen af udviklerne low code\"> <picture> <source srcset=\"/sites/mi/files/styles/media_block_big/public/2022-06/bigstock-Ui-Ux-Design-Concept-d-Illust-453973751.jpg.webp?itok=m446_mko\"/> <source srcset=\"/sites/mi/files/styles/media_block_big/public/2022-06/bigstock-Ui-Ux-Design-Concept-d-Illust-453973751.jpg?itok=m446_mko\"/> <img alt=\"Rapport: Nu bruger næsten halvdelen af udviklerne low code\" loading=\"lazy\" src=\"/sites/mi/files/styles/media_block_big/public/2022-06/bigstock-Ui-Ux-Design-Concept-d-Illust-453973751.jpg?itok=m446_mko\" title=\"Rapport: Nu bruger næsten halvdelen af udviklerne low code\"/> </picture> </a>\n",
      "<a href=\"/artikel/rapport-nu-bruger-naesten-halvdelen-af-udviklerne-low-code\" title=\"Rapport: Nu bruger næsten halvdelen af udviklerne low code\">Rapport: Nu bruger næsten halvdelen af udviklerne low code</a>\n",
      "<a class=\"additional-info__link\" href=\"/emne/vaerktoejer\" rel=\"tag\" title=\"Værktøjer\">Værktøjer</a>\n",
      "<a href=\"/artikel/saadan-fungerer-erhvervsstyrelsens-svindler-algoritme\" title=\"Erhvervsstyrelsen fanger svindlere med algoritmer: Knalder stråmænd på stribe\"> <picture> <source srcset=\"/sites/mi/files/styles/media_block_big/public/2022-04/bigstock-Sales-Con-Artist-Showing-Thumb-136665215.jpg.webp?itok=5hbTlaAM\"/> <source srcset=\"/sites/mi/files/styles/media_block_big/public/2022-04/bigstock-Sales-Con-Artist-Showing-Thumb-136665215.jpg?itok=5hbTlaAM\"/> <img alt=\"Erhvervsstyrelsen fanger svindlere med algoritmer: Knalder stråmænd på stribe\" loading=\"lazy\" src=\"/sites/mi/files/styles/media_block_big/public/2022-04/bigstock-Sales-Con-Artist-Showing-Thumb-136665215.jpg?itok=5hbTlaAM\" title=\"Erhvervsstyrelsen fanger svindlere med algoritmer: Knalder stråmænd på stribe\"/> </picture> </a>\n",
      "<a href=\"/artikel/saadan-fungerer-erhvervsstyrelsens-svindler-algoritme\" title=\"Erhvervsstyrelsen fanger svindlere med algoritmer: Knalder stråmænd på stribe\">Erhvervsstyrelsen fanger svindlere med algoritmer: Knalder stråmænd på stribe</a>\n",
      "<a class=\"additional-info__link\" href=\"/emne/offentlig-digitalisering\" rel=\"tag\" title=\"Offentlig digitalisering\">Offentlig digitalisering</a>\n",
      "<a class=\"link-to-comments\" href=\"/artikel/saadan-fungerer-erhvervsstyrelsens-svindler-algoritme#comments\" title=\"Hop til debatten\"><span class=\"comments-count-icon\"></span>1</a>\n",
      "<a href=\"/artikel/derfor-blev-dataetisk-raad-ikke-hoert-om-ny-skattelov\" title=\"Derfor blev Dataetisk Råd ikke hørt om ny skattelov\"> <picture> <source srcset=\"/sites/mi/files/styles/media_block_big/public/2022-01/bigstock-hand-of-hispanic-man-holding-m-414214637.jpg.webp?itok=r5t9QaDr\"/> <source srcset=\"/sites/mi/files/styles/media_block_big/public/2022-01/bigstock-hand-of-hispanic-man-holding-m-414214637.jpg?itok=r5t9QaDr\"/> <img alt=\"Derfor blev Dataetisk Råd ikke hørt om ny skattelov\" loading=\"lazy\" src=\"/sites/mi/files/styles/media_block_big/public/2022-01/bigstock-hand-of-hispanic-man-holding-m-414214637.jpg?itok=r5t9QaDr\" title=\"Derfor blev Dataetisk Råd ikke hørt om ny skattelov\"/> </picture> </a>\n",
      "<a href=\"/artikel/derfor-blev-dataetisk-raad-ikke-hoert-om-ny-skattelov\" title=\"Derfor blev Dataetisk Råd ikke hørt om ny skattelov\">Derfor blev Dataetisk Råd ikke hørt om ny skattelov</a>\n",
      "<a class=\"additional-info__link\" href=\"/emne/offentlig-it\" rel=\"tag\" title=\"Offentlig it\">Offentlig it</a>\n",
      "<a class=\"link-to-comments\" href=\"/artikel/derfor-blev-dataetisk-raad-ikke-hoert-om-ny-skattelov#comments\" title=\"Hop til debatten\"><span class=\"comments-count-icon\"></span>12</a>\n",
      "<a href=\"/artikel/eksperter-advarer-ny-lov-giver-skat-mulighed-samkoere-politiske-tilhoersforhold\" title=\"Eksperter advarer: Ny lov giver Skat mulighed for at samkøre politiske tilhørsforhold\"> <picture> <source srcset=\"/sites/mi/files/styles/media_block_big/public/2022-02/stemmesedler2005-villyfinkisaksen-1.jpg.webp?itok=EEtuefIx\"/> <source srcset=\"/sites/mi/files/styles/media_block_big/public/2022-02/stemmesedler2005-villyfinkisaksen-1.jpg?itok=EEtuefIx\"/> <img alt=\"Eksperter advarer: Ny lov giver Skat mulighed for at samkøre politiske tilhørsforhold\" loading=\"lazy\" src=\"/sites/mi/files/styles/media_block_big/public/2022-02/stemmesedler2005-villyfinkisaksen-1.jpg?itok=EEtuefIx\" title=\"Eksperter advarer: Ny lov giver Skat mulighed for at samkøre politiske tilhørsforhold\"/> </picture> </a>\n",
      "<a href=\"/artikel/eksperter-advarer-ny-lov-giver-skat-mulighed-samkoere-politiske-tilhoersforhold\" title=\"Eksperter advarer: Ny lov giver Skat mulighed for at samkøre politiske tilhørsforhold\">Eksperter advarer: Ny lov giver Skat mulighed for at samkøre politiske tilhørsforhold</a>\n",
      "<a class=\"additional-info__link\" href=\"/emne/machine-learning\" rel=\"tag\" title=\"Machine Learning\">Machine Learning</a>\n",
      "<a class=\"link-to-comments\" href=\"/artikel/eksperter-advarer-ny-lov-giver-skat-mulighed-samkoere-politiske-tilhoersforhold#comments\" title=\"Hop til debatten\"><span class=\"comments-count-icon\"></span>29</a>\n",
      "<a href=\"/sponseret-indhold/17-virksomheder-er-sammen-om-tiltraekke-de-bedste-it-folk-til-aarhus\" title=\"17 virksomheder er sammen om at tiltrække de bedste it-folk til Aarhus\"> <picture> <source srcset=\"/sites/mi/files/styles/media_block_big/public/2022-09/anders_og_2xsidemand.jpg.webp?itok=v7Bhr9Wj\"/> <source srcset=\"/sites/mi/files/styles/media_block_big/public/2022-09/anders_og_2xsidemand.jpg?itok=v7Bhr9Wj\"/> <img alt=\"17 virksomheder er sammen om at tiltrække de bedste it-folk til Aarhus\" loading=\"lazy\" src=\"/sites/mi/files/styles/media_block_big/public/2022-09/anders_og_2xsidemand.jpg?itok=v7Bhr9Wj\" title=\"17 virksomheder er sammen om at tiltrække de bedste it-folk til Aarhus\"/> </picture> </a>\n",
      "<a href=\"/sponseret-indhold/17-virksomheder-er-sammen-om-tiltraekke-de-bedste-it-folk-til-aarhus\" title=\"17 virksomheder er sammen om at tiltrække de bedste it-folk til Aarhus\">17 virksomheder er sammen om at tiltrække de bedste it-folk til Aarhus</a>\n",
      "<a class=\"additional-info__link\" href=\"/emne/karriere\" rel=\"tag\" title=\"Karriere\">Karriere</a>\n",
      "<a href=\"/login?from=https%3A%2F%2Fwww.version2.dk%2Fartikel%2Fgoogle-deepmind-vi-oeger-sikkerheden-mod-misbrug-af-sundhedsdata\" rel=\"nofollow\">Log ind</a>\n",
      "<a href=\"https://auth.tekhus.dk/register?from=https%3A%2F%2Fwww.version2.dk%2Fartikel%2Fgoogle-deepmind-vi-oeger-sikkerheden-mod-misbrug-af-sundhedsdata\" rel=\"nofollow\">opret en bruger</a>\n",
      "<a class=\"use-ajax\" data-sort=\"2\" href=\"/comments/1074452/thread/1/sort/2\" rel=\"nofollow\"> <span class=\"material-icons-round\">thumb_up</span>Bedste </a>\n",
      "<a class=\"use-ajax\" data-sort=\"0\" href=\"/comments/1074452/thread/1/sort/0\" rel=\"nofollow\"> <span class=\"material-icons-round\">wb_sunny</span>Nyeste <span class=\"trailing-icon trailing-icon--checked\"></span> </a>\n",
      "<a class=\"use-ajax\" data-sort=\"1\" href=\"/comments/1074452/thread/1/sort/1\" rel=\"nofollow\"> <span class=\"material-icons-round\">history</span>Ældste </a>\n",
      "<a class=\"dropdown-menu__item-link use-ajax\" data-thread=\"0\" href=\"/comments/1074452/thread/0/sort/0\" rel=\"nofollow\"> <span class=\"leading-icon leading-icon-svg\"></span> Trådet debat <span class=\"trailing-icon trailing-icon-svg thread-switch-on\"></span> </a>\n",
      "<a class=\"comment-chronological\" href=\"/artikel/google-deepmind-vi-oeger-sikkerheden-mod-misbrug-af-sundhedsdata#comment-353693\">6</a>\n",
      "<a href=\"/bruger/82008\" rel=\"nofollow\" title=\"Bjarne Nielsen\">Bjarne Nielsen</a>\n",
      "<a href=\"#comment-353691\" rel=\"nofollow\"><p>Anonymisering af data er een ting. Sundhedsvæsenets opfattelse af anonymisering, ser - desværre - ud til at være en helt anden ting.</p></a>\n",
      "<a class=\"disable-status\" data-entity-id=\"353693\" data-entity-type=\"comment\" rel=\"nofollow\" title=\"Like\"><span class=\"count\">1</span></a>\n",
      "<a class=\"comment-chronological\" href=\"/artikel/google-deepmind-vi-oeger-sikkerheden-mod-misbrug-af-sundhedsdata#comment-353691\">5</a>\n",
      "<a href=\"/bruger/14164\" rel=\"nofollow\" title=\"Gert Madsen\">Gert Madsen</a>\n",
      "<a href=\"#comment-353690\" rel=\"nofollow\"><p>Eftersom hospitalet skal efterleve lovgivningen, så er det jo reelt ikke et problem.</p></a>\n",
      "<a class=\"disable-status\" data-entity-id=\"353691\" data-entity-type=\"comment\" rel=\"nofollow\" title=\"Like\"><span class=\"count\">1</span></a>\n",
      "<a class=\"comment-chronological\" href=\"/artikel/google-deepmind-vi-oeger-sikkerheden-mod-misbrug-af-sundhedsdata#comment-353420\">4</a>\n",
      "<a href=\"/bruger/20185\" rel=\"nofollow\" title=\"Anne-Marie Krogsbøll\">Anne-Marie Krogsbøll</a>\n",
      "<a href=\"#comment-353419\" rel=\"nofollow\"><p>Det kan højst afsløre, at nogen har haft fingrene i kagedåsen.</p></a>\n",
      "<a class=\"disable-status\" data-entity-id=\"353420\" data-entity-type=\"comment\" rel=\"nofollow\" title=\"Like\"><span class=\"count\">0</span></a>\n",
      "<a class=\"comment-chronological\" href=\"/artikel/google-deepmind-vi-oeger-sikkerheden-mod-misbrug-af-sundhedsdata#comment-353419\">3</a>\n",
      "<a href=\"/bruger/14164\" rel=\"nofollow\" title=\"Gert Madsen\">Gert Madsen</a>\n",
      "<a href=\"#comment-353353\" rel=\"nofollow\"><p>at dette tiltag i nogen grad kan beskytte mod direkte ulovlig omgang med data</p></a>\n",
      "<a class=\"disable-status\" data-entity-id=\"353419\" data-entity-type=\"comment\" rel=\"nofollow\" title=\"Like\"><span class=\"count\">2</span></a>\n",
      "<a class=\"comment-chronological\" href=\"/artikel/google-deepmind-vi-oeger-sikkerheden-mod-misbrug-af-sundhedsdata#comment-353387\">2</a>\n",
      "<a href=\"/bruger/94511\" rel=\"nofollow\" title=\"Kenn Nielsen\">Kenn Nielsen</a>\n",
      "<a href=\"http://www.udvalgte-ordsprog.dk/at-koebe-katten-i-saekken.htm\">katten i sækken</a>\n",
      "<a class=\"disable-status\" data-entity-id=\"353387\" data-entity-type=\"comment\" rel=\"nofollow\" title=\"Like\"><span class=\"count\">1</span></a>\n",
      "<a class=\"comment-chronological\" href=\"/artikel/google-deepmind-vi-oeger-sikkerheden-mod-misbrug-af-sundhedsdata#comment-353353\">1</a>\n",
      "<a href=\"/bruger/20185\" rel=\"nofollow\" title=\"Anne-Marie Krogsbøll\">Anne-Marie Krogsbøll</a>\n",
      "<a class=\"disable-status\" data-entity-id=\"353353\" data-entity-type=\"comment\" rel=\"nofollow\" title=\"Like\"><span class=\"count\">2</span></a>\n",
      "<a href=\"http://teknologiensmediehus.dk/about\">Mere om Teknologiens Mediehus</a>\n",
      "<a href=\"https://ing.dk/abonnementstyper/\">vores forskellige abonnementstyper</a>\n",
      "<a href=\"https://ing.dk/nyhedsbreve\">Med vores nyhedsbreve</a>\n",
      "<a href=\"https://desk.zoho.com/portal/teknologiensmediehus/da/kb/tekhus\">Har du brug for hjælp?</a>\n",
      "<a href=\"https://pro.ing.dk/annoncer-hos-os\" title=\"Hvad kan vi tilbyde?\">Hvad kan vi tilbyde?</a>\n",
      "<a href=\"http://teknologiensmediehus.dk/annoncering/tech-relations\" title=\"Tech Relations\">Tech Relations</a>\n",
      "<a href=\"https://www.jobfinder.dk/jobs\" rel=\"nofollow\" title=\"Find job\">Find job</a>\n",
      "<a href=\"https://www.jobfinder.dk/recruiter\" rel=\"nofollow\" title=\"Indryk job\">Indryk job</a>\n",
      "<a href=\"http://teknologiensmediehus.dk/about#salg-job\" title=\"Kontakt salg\">Kontakt salg</a>\n",
      "<a href=\"https://teknologiensmediehus.dk/about#kontakt-redaktionen\" title=\"Kontakt redaktionen\">Kontakt redaktionen</a>\n",
      "<a href=\"https://teknologiensmediehus.dk/about\" rel=\"nofollow\">Om</a>\n",
      "<a data-drupal-link-system-path=\"node/8\" href=\"/kontakt\" rel=\"nofollow\">Kontakt</a>\n",
      "<a href=\"https://teknologiensmediehus.dk/politikker\" rel=\"nofollow\">Vores politikker</a>\n",
      "<a href=\"https://pro.ing.dk/priser-og-abonnementsvilkar\" rel=\"nofollow\">Priser og abonnementsbetingelser</a>\n",
      "<a href=\"https://teknologiensmediehus.dk/annoncering/ingenioren-online\" rel=\"nofollow\">Annoncer hos os</a>\n",
      "<a data-drupal-link-system-path=\"cookiedeklaration\" href=\"/cookiedeklaration\" rel=\"nofollow\">Cookiedeklaration</a>\n"
     ]
    }
   ],
   "source": [
    "def scrape_links(from_url, for_depth, all_links={}):\n",
    "    # TODO: Implement code for websraper\n",
    "    # return dict(key=url, value=list of outgoing urls)\n",
    "    res = requests.get(from_url)\n",
    "    res.raise_for_status()\n",
    "    soup = bs4.BeautifulSoup(res.text, 'html.parser')\n",
    "    imgs = soup.find_all(\"img\")\n",
    "    a_tags = soup.find_all(\"a\")\n",
    "\n",
    "    img_urls = [img[\"src\"] for img in imgs]\n",
    "\n",
    "    for url in img_urls:\n",
    "        with open(\"data/scraped_img.md\", \"a\") as scraped_img:\n",
    "            print(url)\n",
    "            scraped_img.write(f\"{url}\\n\")\n",
    "\n",
    "    for a_tag in a_tags:\n",
    "        with open(\"data/scraped_a_tags.md\", \"a\") as scraped_a_tags:\n",
    "            print(a_tag)\n",
    "            scraped_a_tags.write(f\"{a_tags}\\n\")\n",
    "\n",
    "\n",
    "start_url = 'https://www.version2.dk/artikel/google-deepmind-vi-oeger-sikkerheden-mod-misbrug-sundhedsdata-1074452'\n",
    "\n",
    "link_dict = scrape_links(from_url=start_url, for_depth=2)"
   ],
   "metadata": {
    "collapsed": false,
    "pycharm": {
     "name": "#%%\n"
    }
   }
  },
  {
   "cell_type": "markdown",
   "metadata": {
    "slideshow": {
     "slide_type": "slide"
    },
    "pycharm": {
     "name": "#%% md\n"
    }
   },
   "source": [
    "The web crawler that you wrote above is perhaps not the most performant. If you are interested in more web scraping and application of crawlers have a look at the `scrapy` module (https://scrapy.org)"
   ]
  }
 ],
 "metadata": {
  "celltoolbar": "Slideshow",
  "kernelspec": {
   "display_name": "Python 3",
   "language": "python",
   "name": "python3"
  },
  "language_info": {
   "codemirror_mode": {
    "name": "ipython",
    "version": 3
   },
   "file_extension": ".py",
   "mimetype": "text/x-python",
   "name": "python",
   "nbconvert_exporter": "python",
   "pygments_lexer": "ipython3",
   "version": "3.7.6"
  },
  "varInspector": {
   "cols": {
    "lenName": 16,
    "lenType": 16,
    "lenVar": 40
   },
   "kernels_config": {
    "python": {
     "delete_cmd_postfix": "",
     "delete_cmd_prefix": "del ",
     "library": "var_list.py",
     "varRefreshCmd": "print(var_dic_list())"
    },
    "r": {
     "delete_cmd_postfix": ") ",
     "delete_cmd_prefix": "rm(",
     "library": "var_list.r",
     "varRefreshCmd": "cat(var_dic_list()) "
    }
   },
   "types_to_exclude": [
    "module",
    "function",
    "builtin_function_or_method",
    "instance",
    "_Feature"
   ],
   "window_display": false
  }
 },
 "nbformat": 4,
 "nbformat_minor": 2
}